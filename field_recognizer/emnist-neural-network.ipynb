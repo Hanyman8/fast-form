{
 "cells": [
  {
   "cell_type": "code",
   "execution_count": 1,
   "metadata": {},
   "outputs": [],
   "source": [
    "import os\n",
    "\n",
    "import numpy as np\n",
    "import pandas as pd\n",
    "import PIL.Image\n",
    "from IPython.display import Image\n",
    "import cv2"
   ]
  },
  {
   "cell_type": "code",
   "execution_count": 2,
   "metadata": {},
   "outputs": [
    {
     "data": {
      "text/plain": [
       "'/home/adam/Workspace/personal/unihack/fast-form'"
      ]
     },
     "execution_count": 2,
     "metadata": {},
     "output_type": "execute_result"
    }
   ],
   "source": [
    "os.chdir(\"../\")\n",
    "os.getcwd()"
   ]
  },
  {
   "cell_type": "markdown",
   "metadata": {},
   "source": [
    "## load dataset"
   ]
  },
  {
   "cell_type": "code",
   "execution_count": 3,
   "metadata": {
    "_cell_guid": "f2e9cf0b-4025-4de3-b57b-bae842beef1c",
    "_uuid": "4e52b01454a737738ed560d4e25bf770572d57e2"
   },
   "outputs": [],
   "source": [
    "# train_db = pd.read_csv(\"training_data/emnist-balanced-train.csv\")\n",
    "# test_db  = pd.read_csv(\"training_data/emnist-balanced-test.csv\")\n",
    "\n",
    "train_db = pd.read_csv(\"training_data/emnist-balanced-enriched-train.csv\")\n",
    "test_db  = pd.read_csv(\"training_data/emnist-balanced-enriched-test.csv\")"
   ]
  },
  {
   "cell_type": "code",
   "execution_count": 4,
   "metadata": {},
   "outputs": [
    {
     "name": "stdout",
     "output_type": "stream",
     "text": [
      "{0: '0', 1: '1', 2: '2', 3: '3', 4: '4', 5: '5', 6: '6', 7: '7', 8: '8', 9: '9', 10: 'A', 11: 'B', 12: 'C', 13: 'D', 14: 'E', 15: 'F', 16: 'G', 17: 'H', 18: 'I', 19: 'J', 20: 'K', 21: 'L', 22: 'M', 23: 'N', 24: 'O', 25: 'P', 26: 'Q', 27: 'R', 28: 'S', 29: 'T', 30: 'U', 31: 'V', 32: 'W', 33: 'X', 34: 'Y', 35: 'Z', 36: 'a', 37: 'b', 38: 'd', 39: 'e', 40: 'f', 41: 'g', 42: 'h', 43: 'n', 44: 'q', 45: 'r', 46: 't'}\n"
     ]
    }
   ],
   "source": [
    "with open(\"model_data/emnist-balanced-mapping.txt\") as f:\n",
    "    s = f.read()[:-1] # remove last char \\n\n",
    "a = [l.split(\" \") for l in s.split(\"\\n\")]\n",
    "res_mapper = {int(l[0]): chr(int(l[1])) for l in a}\n",
    "print(res_mapper)"
   ]
  },
  {
   "cell_type": "markdown",
   "metadata": {},
   "source": [
    "# filter only capital letters"
   ]
  },
  {
   "cell_type": "code",
   "execution_count": 5,
   "metadata": {},
   "outputs": [],
   "source": [
    "def filter_letters(df):\n",
    "    return df[df.iloc[:,0].apply(lambda x: 65 <= ord(res_mapper.get(x,\"0\")) <= 90)]\n",
    "\n",
    "train_db = filter_letters(train_db)\n",
    "test_db = filter_letters(test_db)"
   ]
  },
  {
   "cell_type": "markdown",
   "metadata": {},
   "source": [
    "First, you might want to enrich the dataset - in separate notebook."
   ]
  },
  {
   "cell_type": "markdown",
   "metadata": {},
   "source": [
    "# train model"
   ]
  },
  {
   "cell_type": "code",
   "execution_count": 6,
   "metadata": {
    "_cell_guid": "db92487d-656a-4cec-958a-0c0c2864a2e6",
    "_uuid": "6124d2bf78a6b9b237cd4e25c0ae3986f060abbd"
   },
   "outputs": [
    {
     "name": "stderr",
     "output_type": "stream",
     "text": [
      "Using TensorFlow backend.\n"
     ]
    },
    {
     "name": "stdout",
     "output_type": "stream",
     "text": [
      "y_train: (124800, 47)\n",
      "x_train: (124800, 784)\n"
     ]
    },
    {
     "name": "stderr",
     "output_type": "stream",
     "text": [
      "/usr/local/lib/python3.7/dist-packages/ipykernel_launcher.py:20: UserWarning: Update your `Model` call to the Keras 2 API: `Model(inputs=Tensor(\"in..., outputs=Tensor(\"de...)`\n",
      "/usr/local/lib/python3.7/dist-packages/ipykernel_launcher.py:28: UserWarning: The `nb_epoch` argument in `fit` has been renamed `epochs`.\n"
     ]
    },
    {
     "name": "stdout",
     "output_type": "stream",
     "text": [
      "Train on 112320 samples, validate on 12480 samples\n",
      "Epoch 1/10\n",
      "112320/112320 [==============================] - 10s 92us/step - loss: 1.1264 - accuracy: 0.6945 - val_loss: 0.9931 - val_accuracy: 0.7204\n",
      "Epoch 2/10\n",
      "112320/112320 [==============================] - 10s 91us/step - loss: 0.5206 - accuracy: 0.8545 - val_loss: 0.6216 - val_accuracy: 0.8276\n",
      "Epoch 3/10\n",
      "112320/112320 [==============================] - 10s 92us/step - loss: 0.3653 - accuracy: 0.8947 - val_loss: 0.5018 - val_accuracy: 0.8566\n",
      "Epoch 4/10\n",
      "112320/112320 [==============================] - 10s 90us/step - loss: 0.2911 - accuracy: 0.9152 - val_loss: 0.4393 - val_accuracy: 0.8690\n",
      "Epoch 5/10\n",
      "112320/112320 [==============================] - 11s 94us/step - loss: 0.2454 - accuracy: 0.9261 - val_loss: 0.3962 - val_accuracy: 0.8800\n",
      "Epoch 6/10\n",
      "112320/112320 [==============================] - 10s 92us/step - loss: 0.2124 - accuracy: 0.9351 - val_loss: 0.3817 - val_accuracy: 0.8813\n",
      "Epoch 7/10\n",
      "112320/112320 [==============================] - 10s 90us/step - loss: 0.1873 - accuracy: 0.9419 - val_loss: 0.3563 - val_accuracy: 0.8902\n",
      "Epoch 8/10\n",
      "112320/112320 [==============================] - 10s 89us/step - loss: 0.1655 - accuracy: 0.9484 - val_loss: 0.3432 - val_accuracy: 0.8896\n",
      "Epoch 9/10\n",
      "112320/112320 [==============================] - 11s 96us/step - loss: 0.1471 - accuracy: 0.9545 - val_loss: 0.3286 - val_accuracy: 0.8977\n",
      "Epoch 10/10\n",
      "112320/112320 [==============================] - 12s 103us/step - loss: 0.1329 - accuracy: 0.9586 - val_loss: 0.3312 - val_accuracy: 0.8945\n",
      "y_test: (20800, 47)\n",
      "x_test: (124800, 784)\n",
      "20800/20800 [==============================] - 2s 106us/step\n",
      "[0.29795321712986783, 0.910528838634491]\n"
     ]
    }
   ],
   "source": [
    "from keras.utils import np_utils\n",
    "from keras.layers import Input, Dense, Dropout\n",
    "from keras.models import Model\n",
    "from keras.models import model_from_json\n",
    "\n",
    "num_classes = 47\n",
    "y_train = train_db.iloc[:,0]\n",
    "y_train = np_utils.to_categorical(y_train, num_classes)\n",
    "print (\"y_train:\", y_train.shape)\n",
    "\n",
    "x_train = train_db.iloc[:,1:]\n",
    "x_train = x_train.astype('float32')\n",
    "x_train /= 255\n",
    "print (\"x_train:\",x_train.shape)\n",
    "\n",
    "inp = Input(shape=(784,))\n",
    "hidden_1 = Dense(1024, activation='relu')(inp)\n",
    "dropout_1 = Dropout(0.2)(hidden_1)\n",
    "out = Dense(num_classes, activation='softmax')(hidden_1)\n",
    "model = Model(input=inp, output=out)\n",
    "\n",
    "model.compile(loss='categorical_crossentropy', # using the cross-entropy loss function\n",
    "              optimizer='adam', # using the Adam optimiser\n",
    "              metrics=['accuracy']) # reporting the accuracy\n",
    "\n",
    "model.fit(x_train, y_train, # Train the model using the training set...\n",
    "          batch_size=512, nb_epoch=10,\n",
    "          verbose=1, validation_split=0.1) # ...holding out 10% of the data for validation\n",
    "\n",
    "y_test = test_db.iloc[:,0]\n",
    "y_test = np_utils.to_categorical(y_test, num_classes)\n",
    "print (\"y_test:\", y_test.shape)\n",
    "\n",
    "x_test = test_db.iloc[:,1:]\n",
    "x_test = x_test.astype('float32')\n",
    "x_test /= 255\n",
    "print (\"x_test:\",x_train.shape)\n",
    "\n",
    "print(model.evaluate(x_test, y_test, verbose=1)) # Evaluate the trained model on the test set!"
   ]
  },
  {
   "cell_type": "code",
   "execution_count": 7,
   "metadata": {},
   "outputs": [
    {
     "name": "stdout",
     "output_type": "stream",
     "text": [
      "accuracy: 91.05%\n"
     ]
    }
   ],
   "source": [
    "scores = model.evaluate(x_test, y_test, verbose=0)\n",
    "print(\"%s: %.2f%%\" % (model.metrics_names[1], scores[1]*100))"
   ]
  },
  {
   "cell_type": "markdown",
   "metadata": {},
   "source": [
    "## model save/load"
   ]
  },
  {
   "cell_type": "code",
   "execution_count": 8,
   "metadata": {},
   "outputs": [
    {
     "name": "stdout",
     "output_type": "stream",
     "text": [
      "accuracy: 91.05%\n",
      "Saved model to disk\n",
      "Loaded model from disk\n",
      "accuracy: 91.05%\n"
     ]
    }
   ],
   "source": [
    "scores = model.evaluate(x_test, y_test, verbose=0)\n",
    "print(\"%s: %.2f%%\" % (model.metrics_names[1], scores[1]*100))\n",
    " \n",
    "# serialize model to JSON\n",
    "model_json = model.to_json()\n",
    "with open(\"model_data/model.json\", \"w\") as json_file:\n",
    "    json_file.write(model_json)\n",
    "# serialize weights to HDF5\n",
    "model.save_weights(\"model_data/model.h5\")\n",
    "print(\"Saved model to disk\")\n",
    " \n",
    "# later...\n",
    " \n",
    "# load json and create model\n",
    "json_file = open('model_data/model.json', 'r')\n",
    "loaded_model_json = json_file.read()\n",
    "json_file.close()\n",
    "loaded_model = model_from_json(loaded_model_json)\n",
    "# load weights into new model\n",
    "loaded_model.load_weights(\"model_data/model.h5\")\n",
    "print(\"Loaded model from disk\")\n",
    " \n",
    "# evaluate loaded model on test data\n",
    "loaded_model.compile(loss='categorical_crossentropy', # using the cross-entropy loss function\n",
    "              optimizer='adam', # using the Adam optimiser\n",
    "              metrics=['accuracy']) # reporting the accuracy\n",
    "\n",
    "\n",
    "scores = model.evaluate(x_test, y_test, verbose=0)\n",
    "print(\"%s: %.2f%%\" % (loaded_model.metrics_names[1], scores[1]*100))"
   ]
  },
  {
   "cell_type": "markdown",
   "metadata": {},
   "source": [
    "# predictions"
   ]
  },
  {
   "cell_type": "markdown",
   "metadata": {},
   "source": [
    "# Display data from dataset"
   ]
  },
  {
   "cell_type": "code",
   "execution_count": 9,
   "metadata": {},
   "outputs": [],
   "source": [
    "def show_letter_from_db(img):\n",
    "    img = img.astype('uint8')\n",
    "    img = img.reshape((28,28))\n",
    "    img = img.transpose()\n",
    "    img = cv2.bitwise_not(img)\n",
    "    \n",
    "    display(PIL.Image.fromarray(img))\n",
    "    return img"
   ]
  },
  {
   "cell_type": "code",
   "execution_count": 10,
   "metadata": {},
   "outputs": [],
   "source": [
    "def revert_showing(img):\n",
    "    img = cv2.bitwise_not(img)\n",
    "    img = img.transpose()\n",
    "    img = img.ravel()\n",
    "    img = img.astype('int64') \n",
    "    return img"
   ]
  },
  {
   "cell_type": "code",
   "execution_count": 11,
   "metadata": {},
   "outputs": [],
   "source": [
    "def display_char(i):\n",
    "    label = test_db.iloc[i].values[0]\n",
    "    char = res_mapper.get(label)\n",
    "    print(\"=============\")\n",
    "    print(f\"label: {char}\")\n",
    "    \n",
    "    img = test_db.iloc[i].values[1:]\n",
    "    print(\"showing original\")\n",
    "    img_new=show_letter_from_db(img)\n",
    "    \n",
    "    img = revert_showing(img_new)\n",
    "    \n",
    "    pred = model.predict(np.array([img]))\n",
    "    pred_val = res_mapper.get(pred[0].argmax())\n",
    "    print(f\"Prediction: {pred_val}\")\n",
    "    print(\"showing the one prediction run on\")\n",
    "    show_letter_from_db(img)"
   ]
  },
  {
   "cell_type": "code",
   "execution_count": 12,
   "metadata": {
    "scrolled": false
   },
   "outputs": [
    {
     "name": "stdout",
     "output_type": "stream",
     "text": [
      "=============\n",
      "label: Q\n",
      "showing original\n"
     ]
    },
    {
     "data": {
      "image/png": "[encoded data removed]",
      "text/plain": [
       "<PIL.Image.Image image mode=L size=28x28 at 0x7FA81C7B6150>"
      ]
     },
     "metadata": {},
     "output_type": "display_data"
    },
    {
     "name": "stdout",
     "output_type": "stream",
     "text": [
      "Prediction: Q\n",
      "showing the one prediction run on\n"
     ]
    },
    {
     "data": {
      "image/png": "[encoded data removed]",
      "text/plain": [
       "<PIL.Image.Image image mode=L size=28x28 at 0x7FA81C5CBCD0>"
      ]
     },
     "metadata": {},
     "output_type": "display_data"
    },
    {
     "name": "stdout",
     "output_type": "stream",
     "text": [
      "=============\n",
      "label: X\n",
      "showing original\n"
     ]
    },
    {
     "data": {
      "image/png": "[encoded data removed]",
      "text/plain": [
       "<PIL.Image.Image image mode=L size=28x28 at 0x7FA81C7B6150>"
      ]
     },
     "metadata": {},
     "output_type": "display_data"
    },
    {
     "name": "stdout",
     "output_type": "stream",
     "text": [
      "Prediction: X\n",
      "showing the one prediction run on\n"
     ]
    },
    {
     "data": {
      "image/png": "[encoded data removed]",
      "text/plain": [
       "<PIL.Image.Image image mode=L size=28x28 at 0x7FA81C5CBB50>"
      ]
     },
     "metadata": {},
     "output_type": "display_data"
    },
    {
     "name": "stdout",
     "output_type": "stream",
     "text": [
      "=============\n",
      "label: E\n",
      "showing original\n"
     ]
    },
    {
     "data": {
      "image/png": "[encoded data removed]",
      "text/plain": [
       "<PIL.Image.Image image mode=L size=28x28 at 0x7FA81C5CBCD0>"
      ]
     },
     "metadata": {},
     "output_type": "display_data"
    },
    {
     "name": "stdout",
     "output_type": "stream",
     "text": [
      "Prediction: E\n",
      "showing the one prediction run on\n"
     ]
    },
    {
     "data": {
      "image/png": "[encoded data removed]",
      "text/plain": [
       "<PIL.Image.Image image mode=L size=28x28 at 0x7FA81C5CBB50>"
      ]
     },
     "metadata": {},
     "output_type": "display_data"
    },
    {
     "name": "stdout",
     "output_type": "stream",
     "text": [
      "=============\n",
      "label: B\n",
      "showing original\n"
     ]
    },
    {
     "data": {
      "image/png": "[encoded data removed]",
      "text/plain": [
       "<PIL.Image.Image image mode=L size=28x28 at 0x7FA81C5D37D0>"
      ]
     },
     "metadata": {},
     "output_type": "display_data"
    },
    {
     "name": "stdout",
     "output_type": "stream",
     "text": [
      "Prediction: R\n",
      "showing the one prediction run on\n"
     ]
    },
    {
     "data": {
      "image/png": "[encoded data removed]",
      "text/plain": [
       "<PIL.Image.Image image mode=L size=28x28 at 0x7FA81C5CBB50>"
      ]
     },
     "metadata": {},
     "output_type": "display_data"
    },
    {
     "name": "stdout",
     "output_type": "stream",
     "text": [
      "=============\n",
      "label: C\n",
      "showing original\n"
     ]
    },
    {
     "data": {
      "image/png": "[encoded data removed]",
      "text/plain": [
       "<PIL.Image.Image image mode=L size=28x28 at 0x7FA81C5CBFD0>"
      ]
     },
     "metadata": {},
     "output_type": "display_data"
    },
    {
     "name": "stdout",
     "output_type": "stream",
     "text": [
      "Prediction: C\n",
      "showing the one prediction run on\n"
     ]
    },
    {
     "data": {
      "image/png": "[encoded data removed]",
      "text/plain": [
       "<PIL.Image.Image image mode=L size=28x28 at 0x7FA81C5CB5D0>"
      ]
     },
     "metadata": {},
     "output_type": "display_data"
    },
    {
     "name": "stdout",
     "output_type": "stream",
     "text": [
      "=============\n",
      "label: G\n",
      "showing original\n"
     ]
    },
    {
     "data": {
      "image/png": "[encoded data removed]",
      "text/plain": [
       "<PIL.Image.Image image mode=L size=28x28 at 0x7FA81C5CB6D0>"
      ]
     },
     "metadata": {},
     "output_type": "display_data"
    },
    {
     "name": "stdout",
     "output_type": "stream",
     "text": [
      "Prediction: G\n",
      "showing the one prediction run on\n"
     ]
    },
    {
     "data": {
      "image/png": "[encoded data removed]",
      "text/plain": [
       "<PIL.Image.Image image mode=L size=28x28 at 0x7FA81C5D3990>"
      ]
     },
     "metadata": {},
     "output_type": "display_data"
    },
    {
     "name": "stdout",
     "output_type": "stream",
     "text": [
      "=============\n",
      "label: G\n",
      "showing original\n"
     ]
    },
    {
     "data": {
      "image/png": "[encoded data removed]",
      "text/plain": [
       "<PIL.Image.Image image mode=L size=28x28 at 0x7FA8BD4A6AD0>"
      ]
     },
     "metadata": {},
     "output_type": "display_data"
    },
    {
     "name": "stdout",
     "output_type": "stream",
     "text": [
      "Prediction: G\n",
      "showing the one prediction run on\n"
     ]
    },
    {
     "data": {
      "image/png": "[encoded data removed]",
      "text/plain": [
       "<PIL.Image.Image image mode=L size=28x28 at 0x7FA81C5D3050>"
      ]
     },
     "metadata": {},
     "output_type": "display_data"
    },
    {
     "name": "stdout",
     "output_type": "stream",
     "text": [
      "=============\n",
      "label: G\n",
      "showing original\n"
     ]
    },
    {
     "data": {
      "image/png": "[encoded data removed]",
      "text/plain": [
       "<PIL.Image.Image image mode=L size=28x28 at 0x7FA81C5D7190>"
      ]
     },
     "metadata": {},
     "output_type": "display_data"
    },
    {
     "name": "stdout",
     "output_type": "stream",
     "text": [
      "Prediction: G\n",
      "showing the one prediction run on\n"
     ]
    },
    {
     "data": {
      "image/png": "[encoded data removed]",
      "text/plain": [
       "<PIL.Image.Image image mode=L size=28x28 at 0x7FA81C5D3890>"
      ]
     },
     "metadata": {},
     "output_type": "display_data"
    },
    {
     "name": "stdout",
     "output_type": "stream",
     "text": [
      "=============\n",
      "label: R\n",
      "showing original\n"
     ]
    },
    {
     "data": {
      "image/png": "[encoded data removed]",
      "text/plain": [
       "<PIL.Image.Image image mode=L size=28x28 at 0x7FA81C5D3790>"
      ]
     },
     "metadata": {},
     "output_type": "display_data"
    },
    {
     "name": "stdout",
     "output_type": "stream",
     "text": [
      "Prediction: R\n",
      "showing the one prediction run on\n"
     ]
    },
    {
     "data": {
      "image/png": "[encoded data removed]",
      "text/plain": [
       "<PIL.Image.Image image mode=L size=28x28 at 0x7FA81C5D37D0>"
      ]
     },
     "metadata": {},
     "output_type": "display_data"
    },
    {
     "name": "stdout",
     "output_type": "stream",
     "text": [
      "=============\n",
      "label: S\n",
      "showing original\n"
     ]
    },
    {
     "data": {
      "image/png": "[encoded data removed]",
      "text/plain": [
       "<PIL.Image.Image image mode=L size=28x28 at 0x7FA81C5D3110>"
      ]
     },
     "metadata": {},
     "output_type": "display_data"
    },
    {
     "name": "stdout",
     "output_type": "stream",
     "text": [
      "Prediction: S\n",
      "showing the one prediction run on\n"
     ]
    },
    {
     "data": {
      "image/png": "[encoded data removed]",
      "text/plain": [
       "<PIL.Image.Image image mode=L size=28x28 at 0x7FA81C5D7C50>"
      ]
     },
     "metadata": {},
     "output_type": "display_data"
    }
   ],
   "source": [
    "for i in range (10):\n",
    "    display_char(i)"
   ]
  },
  {
   "cell_type": "markdown",
   "metadata": {},
   "source": [
    "# preprocessing\n"
   ]
  },
  {
   "cell_type": "code",
   "execution_count": 35,
   "metadata": {},
   "outputs": [
    {
     "data": {
      "text/plain": [
       "12"
      ]
     },
     "execution_count": 35,
     "metadata": {},
     "output_type": "execute_result"
    }
   ],
   "source": [
    "import pickle\n",
    "# with open(\"test.txt\", \"wb\") as fp:   #Pickling\n",
    "#     pickle.dump(l, fp)\n",
    "\n",
    "with open(\"./test/example_forms/julinka_dotaznik/example_letters.pickle\", \"rb\") as fp:   # Unpickling\n",
    "        b = pickle.load(fp)\n",
    "\n",
    "len(b)\n"
   ]
  },
  {
   "cell_type": "code",
   "execution_count": 36,
   "metadata": {},
   "outputs": [
    {
     "data": {
      "image/png": "[encoded data removed]",
      "text/plain": [
       "<PIL.Image.Image image mode=L size=28x28 at 0x7FA81C51FCD0>"
      ]
     },
     "metadata": {},
     "output_type": "display_data"
    }
   ],
   "source": [
    "img = b[1]\n",
    "display(PIL.Image.fromarray(img))"
   ]
  },
  {
   "cell_type": "code",
   "execution_count": 37,
   "metadata": {},
   "outputs": [],
   "source": [
    "# preproces to training format\n",
    "def preproces(img):\n",
    "#     label = test_db.iloc[i].values[0]\n",
    "#     char = res_mapper.get(label)ma\n",
    "#     print(f\"label: {char}\")\n",
    "    \n",
    "        \n",
    "    img = img.astype('float32')\n",
    "    img /= 255\n",
    "    \n",
    "    \n",
    "    pred = model.predict(np.array([img]))\n",
    "    pred_val = res_mapper.get(pred[0].argmax())\n",
    "    \n",
    "    conf_dict = {res_mapper.get(i):round(v,3) for i,v in enumerate(pred[0])}\n",
    "    conf_dict = {k: v for k, v in sorted(conf_dict.items(), key=lambda item: item[1], reverse=True) if v>0} # sort\n",
    "    print(pred_val)\n",
    "    print(conf_dict)\n",
    "    \n",
    "\n",
    "    \n",
    "    \n",
    "    img = img.astype('uint8') \n",
    "    img = img.reshape((28,28))\n",
    "    img = img.transpose()\n",
    "#     display(PIL.Image.fromarray(img))"
   ]
  },
  {
   "cell_type": "code",
   "execution_count": 38,
   "metadata": {
    "scrolled": false
   },
   "outputs": [
    {
     "name": "stdout",
     "output_type": "stream",
     "text": [
      "=================================\n"
     ]
    },
    {
     "data": {
      "image/png": "[encoded data removed]",
      "text/plain": [
       "<PIL.Image.Image image mode=L size=28x28 at 0x7FA81C480F10>"
      ]
     },
     "metadata": {},
     "output_type": "display_data"
    },
    {
     "name": "stdout",
     "output_type": "stream",
     "text": [
      "R\n",
      "{'R': 0.992, 'B': 0.005, 'Z': 0.003}\n",
      "=================================\n"
     ]
    },
    {
     "data": {
      "image/png": "[encoded data removed]",
      "text/plain": [
       "<PIL.Image.Image image mode=L size=28x28 at 0x7FA81C51FC10>"
      ]
     },
     "metadata": {},
     "output_type": "display_data"
    },
    {
     "name": "stdout",
     "output_type": "stream",
     "text": [
      "Y\n",
      "{'Y': 0.999, 'V': 0.001}\n",
      "=================================\n"
     ]
    },
    {
     "data": {
      "image/png": "[encoded data removed]",
      "text/plain": [
       "<PIL.Image.Image image mode=L size=28x28 at 0x7FA81C5D75D0>"
      ]
     },
     "metadata": {},
     "output_type": "display_data"
    },
    {
     "name": "stdout",
     "output_type": "stream",
     "text": [
      "C\n",
      "{'C': 0.992, 'E': 0.007}\n",
      "=================================\n"
     ]
    },
    {
     "data": {
      "image/png": "[encoded data removed]",
      "text/plain": [
       "<PIL.Image.Image image mode=L size=28x28 at 0x7FA81C51F7D0>"
      ]
     },
     "metadata": {},
     "output_type": "display_data"
    },
    {
     "name": "stdout",
     "output_type": "stream",
     "text": [
      "H\n",
      "{'H': 0.999, 'B': 0.001}\n",
      "=================================\n"
     ]
    },
    {
     "data": {
      "image/png": "[encoded data removed]",
      "text/plain": [
       "<PIL.Image.Image image mode=L size=28x28 at 0x7FA81C5D9C90>"
      ]
     },
     "metadata": {},
     "output_type": "display_data"
    },
    {
     "name": "stdout",
     "output_type": "stream",
     "text": [
      "L\n",
      "{'L': 0.941, 'K': 0.048, 'U': 0.011}\n",
      "=================================\n"
     ]
    },
    {
     "data": {
      "image/png": "[encoded data removed]",
      "text/plain": [
       "<PIL.Image.Image image mode=L size=28x28 at 0x7FA81C480090>"
      ]
     },
     "metadata": {},
     "output_type": "display_data"
    },
    {
     "name": "stdout",
     "output_type": "stream",
     "text": [
      "Y\n",
      "{'Y': 1.0}\n",
      "=================================\n"
     ]
    },
    {
     "data": {
      "image/png": "[encoded data removed]",
      "text/plain": [
       "<PIL.Image.Image image mode=L size=28x28 at 0x7FA81C480910>"
      ]
     },
     "metadata": {},
     "output_type": "display_data"
    },
    {
     "name": "stdout",
     "output_type": "stream",
     "text": [
      "M\n",
      "{'M': 1.0}\n",
      "=================================\n"
     ]
    },
    {
     "data": {
      "image/png": "[encoded data removed]",
      "text/plain": [
       "<PIL.Image.Image image mode=L size=28x28 at 0x7FA81C480810>"
      ]
     },
     "metadata": {},
     "output_type": "display_data"
    },
    {
     "name": "stdout",
     "output_type": "stream",
     "text": [
      "O\n",
      "{'O': 0.986, 'G': 0.004, 'Q': 0.004, 'D': 0.003, 'C': 0.001, 'I': 0.001}\n",
      "=================================\n"
     ]
    },
    {
     "data": {
      "image/png": "[encoded data removed]",
      "text/plain": [
       "<PIL.Image.Image image mode=L size=28x28 at 0x7FA81C480210>"
      ]
     },
     "metadata": {},
     "output_type": "display_data"
    },
    {
     "name": "stdout",
     "output_type": "stream",
     "text": [
      "U\n",
      "{'U': 1.0}\n",
      "=================================\n"
     ]
    },
    {
     "data": {
      "image/png": "[encoded data removed]",
      "text/plain": [
       "<PIL.Image.Image image mode=L size=28x28 at 0x7FA81C48A150>"
      ]
     },
     "metadata": {},
     "output_type": "display_data"
    },
    {
     "name": "stdout",
     "output_type": "stream",
     "text": [
      "C\n",
      "{'C': 0.981, 'Z': 0.01, 'I': 0.009, 'E': 0.001}\n",
      "=================================\n"
     ]
    },
    {
     "data": {
      "image/png": "[encoded data removed]",
      "text/plain": [
       "<PIL.Image.Image image mode=L size=28x28 at 0x7FA81C5D75D0>"
      ]
     },
     "metadata": {},
     "output_type": "display_data"
    },
    {
     "name": "stdout",
     "output_type": "stream",
     "text": [
      "H\n",
      "{'H': 1.0}\n",
      "=================================\n"
     ]
    },
    {
     "data": {
      "image/png": "[encoded data removed]",
      "text/plain": [
       "<PIL.Image.Image image mode=L size=28x28 at 0x7FA81C51F690>"
      ]
     },
     "metadata": {},
     "output_type": "display_data"
    },
    {
     "name": "stdout",
     "output_type": "stream",
     "text": [
      "Y\n",
      "{'Y': 0.921, 'T': 0.058, 'M': 0.021}\n"
     ]
    }
   ],
   "source": [
    "for img in b[0:]:\n",
    "    print (\"=================================\")\n",
    "    display(PIL.Image.fromarray(cv2.bitwise_not(img)))\n",
    "    preprocessed = revert_showing(img)\n",
    "    preproces(preprocessed)"
   ]
  },
  {
   "cell_type": "code",
   "execution_count": 183,
   "metadata": {},
   "outputs": [],
   "source": [
    "# img = img.astype('uint8') "
   ]
  },
  {
   "cell_type": "code",
   "execution_count": 184,
   "metadata": {},
   "outputs": [
    {
     "name": "stdout",
     "output_type": "stream",
     "text": [
      "[[0. 0. 0. 0. 0. 0. 0. 0. 0. 0. 0. 0. 0. 0. 0. 0. 0. 0. 0. 1. 0. 0. 0. 0.\n",
      "  0. 0. 0. 0. 0. 0. 0. 0. 0. 0. 0. 0. 0. 0. 0. 0. 0. 0. 0. 0. 0. 0. 0.]]\n",
      "Prediction: J\n"
     ]
    }
   ],
   "source": [
    "pred = model.predict(np.array([img]))\n",
    "print(pred)\n",
    "pred_val = res_mapper.get(pred[0].argmax())\n",
    "print(f\"Prediction: {pred_val}\")"
   ]
  },
  {
   "cell_type": "code",
   "execution_count": null,
   "metadata": {},
   "outputs": [],
   "source": [
    "bdef display_char(i):\n",
    "    label = test_db.iloc[i].values[0]\n",
    "    char = res_mapper.get(label)\n",
    "    print(\"=============\")\n",
    "    print(f\"label: {char}\")\n",
    "    \n",
    "    img = test_db.iloc[i].values[1:]\n",
    "    \n",
    "    pred = model.predict(np.array([img]))\n",
    "    pred_val = res_mapper.get(pred[0].argmax())\n",
    "    print(f\"Prediction: {pred_val}\")\n",
    "    \n",
    "    \n",
    "    img = img.astype('uint8') \n",
    "    img = img.reshape((28,28))\n",
    "    img = img.transpose()\n",
    "    display(PIL.Image.fromarray(img))"
   ]
  }
 ],
 "metadata": {
  "kernelspec": {
   "display_name": "Python 3",
   "language": "python",
   "name": "python3"
  },
  "language_info": {
   "codemirror_mode": {
    "name": "ipython",
    "version": 3
   },
   "file_extension": ".py",
   "mimetype": "text/x-python",
   "name": "python",
   "nbconvert_exporter": "python",
   "pygments_lexer": "ipython3",
   "version": "3.7.5"
  }
 },
 "nbformat": 4,
 "nbformat_minor": 1
}
