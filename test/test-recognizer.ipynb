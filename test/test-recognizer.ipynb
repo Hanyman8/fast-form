{
 "cells": [
  {
   "cell_type": "code",
   "execution_count": 1,
   "metadata": {
    "ExecuteTime": {
     "end_time": "2020-05-03T21:22:39.509256Z",
     "start_time": "2020-05-03T21:22:39.504616Z"
    }
   },
   "outputs": [],
   "source": [
    "import os\n",
    "os.chdir(\"../\")"
   ]
  },
  {
   "cell_type": "code",
   "execution_count": 2,
   "metadata": {
    "ExecuteTime": {
     "end_time": "2020-05-03T21:22:40.080976Z",
     "start_time": "2020-05-03T21:22:40.053804Z"
    }
   },
   "outputs": [],
   "source": [
    "%load_ext autoreload\n",
    "\n",
    "%autoreload 2"
   ]
  },
  {
   "cell_type": "code",
   "execution_count": 8,
   "metadata": {
    "ExecuteTime": {
     "end_time": "2020-05-03T21:25:17.202857Z",
     "start_time": "2020-05-03T21:25:17.146947Z"
    }
   },
   "outputs": [],
   "source": [
    "import json\n",
    "import cv2\n",
    "from preprocessing.preprocess import preprocess\n",
    "from IPython.display import Image\n",
    "\n",
    "import PIL.Image\n",
    "\n",
    "from structure_parser.formstructureparser import FormStructureParser\n",
    "from field_recognizer.recognize_all import recognize\n",
    "\n",
    "from field_recognizer.model import load_model, load_result_mapper"
   ]
  },
  {
   "cell_type": "code",
   "execution_count": 9,
   "metadata": {
    "ExecuteTime": {
     "end_time": "2020-05-03T21:25:18.904308Z",
     "start_time": "2020-05-03T21:25:17.878970Z"
    }
   },
   "outputs": [
    {
     "name": "stdout",
     "output_type": "stream",
     "text": [
      "Loaded model from disk\n"
     ]
    }
   ],
   "source": [
    "from overall_processing.process_one_document import process_document, output_data\n",
    "image_path = \"test/example_forms/unihack/scan1.jpg\"\n",
    "with open(\"test/example_forms/unihack/config.json\", 'r') as f:\n",
    "    config = json.load(f) \n",
    "\n",
    "fsp = FormStructureParser(config)\n",
    "model_structure_path = \"model_data/model.json\"\n",
    "model_weights_path = \"model_data/model.h5\"\n",
    "result_mapper_path = \"model_data/emnist-balanced-mapping.txt\"\n",
    "\n",
    "# load model\n",
    "model = load_model(model_structure_path, model_weights_path)\n",
    "\n",
    "# load result mapper\n",
    "result_mapper = load_result_mapper(result_mapper_path)\n",
    "\n",
    "im = cv2.imread(image_path)\n",
    "\n",
    "# process\n",
    "\n",
    "# im = preprocess(im, config)\n",
    "# form_data = fsp.process_form(im)\n",
    "form_data = process_document(im, config, model, result_mapper)\n",
    "filename = output_data(form_data, image_path)"
   ]
  },
  {
   "cell_type": "code",
   "execution_count": 10,
   "metadata": {
    "ExecuteTime": {
     "end_time": "2020-05-03T21:25:20.528906Z",
     "start_time": "2020-05-03T21:25:19.580644Z"
    }
   },
   "outputs": [
    {
     "data": {
      "application/javascript": [
       "/* Put everything inside the global mpl namespace */\n",
       "window.mpl = {};\n",
       "\n",
       "\n",
       "mpl.get_websocket_type = function() {\n",
       "    if (typeof(WebSocket) !== 'undefined') {\n",
       "        return WebSocket;\n",
       "    } else if (typeof(MozWebSocket) !== 'undefined') {\n",
       "        return MozWebSocket;\n",
       "    } else {\n",
       "        alert('Your browser does not have WebSocket support. ' +\n",
       "              'Please try Chrome, Safari or Firefox ≥ 6. ' +\n",
       "              'Firefox 4 and 5 are also supported but you ' +\n",
       "              'have to enable WebSockets in about:config.');\n",
       "    };\n",
       "}\n",
       "\n",
       "mpl.figure = function(figure_id, websocket, ondownload, parent_element) {\n",
       "    this.id = figure_id;\n",
       "\n",
       "    this.ws = websocket;\n",
       "\n",
       "    this.supports_binary = (this.ws.binaryType != undefined);\n",
       "\n",
       "    if (!this.supports_binary) {\n",
       "        var warnings = document.getElementById(\"mpl-warnings\");\n",
       "        if (warnings) {\n",
       "            warnings.style.display = 'block';\n",
       "            warnings.textContent = (\n",
       "                \"This browser does not support binary websocket messages. \" +\n",
       "                    \"Performance may be slow.\");\n",
       "        }\n",
       "    }\n",
       "\n",
       "    this.imageObj = new Image();\n",
       "\n",
       "    this.context = undefined;\n",
       "    this.message = undefined;\n",
       "    this.canvas = undefined;\n",
       "    this.rubberband_canvas = undefined;\n",
       "    this.rubberband_context = undefined;\n",
       "    this.format_dropdown = undefined;\n",
       "\n",
       "    this.image_mode = 'full';\n",
       "\n",
       "    this.root = $('<div/>');\n",
       "    this._root_extra_style(this.root)\n",
       "    this.root.attr('style', 'display: inline-block');\n",
       "\n",
       "    $(parent_element).append(this.root);\n",
       "\n",
       "    this._init_header(this);\n",
       "    this._init_canvas(this);\n",
       "    this._init_toolbar(this);\n",
       "\n",
       "    var fig = this;\n",
       "\n",
       "    this.waiting = false;\n",
       "\n",
       "    this.ws.onopen =  function () {\n",
       "            fig.send_message(\"supports_binary\", {value: fig.supports_binary});\n",
       "            fig.send_message(\"send_image_mode\", {});\n",
       "            if (mpl.ratio != 1) {\n",
       "                fig.send_message(\"set_dpi_ratio\", {'dpi_ratio': mpl.ratio});\n",
       "            }\n",
       "            fig.send_message(\"refresh\", {});\n",
       "        }\n",
       "\n",
       "    this.imageObj.onload = function() {\n",
       "            if (fig.image_mode == 'full') {\n",
       "                // Full images could contain transparency (where diff images\n",
       "                // almost always do), so we need to clear the canvas so that\n",
       "                // there is no ghosting.\n",
       "                fig.context.clearRect(0, 0, fig.canvas.width, fig.canvas.height);\n",
       "            }\n",
       "            fig.context.drawImage(fig.imageObj, 0, 0);\n",
       "        };\n",
       "\n",
       "    this.imageObj.onunload = function() {\n",
       "        fig.ws.close();\n",
       "    }\n",
       "\n",
       "    this.ws.onmessage = this._make_on_message_function(this);\n",
       "\n",
       "    this.ondownload = ondownload;\n",
       "}\n",
       "\n",
       "mpl.figure.prototype._init_header = function() {\n",
       "    var titlebar = $(\n",
       "        '<div class=\"ui-dialog-titlebar ui-widget-header ui-corner-all ' +\n",
       "        'ui-helper-clearfix\"/>');\n",
       "    var titletext = $(\n",
       "        '<div class=\"ui-dialog-title\" style=\"width: 100%; ' +\n",
       "        'text-align: center; padding: 3px;\"/>');\n",
       "    titlebar.append(titletext)\n",
       "    this.root.append(titlebar);\n",
       "    this.header = titletext[0];\n",
       "}\n",
       "\n",
       "\n",
       "\n",
       "mpl.figure.prototype._canvas_extra_style = function(canvas_div) {\n",
       "\n",
       "}\n",
       "\n",
       "\n",
       "mpl.figure.prototype._root_extra_style = function(canvas_div) {\n",
       "\n",
       "}\n",
       "\n",
       "mpl.figure.prototype._init_canvas = function() {\n",
       "    var fig = this;\n",
       "\n",
       "    var canvas_div = $('<div/>');\n",
       "\n",
       "    canvas_div.attr('style', 'position: relative; clear: both; outline: 0');\n",
       "\n",
       "    function canvas_keyboard_event(event) {\n",
       "        return fig.key_event(event, event['data']);\n",
       "    }\n",
       "\n",
       "    canvas_div.keydown('key_press', canvas_keyboard_event);\n",
       "    canvas_div.keyup('key_release', canvas_keyboard_event);\n",
       "    this.canvas_div = canvas_div\n",
       "    this._canvas_extra_style(canvas_div)\n",
       "    this.root.append(canvas_div);\n",
       "\n",
       "    var canvas = $('<canvas/>');\n",
       "    canvas.addClass('mpl-canvas');\n",
       "    canvas.attr('style', \"left: 0; top: 0; z-index: 0; outline: 0\")\n",
       "\n",
       "    this.canvas = canvas[0];\n",
       "    this.context = canvas[0].getContext(\"2d\");\n",
       "\n",
       "    var backingStore = this.context.backingStorePixelRatio ||\n",
       "\tthis.context.webkitBackingStorePixelRatio ||\n",
       "\tthis.context.mozBackingStorePixelRatio ||\n",
       "\tthis.context.msBackingStorePixelRatio ||\n",
       "\tthis.context.oBackingStorePixelRatio ||\n",
       "\tthis.context.backingStorePixelRatio || 1;\n",
       "\n",
       "    mpl.ratio = (window.devicePixelRatio || 1) / backingStore;\n",
       "\n",
       "    var rubberband = $('<canvas/>');\n",
       "    rubberband.attr('style', \"position: absolute; left: 0; top: 0; z-index: 1;\")\n",
       "\n",
       "    var pass_mouse_events = true;\n",
       "\n",
       "    canvas_div.resizable({\n",
       "        start: function(event, ui) {\n",
       "            pass_mouse_events = false;\n",
       "        },\n",
       "        resize: function(event, ui) {\n",
       "            fig.request_resize(ui.size.width, ui.size.height);\n",
       "        },\n",
       "        stop: function(event, ui) {\n",
       "            pass_mouse_events = true;\n",
       "            fig.request_resize(ui.size.width, ui.size.height);\n",
       "        },\n",
       "    });\n",
       "\n",
       "    function mouse_event_fn(event) {\n",
       "        if (pass_mouse_events)\n",
       "            return fig.mouse_event(event, event['data']);\n",
       "    }\n",
       "\n",
       "    rubberband.mousedown('button_press', mouse_event_fn);\n",
       "    rubberband.mouseup('button_release', mouse_event_fn);\n",
       "    // Throttle sequential mouse events to 1 every 20ms.\n",
       "    rubberband.mousemove('motion_notify', mouse_event_fn);\n",
       "\n",
       "    rubberband.mouseenter('figure_enter', mouse_event_fn);\n",
       "    rubberband.mouseleave('figure_leave', mouse_event_fn);\n",
       "\n",
       "    canvas_div.on(\"wheel\", function (event) {\n",
       "        event = event.originalEvent;\n",
       "        event['data'] = 'scroll'\n",
       "        if (event.deltaY < 0) {\n",
       "            event.step = 1;\n",
       "        } else {\n",
       "            event.step = -1;\n",
       "        }\n",
       "        mouse_event_fn(event);\n",
       "    });\n",
       "\n",
       "    canvas_div.append(canvas);\n",
       "    canvas_div.append(rubberband);\n",
       "\n",
       "    this.rubberband = rubberband;\n",
       "    this.rubberband_canvas = rubberband[0];\n",
       "    this.rubberband_context = rubberband[0].getContext(\"2d\");\n",
       "    this.rubberband_context.strokeStyle = \"#000000\";\n",
       "\n",
       "    this._resize_canvas = function(width, height) {\n",
       "        // Keep the size of the canvas, canvas container, and rubber band\n",
       "        // canvas in synch.\n",
       "        canvas_div.css('width', width)\n",
       "        canvas_div.css('height', height)\n",
       "\n",
       "        canvas.attr('width', width * mpl.ratio);\n",
       "        canvas.attr('height', height * mpl.ratio);\n",
       "        canvas.attr('style', 'width: ' + width + 'px; height: ' + height + 'px;');\n",
       "\n",
       "        rubberband.attr('width', width);\n",
       "        rubberband.attr('height', height);\n",
       "    }\n",
       "\n",
       "    // Set the figure to an initial 600x600px, this will subsequently be updated\n",
       "    // upon first draw.\n",
       "    this._resize_canvas(600, 600);\n",
       "\n",
       "    // Disable right mouse context menu.\n",
       "    $(this.rubberband_canvas).bind(\"contextmenu\",function(e){\n",
       "        return false;\n",
       "    });\n",
       "\n",
       "    function set_focus () {\n",
       "        canvas.focus();\n",
       "        canvas_div.focus();\n",
       "    }\n",
       "\n",
       "    window.setTimeout(set_focus, 100);\n",
       "}\n",
       "\n",
       "mpl.figure.prototype._init_toolbar = function() {\n",
       "    var fig = this;\n",
       "\n",
       "    var nav_element = $('<div/>');\n",
       "    nav_element.attr('style', 'width: 100%');\n",
       "    this.root.append(nav_element);\n",
       "\n",
       "    // Define a callback function for later on.\n",
       "    function toolbar_event(event) {\n",
       "        return fig.toolbar_button_onclick(event['data']);\n",
       "    }\n",
       "    function toolbar_mouse_event(event) {\n",
       "        return fig.toolbar_button_onmouseover(event['data']);\n",
       "    }\n",
       "\n",
       "    for(var toolbar_ind in mpl.toolbar_items) {\n",
       "        var name = mpl.toolbar_items[toolbar_ind][0];\n",
       "        var tooltip = mpl.toolbar_items[toolbar_ind][1];\n",
       "        var image = mpl.toolbar_items[toolbar_ind][2];\n",
       "        var method_name = mpl.toolbar_items[toolbar_ind][3];\n",
       "\n",
       "        if (!name) {\n",
       "            // put a spacer in here.\n",
       "            continue;\n",
       "        }\n",
       "        var button = $('<button/>');\n",
       "        button.addClass('ui-button ui-widget ui-state-default ui-corner-all ' +\n",
       "                        'ui-button-icon-only');\n",
       "        button.attr('role', 'button');\n",
       "        button.attr('aria-disabled', 'false');\n",
       "        button.click(method_name, toolbar_event);\n",
       "        button.mouseover(tooltip, toolbar_mouse_event);\n",
       "\n",
       "        var icon_img = $('<span/>');\n",
       "        icon_img.addClass('ui-button-icon-primary ui-icon');\n",
       "        icon_img.addClass(image);\n",
       "        icon_img.addClass('ui-corner-all');\n",
       "\n",
       "        var tooltip_span = $('<span/>');\n",
       "        tooltip_span.addClass('ui-button-text');\n",
       "        tooltip_span.html(tooltip);\n",
       "\n",
       "        button.append(icon_img);\n",
       "        button.append(tooltip_span);\n",
       "\n",
       "        nav_element.append(button);\n",
       "    }\n",
       "\n",
       "    var fmt_picker_span = $('<span/>');\n",
       "\n",
       "    var fmt_picker = $('<select/>');\n",
       "    fmt_picker.addClass('mpl-toolbar-option ui-widget ui-widget-content');\n",
       "    fmt_picker_span.append(fmt_picker);\n",
       "    nav_element.append(fmt_picker_span);\n",
       "    this.format_dropdown = fmt_picker[0];\n",
       "\n",
       "    for (var ind in mpl.extensions) {\n",
       "        var fmt = mpl.extensions[ind];\n",
       "        var option = $(\n",
       "            '<option/>', {selected: fmt === mpl.default_extension}).html(fmt);\n",
       "        fmt_picker.append(option);\n",
       "    }\n",
       "\n",
       "    // Add hover states to the ui-buttons\n",
       "    $( \".ui-button\" ).hover(\n",
       "        function() { $(this).addClass(\"ui-state-hover\");},\n",
       "        function() { $(this).removeClass(\"ui-state-hover\");}\n",
       "    );\n",
       "\n",
       "    var status_bar = $('<span class=\"mpl-message\"/>');\n",
       "    nav_element.append(status_bar);\n",
       "    this.message = status_bar[0];\n",
       "}\n",
       "\n",
       "mpl.figure.prototype.request_resize = function(x_pixels, y_pixels) {\n",
       "    // Request matplotlib to resize the figure. Matplotlib will then trigger a resize in the client,\n",
       "    // which will in turn request a refresh of the image.\n",
       "    this.send_message('resize', {'width': x_pixels, 'height': y_pixels});\n",
       "}\n",
       "\n",
       "mpl.figure.prototype.send_message = function(type, properties) {\n",
       "    properties['type'] = type;\n",
       "    properties['figure_id'] = this.id;\n",
       "    this.ws.send(JSON.stringify(properties));\n",
       "}\n",
       "\n",
       "mpl.figure.prototype.send_draw_message = function() {\n",
       "    if (!this.waiting) {\n",
       "        this.waiting = true;\n",
       "        this.ws.send(JSON.stringify({type: \"draw\", figure_id: this.id}));\n",
       "    }\n",
       "}\n",
       "\n",
       "\n",
       "mpl.figure.prototype.handle_save = function(fig, msg) {\n",
       "    var format_dropdown = fig.format_dropdown;\n",
       "    var format = format_dropdown.options[format_dropdown.selectedIndex].value;\n",
       "    fig.ondownload(fig, format);\n",
       "}\n",
       "\n",
       "\n",
       "mpl.figure.prototype.handle_resize = function(fig, msg) {\n",
       "    var size = msg['size'];\n",
       "    if (size[0] != fig.canvas.width || size[1] != fig.canvas.height) {\n",
       "        fig._resize_canvas(size[0], size[1]);\n",
       "        fig.send_message(\"refresh\", {});\n",
       "    };\n",
       "}\n",
       "\n",
       "mpl.figure.prototype.handle_rubberband = function(fig, msg) {\n",
       "    var x0 = msg['x0'] / mpl.ratio;\n",
       "    var y0 = (fig.canvas.height - msg['y0']) / mpl.ratio;\n",
       "    var x1 = msg['x1'] / mpl.ratio;\n",
       "    var y1 = (fig.canvas.height - msg['y1']) / mpl.ratio;\n",
       "    x0 = Math.floor(x0) + 0.5;\n",
       "    y0 = Math.floor(y0) + 0.5;\n",
       "    x1 = Math.floor(x1) + 0.5;\n",
       "    y1 = Math.floor(y1) + 0.5;\n",
       "    var min_x = Math.min(x0, x1);\n",
       "    var min_y = Math.min(y0, y1);\n",
       "    var width = Math.abs(x1 - x0);\n",
       "    var height = Math.abs(y1 - y0);\n",
       "\n",
       "    fig.rubberband_context.clearRect(\n",
       "        0, 0, fig.canvas.width / mpl.ratio, fig.canvas.height / mpl.ratio);\n",
       "\n",
       "    fig.rubberband_context.strokeRect(min_x, min_y, width, height);\n",
       "}\n",
       "\n",
       "mpl.figure.prototype.handle_figure_label = function(fig, msg) {\n",
       "    // Updates the figure title.\n",
       "    fig.header.textContent = msg['label'];\n",
       "}\n",
       "\n",
       "mpl.figure.prototype.handle_cursor = function(fig, msg) {\n",
       "    var cursor = msg['cursor'];\n",
       "    switch(cursor)\n",
       "    {\n",
       "    case 0:\n",
       "        cursor = 'pointer';\n",
       "        break;\n",
       "    case 1:\n",
       "        cursor = 'default';\n",
       "        break;\n",
       "    case 2:\n",
       "        cursor = 'crosshair';\n",
       "        break;\n",
       "    case 3:\n",
       "        cursor = 'move';\n",
       "        break;\n",
       "    }\n",
       "    fig.rubberband_canvas.style.cursor = cursor;\n",
       "}\n",
       "\n",
       "mpl.figure.prototype.handle_message = function(fig, msg) {\n",
       "    fig.message.textContent = msg['message'];\n",
       "}\n",
       "\n",
       "mpl.figure.prototype.handle_draw = function(fig, msg) {\n",
       "    // Request the server to send over a new figure.\n",
       "    fig.send_draw_message();\n",
       "}\n",
       "\n",
       "mpl.figure.prototype.handle_image_mode = function(fig, msg) {\n",
       "    fig.image_mode = msg['mode'];\n",
       "}\n",
       "\n",
       "mpl.figure.prototype.updated_canvas_event = function() {\n",
       "    // Called whenever the canvas gets updated.\n",
       "    this.send_message(\"ack\", {});\n",
       "}\n",
       "\n",
       "// A function to construct a web socket function for onmessage handling.\n",
       "// Called in the figure constructor.\n",
       "mpl.figure.prototype._make_on_message_function = function(fig) {\n",
       "    return function socket_on_message(evt) {\n",
       "        if (evt.data instanceof Blob) {\n",
       "            /* FIXME: We get \"Resource interpreted as Image but\n",
       "             * transferred with MIME type text/plain:\" errors on\n",
       "             * Chrome.  But how to set the MIME type?  It doesn't seem\n",
       "             * to be part of the websocket stream */\n",
       "            evt.data.type = \"image/png\";\n",
       "\n",
       "            /* Free the memory for the previous frames */\n",
       "            if (fig.imageObj.src) {\n",
       "                (window.URL || window.webkitURL).revokeObjectURL(\n",
       "                    fig.imageObj.src);\n",
       "            }\n",
       "\n",
       "            fig.imageObj.src = (window.URL || window.webkitURL).createObjectURL(\n",
       "                evt.data);\n",
       "            fig.updated_canvas_event();\n",
       "            fig.waiting = false;\n",
       "            return;\n",
       "        }\n",
       "        else if (typeof evt.data === 'string' && evt.data.slice(0, 21) == \"data:image/png;base64\") {\n",
       "            fig.imageObj.src = evt.data;\n",
       "            fig.updated_canvas_event();\n",
       "            fig.waiting = false;\n",
       "            return;\n",
       "        }\n",
       "\n",
       "        var msg = JSON.parse(evt.data);\n",
       "        var msg_type = msg['type'];\n",
       "\n",
       "        // Call the  \"handle_{type}\" callback, which takes\n",
       "        // the figure and JSON message as its only arguments.\n",
       "        try {\n",
       "            var callback = fig[\"handle_\" + msg_type];\n",
       "        } catch (e) {\n",
       "            console.log(\"No handler for the '\" + msg_type + \"' message type: \", msg);\n",
       "            return;\n",
       "        }\n",
       "\n",
       "        if (callback) {\n",
       "            try {\n",
       "                // console.log(\"Handling '\" + msg_type + \"' message: \", msg);\n",
       "                callback(fig, msg);\n",
       "            } catch (e) {\n",
       "                console.log(\"Exception inside the 'handler_\" + msg_type + \"' callback:\", e, e.stack, msg);\n",
       "            }\n",
       "        }\n",
       "    };\n",
       "}\n",
       "\n",
       "// from http://stackoverflow.com/questions/1114465/getting-mouse-location-in-canvas\n",
       "mpl.findpos = function(e) {\n",
       "    //this section is from http://www.quirksmode.org/js/events_properties.html\n",
       "    var targ;\n",
       "    if (!e)\n",
       "        e = window.event;\n",
       "    if (e.target)\n",
       "        targ = e.target;\n",
       "    else if (e.srcElement)\n",
       "        targ = e.srcElement;\n",
       "    if (targ.nodeType == 3) // defeat Safari bug\n",
       "        targ = targ.parentNode;\n",
       "\n",
       "    // jQuery normalizes the pageX and pageY\n",
       "    // pageX,Y are the mouse positions relative to the document\n",
       "    // offset() returns the position of the element relative to the document\n",
       "    var x = e.pageX - $(targ).offset().left;\n",
       "    var y = e.pageY - $(targ).offset().top;\n",
       "\n",
       "    return {\"x\": x, \"y\": y};\n",
       "};\n",
       "\n",
       "/*\n",
       " * return a copy of an object with only non-object keys\n",
       " * we need this to avoid circular references\n",
       " * http://stackoverflow.com/a/24161582/3208463\n",
       " */\n",
       "function simpleKeys (original) {\n",
       "  return Object.keys(original).reduce(function (obj, key) {\n",
       "    if (typeof original[key] !== 'object')\n",
       "        obj[key] = original[key]\n",
       "    return obj;\n",
       "  }, {});\n",
       "}\n",
       "\n",
       "mpl.figure.prototype.mouse_event = function(event, name) {\n",
       "    var canvas_pos = mpl.findpos(event)\n",
       "\n",
       "    if (name === 'button_press')\n",
       "    {\n",
       "        this.canvas.focus();\n",
       "        this.canvas_div.focus();\n",
       "    }\n",
       "\n",
       "    var x = canvas_pos.x * mpl.ratio;\n",
       "    var y = canvas_pos.y * mpl.ratio;\n",
       "\n",
       "    this.send_message(name, {x: x, y: y, button: event.button,\n",
       "                             step: event.step,\n",
       "                             guiEvent: simpleKeys(event)});\n",
       "\n",
       "    /* This prevents the web browser from automatically changing to\n",
       "     * the text insertion cursor when the button is pressed.  We want\n",
       "     * to control all of the cursor setting manually through the\n",
       "     * 'cursor' event from matplotlib */\n",
       "    event.preventDefault();\n",
       "    return false;\n",
       "}\n",
       "\n",
       "mpl.figure.prototype._key_event_extra = function(event, name) {\n",
       "    // Handle any extra behaviour associated with a key event\n",
       "}\n",
       "\n",
       "mpl.figure.prototype.key_event = function(event, name) {\n",
       "\n",
       "    // Prevent repeat events\n",
       "    if (name == 'key_press')\n",
       "    {\n",
       "        if (event.which === this._key)\n",
       "            return;\n",
       "        else\n",
       "            this._key = event.which;\n",
       "    }\n",
       "    if (name == 'key_release')\n",
       "        this._key = null;\n",
       "\n",
       "    var value = '';\n",
       "    if (event.ctrlKey && event.which != 17)\n",
       "        value += \"ctrl+\";\n",
       "    if (event.altKey && event.which != 18)\n",
       "        value += \"alt+\";\n",
       "    if (event.shiftKey && event.which != 16)\n",
       "        value += \"shift+\";\n",
       "\n",
       "    value += 'k';\n",
       "    value += event.which.toString();\n",
       "\n",
       "    this._key_event_extra(event, name);\n",
       "\n",
       "    this.send_message(name, {key: value,\n",
       "                             guiEvent: simpleKeys(event)});\n",
       "    return false;\n",
       "}\n",
       "\n",
       "mpl.figure.prototype.toolbar_button_onclick = function(name) {\n",
       "    if (name == 'download') {\n",
       "        this.handle_save(this, null);\n",
       "    } else {\n",
       "        this.send_message(\"toolbar_button\", {name: name});\n",
       "    }\n",
       "};\n",
       "\n",
       "mpl.figure.prototype.toolbar_button_onmouseover = function(tooltip) {\n",
       "    this.message.textContent = tooltip;\n",
       "};\n",
       "mpl.toolbar_items = [[\"Home\", \"Reset original view\", \"fa fa-home icon-home\", \"home\"], [\"Back\", \"Back to previous view\", \"fa fa-arrow-left icon-arrow-left\", \"back\"], [\"Forward\", \"Forward to next view\", \"fa fa-arrow-right icon-arrow-right\", \"forward\"], [\"\", \"\", \"\", \"\"], [\"Pan\", \"Pan axes with left mouse, zoom with right\", \"fa fa-arrows icon-move\", \"pan\"], [\"Zoom\", \"Zoom to rectangle\", \"fa fa-square-o icon-check-empty\", \"zoom\"], [\"\", \"\", \"\", \"\"], [\"Download\", \"Download plot\", \"fa fa-floppy-o icon-save\", \"download\"]];\n",
       "\n",
       "mpl.extensions = [\"eps\", \"jpeg\", \"pdf\", \"png\", \"ps\", \"raw\", \"svg\", \"tif\"];\n",
       "\n",
       "mpl.default_extension = \"png\";var comm_websocket_adapter = function(comm) {\n",
       "    // Create a \"websocket\"-like object which calls the given IPython comm\n",
       "    // object with the appropriate methods. Currently this is a non binary\n",
       "    // socket, so there is still some room for performance tuning.\n",
       "    var ws = {};\n",
       "\n",
       "    ws.close = function() {\n",
       "        comm.close()\n",
       "    };\n",
       "    ws.send = function(m) {\n",
       "        //console.log('sending', m);\n",
       "        comm.send(m);\n",
       "    };\n",
       "    // Register the callback with on_msg.\n",
       "    comm.on_msg(function(msg) {\n",
       "        //console.log('receiving', msg['content']['data'], msg);\n",
       "        // Pass the mpl event to the overridden (by mpl) onmessage function.\n",
       "        ws.onmessage(msg['content']['data'])\n",
       "    });\n",
       "    return ws;\n",
       "}\n",
       "\n",
       "mpl.mpl_figure_comm = function(comm, msg) {\n",
       "    // This is the function which gets called when the mpl process\n",
       "    // starts-up an IPython Comm through the \"matplotlib\" channel.\n",
       "\n",
       "    var id = msg.content.data.id;\n",
       "    // Get hold of the div created by the display call when the Comm\n",
       "    // socket was opened in Python.\n",
       "    var element = $(\"#\" + id);\n",
       "    var ws_proxy = comm_websocket_adapter(comm)\n",
       "\n",
       "    function ondownload(figure, format) {\n",
       "        window.open(figure.imageObj.src);\n",
       "    }\n",
       "\n",
       "    var fig = new mpl.figure(id, ws_proxy,\n",
       "                           ondownload,\n",
       "                           element.get(0));\n",
       "\n",
       "    // Call onopen now - mpl needs it, as it is assuming we've passed it a real\n",
       "    // web socket which is closed, not our websocket->open comm proxy.\n",
       "    ws_proxy.onopen();\n",
       "\n",
       "    fig.parent_element = element.get(0);\n",
       "    fig.cell_info = mpl.find_output_cell(\"<div id='\" + id + \"'></div>\");\n",
       "    if (!fig.cell_info) {\n",
       "        console.error(\"Failed to find cell for figure\", id, fig);\n",
       "        return;\n",
       "    }\n",
       "\n",
       "    var output_index = fig.cell_info[2]\n",
       "    var cell = fig.cell_info[0];\n",
       "\n",
       "};\n",
       "\n",
       "mpl.figure.prototype.handle_close = function(fig, msg) {\n",
       "    var width = fig.canvas.width/mpl.ratio\n",
       "    fig.root.unbind('remove')\n",
       "\n",
       "    // Update the output cell to use the data from the current canvas.\n",
       "    fig.push_to_output();\n",
       "    var dataURL = fig.canvas.toDataURL();\n",
       "    // Re-enable the keyboard manager in IPython - without this line, in FF,\n",
       "    // the notebook keyboard shortcuts fail.\n",
       "    IPython.keyboard_manager.enable()\n",
       "    $(fig.parent_element).html('<img src=\"' + dataURL + '\" width=\"' + width + '\">');\n",
       "    fig.close_ws(fig, msg);\n",
       "}\n",
       "\n",
       "mpl.figure.prototype.close_ws = function(fig, msg){\n",
       "    fig.send_message('closing', msg);\n",
       "    // fig.ws.close()\n",
       "}\n",
       "\n",
       "mpl.figure.prototype.push_to_output = function(remove_interactive) {\n",
       "    // Turn the data on the canvas into data in the output cell.\n",
       "    var width = this.canvas.width/mpl.ratio\n",
       "    var dataURL = this.canvas.toDataURL();\n",
       "    this.cell_info[1]['text/html'] = '<img src=\"' + dataURL + '\" width=\"' + width + '\">';\n",
       "}\n",
       "\n",
       "mpl.figure.prototype.updated_canvas_event = function() {\n",
       "    // Tell IPython that the notebook contents must change.\n",
       "    IPython.notebook.set_dirty(true);\n",
       "    this.send_message(\"ack\", {});\n",
       "    var fig = this;\n",
       "    // Wait a second, then push the new image to the DOM so\n",
       "    // that it is saved nicely (might be nice to debounce this).\n",
       "    setTimeout(function () { fig.push_to_output() }, 1000);\n",
       "}\n",
       "\n",
       "mpl.figure.prototype._init_toolbar = function() {\n",
       "    var fig = this;\n",
       "\n",
       "    var nav_element = $('<div/>');\n",
       "    nav_element.attr('style', 'width: 100%');\n",
       "    this.root.append(nav_element);\n",
       "\n",
       "    // Define a callback function for later on.\n",
       "    function toolbar_event(event) {\n",
       "        return fig.toolbar_button_onclick(event['data']);\n",
       "    }\n",
       "    function toolbar_mouse_event(event) {\n",
       "        return fig.toolbar_button_onmouseover(event['data']);\n",
       "    }\n",
       "\n",
       "    for(var toolbar_ind in mpl.toolbar_items){\n",
       "        var name = mpl.toolbar_items[toolbar_ind][0];\n",
       "        var tooltip = mpl.toolbar_items[toolbar_ind][1];\n",
       "        var image = mpl.toolbar_items[toolbar_ind][2];\n",
       "        var method_name = mpl.toolbar_items[toolbar_ind][3];\n",
       "\n",
       "        if (!name) { continue; };\n",
       "\n",
       "        var button = $('<button class=\"btn btn-default\" href=\"#\" title=\"' + name + '\"><i class=\"fa ' + image + ' fa-lg\"></i></button>');\n",
       "        button.click(method_name, toolbar_event);\n",
       "        button.mouseover(tooltip, toolbar_mouse_event);\n",
       "        nav_element.append(button);\n",
       "    }\n",
       "\n",
       "    // Add the status bar.\n",
       "    var status_bar = $('<span class=\"mpl-message\" style=\"text-align:right; float: right;\"/>');\n",
       "    nav_element.append(status_bar);\n",
       "    this.message = status_bar[0];\n",
       "\n",
       "    // Add the close button to the window.\n",
       "    var buttongrp = $('<div class=\"btn-group inline pull-right\"></div>');\n",
       "    var button = $('<button class=\"btn btn-mini btn-primary\" href=\"#\" title=\"Stop Interaction\"><i class=\"fa fa-power-off icon-remove icon-large\"></i></button>');\n",
       "    button.click(function (evt) { fig.handle_close(fig, {}); } );\n",
       "    button.mouseover('Stop Interaction', toolbar_mouse_event);\n",
       "    buttongrp.append(button);\n",
       "    var titlebar = this.root.find($('.ui-dialog-titlebar'));\n",
       "    titlebar.prepend(buttongrp);\n",
       "}\n",
       "\n",
       "mpl.figure.prototype._root_extra_style = function(el){\n",
       "    var fig = this\n",
       "    el.on(\"remove\", function(){\n",
       "\tfig.close_ws(fig, {});\n",
       "    });\n",
       "}\n",
       "\n",
       "mpl.figure.prototype._canvas_extra_style = function(el){\n",
       "    // this is important to make the div 'focusable\n",
       "    el.attr('tabindex', 0)\n",
       "    // reach out to IPython and tell the keyboard manager to turn it's self\n",
       "    // off when our div gets focus\n",
       "\n",
       "    // location in version 3\n",
       "    if (IPython.notebook.keyboard_manager) {\n",
       "        IPython.notebook.keyboard_manager.register_events(el);\n",
       "    }\n",
       "    else {\n",
       "        // location in version 2\n",
       "        IPython.keyboard_manager.register_events(el);\n",
       "    }\n",
       "\n",
       "}\n",
       "\n",
       "mpl.figure.prototype._key_event_extra = function(event, name) {\n",
       "    var manager = IPython.notebook.keyboard_manager;\n",
       "    if (!manager)\n",
       "        manager = IPython.keyboard_manager;\n",
       "\n",
       "    // Check for shift+enter\n",
       "    if (event.shiftKey && event.which == 13) {\n",
       "        this.canvas_div.blur();\n",
       "        // select the cell after this one\n",
       "        var index = IPython.notebook.find_cell_index(this.cell_info[0]);\n",
       "        IPython.notebook.select(index + 1);\n",
       "    }\n",
       "}\n",
       "\n",
       "mpl.figure.prototype.handle_save = function(fig, msg) {\n",
       "    fig.ondownload(fig, null);\n",
       "}\n",
       "\n",
       "\n",
       "mpl.find_output_cell = function(html_output) {\n",
       "    // Return the cell and output element which can be found *uniquely* in the notebook.\n",
       "    // Note - this is a bit hacky, but it is done because the \"notebook_saving.Notebook\"\n",
       "    // IPython event is triggered only after the cells have been serialised, which for\n",
       "    // our purposes (turning an active figure into a static one), is too late.\n",
       "    var cells = IPython.notebook.get_cells();\n",
       "    var ncells = cells.length;\n",
       "    for (var i=0; i<ncells; i++) {\n",
       "        var cell = cells[i];\n",
       "        if (cell.cell_type === 'code'){\n",
       "            for (var j=0; j<cell.output_area.outputs.length; j++) {\n",
       "                var data = cell.output_area.outputs[j];\n",
       "                if (data.data) {\n",
       "                    // IPython >= 3 moved mimebundle to data attribute of output\n",
       "                    data = data.data;\n",
       "                }\n",
       "                if (data['text/html'] == html_output) {\n",
       "                    return [cell, data, j];\n",
       "                }\n",
       "            }\n",
       "        }\n",
       "    }\n",
       "}\n",
       "\n",
       "// Register the function which deals with the matplotlib target/channel.\n",
       "// The kernel may be null if the page has been refreshed.\n",
       "if (IPython.notebook.kernel != null) {\n",
       "    IPython.notebook.kernel.comm_manager.register_target('matplotlib', mpl.mpl_figure_comm);\n",
       "}\n"
      ],
      "text/plain": [
       "<IPython.core.display.Javascript object>"
      ]
     },
     "metadata": {},
     "output_type": "display_data"
    },
    {
     "data": {
      "text/html": [
       "<img src=\"data:image/png;base64,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\" width=\"639.999990463257\">"
      ],
      "text/plain": [
       "<IPython.core.display.HTML object>"
      ]
     },
     "metadata": {},
     "output_type": "display_data"
    }
   ],
   "source": [
    "%matplotlib notebook\n",
    "import matplotlib.pyplot as plt\n",
    "import matplotlib.image as mpimg\n",
    "# img=mpimg.imread(image_path)\n",
    "imgplot = plt.imshow(im)\n",
    "plt.show()"
   ]
  },
  {
   "cell_type": "code",
   "execution_count": 11,
   "metadata": {
    "ExecuteTime": {
     "end_time": "2020-05-03T21:25:21.309167Z",
     "start_time": "2020-05-03T21:25:21.183103Z"
    },
    "scrolled": false
   },
   "outputs": [
    {
     "data": {
      "image/png": "[encoded data removed]",
      "text/plain": [
       "<PIL.Image.Image image mode=L size=78x304 at 0x7FB64DFFBC50>"
      ]
     },
     "metadata": {},
     "output_type": "display_data"
    },
    {
     "data": {
      "image/png": "[encoded data removed]",
      "text/plain": [
       "<PIL.Image.Image image mode=L size=44x44 at 0x7FB64DFFBAD0>"
      ]
     },
     "metadata": {},
     "output_type": "display_data"
    },
    {
     "data": {
      "image/png": "[encoded data removed]",
      "text/plain": [
       "<PIL.Image.Image image mode=L size=44x45 at 0x7FB64DFFBCD0>"
      ]
     },
     "metadata": {},
     "output_type": "display_data"
    },
    {
     "data": {
      "image/png": "[encoded data removed]",
      "text/plain": [
       "<PIL.Image.Image image mode=L size=44x45 at 0x7FB64DFFBA90>"
      ]
     },
     "metadata": {},
     "output_type": "display_data"
    },
    {
     "data": {
      "image/png": "[encoded data removed]",
      "text/plain": [
       "<PIL.Image.Image image mode=L size=44x44 at 0x7FB64DFFBAD0>"
      ]
     },
     "metadata": {},
     "output_type": "display_data"
    },
    {
     "data": {
      "image/png": "[encoded data removed]",
      "text/plain": [
       "<PIL.Image.Image image mode=L size=44x42 at 0x7FB64DFFBA90>"
      ]
     },
     "metadata": {},
     "output_type": "display_data"
    },
    {
     "data": {
      "image/png": "[encoded data removed]",
      "text/plain": [
       "<PIL.Image.Image image mode=L size=700x100 at 0x7FB64DFFBE90>"
      ]
     },
     "metadata": {},
     "output_type": "display_data"
    },
    {
     "data": {
      "image/png": "[encoded data removed]",
      "text/plain": [
       "<PIL.Image.Image image mode=L size=39x94 at 0x7FB64DFFBB90>"
      ]
     },
     "metadata": {},
     "output_type": "display_data"
    },
    {
     "data": {
      "image/png": "[encoded data removed]",
      "text/plain": [
       "<PIL.Image.Image image mode=L size=54x76 at 0x7FB64DFFBAD0>"
      ]
     },
     "metadata": {},
     "output_type": "display_data"
    },
    {
     "data": {
      "image/png": "[encoded data removed]",
      "text/plain": [
       "<PIL.Image.Image image mode=L size=40x9 at 0x7FB64DFFBC10>"
      ]
     },
     "metadata": {},
     "output_type": "display_data"
    },
    {
     "data": {
      "image/png": "[encoded data removed]",
      "text/plain": [
       "<PIL.Image.Image image mode=L size=34x86 at 0x7FB64DFFBB50>"
      ]
     },
     "metadata": {},
     "output_type": "display_data"
    },
    {
     "data": {
      "image/png": "[encoded data removed]",
      "text/plain": [
       "<PIL.Image.Image image mode=L size=42x80 at 0x7FB64DFFBE90>"
      ]
     },
     "metadata": {},
     "output_type": "display_data"
    },
    {
     "name": "stdout",
     "output_type": "stream",
     "text": [
      "nothing\n"
     ]
    },
    {
     "data": {
      "image/png": "[encoded data removed]",
      "text/plain": [
       "<PIL.Image.Image image mode=L size=30x49 at 0x7FB6367333D0>"
      ]
     },
     "metadata": {},
     "output_type": "display_data"
    },
    {
     "data": {
      "image/png": "[encoded data removed]",
      "text/plain": [
       "<PIL.Image.Image image mode=L size=46x49 at 0x7FB64DFFBB50>"
      ]
     },
     "metadata": {},
     "output_type": "display_data"
    },
    {
     "data": {
      "image/png": "[encoded data removed]",
      "text/plain": [
       "<PIL.Image.Image image mode=L size=27x41 at 0x7FB64DFFBC50>"
      ]
     },
     "metadata": {},
     "output_type": "display_data"
    },
    {
     "data": {
      "image/png": "[encoded data removed]",
      "text/plain": [
       "<PIL.Image.Image image mode=L size=25x42 at 0x7FB64DFFBBD0>"
      ]
     },
     "metadata": {},
     "output_type": "display_data"
    },
    {
     "data": {
      "image/png": "[encoded data removed]",
      "text/plain": [
       "<PIL.Image.Image image mode=L size=845x100 at 0x7FB64DFFBCD0>"
      ]
     },
     "metadata": {},
     "output_type": "display_data"
    },
    {
     "data": {
      "image/png": "[encoded data removed]",
      "text/plain": [
       "<PIL.Image.Image image mode=L size=34x66 at 0x7FB64DFFBA90>"
      ]
     },
     "metadata": {},
     "output_type": "display_data"
    },
    {
     "data": {
      "image/png": "[encoded data removed]",
      "text/plain": [
       "<PIL.Image.Image image mode=L size=53x36 at 0x7FB64DFFBC10>"
      ]
     },
     "metadata": {},
     "output_type": "display_data"
    },
    {
     "data": {
      "image/png": "[encoded data removed]",
      "text/plain": [
       "<PIL.Image.Image image mode=L size=50x64 at 0x7FB64DFFBE90>"
      ]
     },
     "metadata": {},
     "output_type": "display_data"
    },
    {
     "data": {
      "image/png": "[encoded data removed]",
      "text/plain": [
       "<PIL.Image.Image image mode=L size=48x66 at 0x7FB64DFFBB50>"
      ]
     },
     "metadata": {},
     "output_type": "display_data"
    },
    {
     "data": {
      "image/png": "[encoded data removed]",
      "text/plain": [
       "<PIL.Image.Image image mode=L size=57x76 at 0x7FB64DFFBBD0>"
      ]
     },
     "metadata": {},
     "output_type": "display_data"
    },
    {
     "data": {
      "image/png": "[encoded data removed]",
      "text/plain": [
       "<PIL.Image.Image image mode=L size=23x36 at 0x7FB64DFFBA90>"
      ]
     },
     "metadata": {},
     "output_type": "display_data"
    },
    {
     "data": {
      "image/png": "[encoded data removed]",
      "text/plain": [
       "<PIL.Image.Image image mode=L size=1x1 at 0x7FB64DFFBB90>"
      ]
     },
     "metadata": {},
     "output_type": "display_data"
    },
    {
     "data": {
      "image/png": "[encoded data removed]",
      "text/plain": [
       "<PIL.Image.Image image mode=L size=46x62 at 0x7FB64DFFBE90>"
      ]
     },
     "metadata": {},
     "output_type": "display_data"
    },
    {
     "data": {
      "image/png": "[encoded data removed]",
      "text/plain": [
       "<PIL.Image.Image image mode=L size=51x65 at 0x7FB64DFFBC10>"
      ]
     },
     "metadata": {},
     "output_type": "display_data"
    },
    {
     "data": {
      "image/png": "[encoded data removed]",
      "text/plain": [
       "<PIL.Image.Image image mode=L size=21x26 at 0x7FB64DFFBA90>"
      ]
     },
     "metadata": {},
     "output_type": "display_data"
    },
    {
     "data": {
      "image/png": "[encoded data removed]",
      "text/plain": [
       "<PIL.Image.Image image mode=L size=29x26 at 0x7FB64DFFBE50>"
      ]
     },
     "metadata": {},
     "output_type": "display_data"
    },
    {
     "data": {
      "image/png": "[encoded data removed]",
      "text/plain": [
       "<PIL.Image.Image image mode=L size=43x60 at 0x7FB64DFFBE90>"
      ]
     },
     "metadata": {},
     "output_type": "display_data"
    },
    {
     "data": {
      "image/png": "[encoded data removed]",
      "text/plain": [
       "<PIL.Image.Image image mode=L size=33x65 at 0x7FB64DFFBCD0>"
      ]
     },
     "metadata": {},
     "output_type": "display_data"
    },
    {
     "data": {
      "image/png": "[encoded data removed]",
      "text/plain": [
       "<PIL.Image.Image image mode=L size=78x121 at 0x7FB64DFFBAD0>"
      ]
     },
     "metadata": {},
     "output_type": "display_data"
    },
    {
     "data": {
      "image/png": "[encoded data removed]",
      "text/plain": [
       "<PIL.Image.Image image mode=L size=45x46 at 0x7FB64DFFBE50>"
      ]
     },
     "metadata": {},
     "output_type": "display_data"
    },
    {
     "data": {
      "image/png": "[encoded data removed]",
      "text/plain": [
       "<PIL.Image.Image image mode=L size=45x45 at 0x7FB64DFFBCD0>"
      ]
     },
     "metadata": {},
     "output_type": "display_data"
    }
   ],
   "source": [
    "for field in form_data[\"fields\"]:\n",
    "    display(PIL.Image.fromarray(field[\"img\"]))\n",
    "    for img in field[\"box_data\"]:\n",
    "        if len(img)>0:\n",
    "            display(PIL.Image.fromarray(img))\n",
    "        else:\n",
    "            print(\"nothing\")"
   ]
  },
  {
   "cell_type": "code",
   "execution_count": 7,
   "metadata": {
    "ExecuteTime": {
     "end_time": "2020-05-03T21:23:06.985926Z",
     "start_time": "2020-05-03T21:23:06.801780Z"
    },
    "scrolled": false
   },
   "outputs": [
    {
     "name": "stdout",
     "output_type": "stream",
     "text": [
      "'False' with accuracy 0.9\n"
     ]
    },
    {
     "data": {
      "image/png": "[encoded data removed]",
      "text/plain": [
       "<PIL.Image.Image image mode=L size=44x44 at 0x7FB634791E50>"
      ]
     },
     "metadata": {},
     "output_type": "display_data"
    },
    {
     "data": {
      "image/png": "[encoded data removed]",
      "text/plain": [
       "<PIL.Image.Image image mode=L size=44x44 at 0x7FB634791E90>"
      ]
     },
     "metadata": {},
     "output_type": "display_data"
    },
    {
     "name": "stdout",
     "output_type": "stream",
     "text": [
      "'False' with accuracy 0.9\n"
     ]
    },
    {
     "data": {
      "image/png": "[encoded data removed]",
      "text/plain": [
       "<PIL.Image.Image image mode=L size=44x45 at 0x7FB634791D90>"
      ]
     },
     "metadata": {},
     "output_type": "display_data"
    },
    {
     "data": {
      "image/png": "[encoded data removed]",
      "text/plain": [
       "<PIL.Image.Image image mode=L size=44x45 at 0x7FB634791F10>"
      ]
     },
     "metadata": {},
     "output_type": "display_data"
    },
    {
     "name": "stdout",
     "output_type": "stream",
     "text": [
      "'False' with accuracy 0.9\n"
     ]
    },
    {
     "data": {
      "image/png": "[encoded data removed]",
      "text/plain": [
       "<PIL.Image.Image image mode=L size=44x45 at 0x7FB634791CD0>"
      ]
     },
     "metadata": {},
     "output_type": "display_data"
    },
    {
     "data": {
      "image/png": "[encoded data removed]",
      "text/plain": [
       "<PIL.Image.Image image mode=L size=44x45 at 0x7FB634791D50>"
      ]
     },
     "metadata": {},
     "output_type": "display_data"
    },
    {
     "name": "stdout",
     "output_type": "stream",
     "text": [
      "'True' with accuracy 0.9\n"
     ]
    },
    {
     "data": {
      "image/png": "[encoded data removed]",
      "text/plain": [
       "<PIL.Image.Image image mode=L size=44x44 at 0x7FB634791C90>"
      ]
     },
     "metadata": {},
     "output_type": "display_data"
    },
    {
     "data": {
      "image/png": "[encoded data removed]",
      "text/plain": [
       "<PIL.Image.Image image mode=L size=44x44 at 0x7FB634791E90>"
      ]
     },
     "metadata": {},
     "output_type": "display_data"
    },
    {
     "name": "stdout",
     "output_type": "stream",
     "text": [
      "'False' with accuracy 0.9\n"
     ]
    },
    {
     "data": {
      "image/png": "[encoded data removed]",
      "text/plain": [
       "<PIL.Image.Image image mode=L size=44x42 at 0x7FB634791C50>"
      ]
     },
     "metadata": {},
     "output_type": "display_data"
    },
    {
     "data": {
      "image/png": "[encoded data removed]",
      "text/plain": [
       "<PIL.Image.Image image mode=L size=44x42 at 0x7FB634791CD0>"
      ]
     },
     "metadata": {},
     "output_type": "display_data"
    },
    {
     "name": "stdout",
     "output_type": "stream",
     "text": [
      "'t' with accuracy 0.5\n"
     ]
    },
    {
     "data": {
      "image/png": "[encoded data removed]",
      "text/plain": [
       "<PIL.Image.Image image mode=L size=39x94 at 0x7FB634791F50>"
      ]
     },
     "metadata": {},
     "output_type": "display_data"
    },
    {
     "data": {
      "image/png": "[encoded data removed]",
      "text/plain": [
       "<PIL.Image.Image image mode=L size=28x28 at 0x7FB634791C90>"
      ]
     },
     "metadata": {},
     "output_type": "display_data"
    },
    {
     "name": "stdout",
     "output_type": "stream",
     "text": [
      "'h' with accuracy 0.5\n"
     ]
    },
    {
     "data": {
      "image/png": "[encoded data removed]",
      "text/plain": [
       "<PIL.Image.Image image mode=L size=54x76 at 0x7FB634791FD0>"
      ]
     },
     "metadata": {},
     "output_type": "display_data"
    },
    {
     "data": {
      "image/png": "[encoded data removed]",
      "text/plain": [
       "<PIL.Image.Image image mode=L size=28x28 at 0x7FB634791E50>"
      ]
     },
     "metadata": {},
     "output_type": "display_data"
    },
    {
     "name": "stdout",
     "output_type": "stream",
     "text": [
      "'M' with accuracy 0.5\n"
     ]
    },
    {
     "data": {
      "image/png": "[encoded data removed]",
      "text/plain": [
       "<PIL.Image.Image image mode=L size=40x9 at 0x7FB634791C50>"
      ]
     },
     "metadata": {},
     "output_type": "display_data"
    },
    {
     "data": {
      "image/png": "[encoded data removed]",
      "text/plain": [
       "<PIL.Image.Image image mode=L size=28x28 at 0x7FB634791C90>"
      ]
     },
     "metadata": {},
     "output_type": "display_data"
    },
    {
     "name": "stdout",
     "output_type": "stream",
     "text": [
      "'J' with accuracy 0.5\n"
     ]
    },
    {
     "data": {
      "image/png": "[encoded data removed]",
      "text/plain": [
       "<PIL.Image.Image image mode=L size=34x86 at 0x7FB634791ED0>"
      ]
     },
     "metadata": {},
     "output_type": "display_data"
    },
    {
     "data": {
      "image/png": "[encoded data removed]",
      "text/plain": [
       "<PIL.Image.Image image mode=L size=28x28 at 0x7FB634791E90>"
      ]
     },
     "metadata": {},
     "output_type": "display_data"
    },
    {
     "name": "stdout",
     "output_type": "stream",
     "text": [
      "'F' with accuracy 0.5\n"
     ]
    },
    {
     "data": {
      "image/png": "[encoded data removed]",
      "text/plain": [
       "<PIL.Image.Image image mode=L size=42x80 at 0x7FB634791E10>"
      ]
     },
     "metadata": {},
     "output_type": "display_data"
    },
    {
     "data": {
      "image/png": "[encoded data removed]",
      "text/plain": [
       "<PIL.Image.Image image mode=L size=28x28 at 0x7FB634791E50>"
      ]
     },
     "metadata": {},
     "output_type": "display_data"
    },
    {
     "name": "stdout",
     "output_type": "stream",
     "text": [
      "' ' with accuracy 1.0\n",
      "nothing\n",
      "'q' with accuracy 0.5\n"
     ]
    },
    {
     "data": {
      "image/png": "[encoded data removed]",
      "text/plain": [
       "<PIL.Image.Image image mode=L size=30x49 at 0x7FB63478E0D0>"
      ]
     },
     "metadata": {},
     "output_type": "display_data"
    },
    {
     "data": {
      "image/png": "[encoded data removed]",
      "text/plain": [
       "<PIL.Image.Image image mode=L size=28x28 at 0x7FB634791F90>"
      ]
     },
     "metadata": {},
     "output_type": "display_data"
    },
    {
     "name": "stdout",
     "output_type": "stream",
     "text": [
      "'Q' with accuracy 0.5\n"
     ]
    },
    {
     "data": {
      "image/png": "[encoded data removed]",
      "text/plain": [
       "<PIL.Image.Image image mode=L size=46x49 at 0x7FB634791F10>"
      ]
     },
     "metadata": {},
     "output_type": "display_data"
    },
    {
     "data": {
      "image/png": "[encoded data removed]",
      "text/plain": [
       "<PIL.Image.Image image mode=L size=28x28 at 0x7FB634791C50>"
      ]
     },
     "metadata": {},
     "output_type": "display_data"
    },
    {
     "name": "stdout",
     "output_type": "stream",
     "text": [
      "'D' with accuracy 0.5\n"
     ]
    },
    {
     "data": {
      "image/png": "[encoded data removed]",
      "text/plain": [
       "<PIL.Image.Image image mode=L size=27x41 at 0x7FB634791E50>"
      ]
     },
     "metadata": {},
     "output_type": "display_data"
    },
    {
     "data": {
      "image/png": "[encoded data removed]",
      "text/plain": [
       "<PIL.Image.Image image mode=L size=28x28 at 0x7FB634791D10>"
      ]
     },
     "metadata": {},
     "output_type": "display_data"
    },
    {
     "name": "stdout",
     "output_type": "stream",
     "text": [
      "'B' with accuracy 0.5\n"
     ]
    },
    {
     "data": {
      "image/png": "[encoded data removed]",
      "text/plain": [
       "<PIL.Image.Image image mode=L size=25x42 at 0x7FB634791E90>"
      ]
     },
     "metadata": {},
     "output_type": "display_data"
    },
    {
     "data": {
      "image/png": "[encoded data removed]",
      "text/plain": [
       "<PIL.Image.Image image mode=L size=28x28 at 0x7FB634791F90>"
      ]
     },
     "metadata": {},
     "output_type": "display_data"
    },
    {
     "name": "stdout",
     "output_type": "stream",
     "text": [
      "'P' with accuracy 0.5\n"
     ]
    },
    {
     "data": {
      "image/png": "[encoded data removed]",
      "text/plain": [
       "<PIL.Image.Image image mode=L size=34x66 at 0x7FB634791E10>"
      ]
     },
     "metadata": {},
     "output_type": "display_data"
    },
    {
     "data": {
      "image/png": "[encoded data removed]",
      "text/plain": [
       "<PIL.Image.Image image mode=L size=28x28 at 0x7FB634791C50>"
      ]
     },
     "metadata": {},
     "output_type": "display_data"
    },
    {
     "name": "stdout",
     "output_type": "stream",
     "text": [
      "'q' with accuracy 0.5\n"
     ]
    },
    {
     "data": {
      "image/png": "[encoded data removed]",
      "text/plain": [
       "<PIL.Image.Image image mode=L size=53x36 at 0x7FB634791C10>"
      ]
     },
     "metadata": {},
     "output_type": "display_data"
    },
    {
     "data": {
      "image/png": "[encoded data removed]",
      "text/plain": [
       "<PIL.Image.Image image mode=L size=28x28 at 0x7FB634791C10>"
      ]
     },
     "metadata": {},
     "output_type": "display_data"
    },
    {
     "name": "stdout",
     "output_type": "stream",
     "text": [
      "'4' with accuracy 0.5\n"
     ]
    },
    {
     "data": {
      "image/png": "[encoded data removed]",
      "text/plain": [
       "<PIL.Image.Image image mode=L size=50x64 at 0x7FB634791DD0>"
      ]
     },
     "metadata": {},
     "output_type": "display_data"
    },
    {
     "data": {
      "image/png": "[encoded data removed]",
      "text/plain": [
       "<PIL.Image.Image image mode=L size=28x28 at 0x7FB634791DD0>"
      ]
     },
     "metadata": {},
     "output_type": "display_data"
    },
    {
     "name": "stdout",
     "output_type": "stream",
     "text": [
      "'g' with accuracy 0.5\n"
     ]
    },
    {
     "data": {
      "image/png": "[encoded data removed]",
      "text/plain": [
       "<PIL.Image.Image image mode=L size=48x66 at 0x7FB634791C50>"
      ]
     },
     "metadata": {},
     "output_type": "display_data"
    },
    {
     "data": {
      "image/png": "[encoded data removed]",
      "text/plain": [
       "<PIL.Image.Image image mode=L size=28x28 at 0x7FB634791C50>"
      ]
     },
     "metadata": {},
     "output_type": "display_data"
    },
    {
     "name": "stdout",
     "output_type": "stream",
     "text": [
      "'f' with accuracy 0.5\n"
     ]
    },
    {
     "data": {
      "image/png": "[encoded data removed]",
      "text/plain": [
       "<PIL.Image.Image image mode=L size=57x76 at 0x7FB634791D10>"
      ]
     },
     "metadata": {},
     "output_type": "display_data"
    },
    {
     "data": {
      "image/png": "[encoded data removed]",
      "text/plain": [
       "<PIL.Image.Image image mode=L size=28x28 at 0x7FB634791D10>"
      ]
     },
     "metadata": {},
     "output_type": "display_data"
    },
    {
     "name": "stdout",
     "output_type": "stream",
     "text": [
      "'Y' with accuracy 0.5\n"
     ]
    },
    {
     "data": {
      "image/png": "[encoded data removed]",
      "text/plain": [
       "<PIL.Image.Image image mode=L size=23x36 at 0x7FB634791F10>"
      ]
     },
     "metadata": {},
     "output_type": "display_data"
    },
    {
     "data": {
      "image/png": "[encoded data removed]",
      "text/plain": [
       "<PIL.Image.Image image mode=L size=28x28 at 0x7FB634791F10>"
      ]
     },
     "metadata": {},
     "output_type": "display_data"
    },
    {
     "name": "stdout",
     "output_type": "stream",
     "text": [
      "' ' with accuracy 1.0\n"
     ]
    },
    {
     "data": {
      "image/png": "[encoded data removed]",
      "text/plain": [
       "<PIL.Image.Image image mode=L size=1x1 at 0x7FB634791C10>"
      ]
     },
     "metadata": {},
     "output_type": "display_data"
    },
    {
     "data": {
      "image/png": "[encoded data removed]",
      "text/plain": [
       "<PIL.Image.Image image mode=L size=1x1 at 0x7FB634791C10>"
      ]
     },
     "metadata": {},
     "output_type": "display_data"
    },
    {
     "name": "stdout",
     "output_type": "stream",
     "text": [
      "'P' with accuracy 0.5\n"
     ]
    },
    {
     "data": {
      "image/png": "[encoded data removed]",
      "text/plain": [
       "<PIL.Image.Image image mode=L size=46x62 at 0x7FB634791E50>"
      ]
     },
     "metadata": {},
     "output_type": "display_data"
    },
    {
     "data": {
      "image/png": "[encoded data removed]",
      "text/plain": [
       "<PIL.Image.Image image mode=L size=28x28 at 0x7FB634791E50>"
      ]
     },
     "metadata": {},
     "output_type": "display_data"
    },
    {
     "name": "stdout",
     "output_type": "stream",
     "text": [
      "'P' with accuracy 0.5\n"
     ]
    },
    {
     "data": {
      "image/png": "[encoded data removed]",
      "text/plain": [
       "<PIL.Image.Image image mode=L size=51x65 at 0x7FB634791C10>"
      ]
     },
     "metadata": {},
     "output_type": "display_data"
    },
    {
     "data": {
      "image/png": "[encoded data removed]",
      "text/plain": [
       "<PIL.Image.Image image mode=L size=28x28 at 0x7FB634791C10>"
      ]
     },
     "metadata": {},
     "output_type": "display_data"
    },
    {
     "name": "stdout",
     "output_type": "stream",
     "text": [
      "'U' with accuracy 0.5\n"
     ]
    },
    {
     "data": {
      "image/png": "[encoded data removed]",
      "text/plain": [
       "<PIL.Image.Image image mode=L size=21x26 at 0x7FB634791E50>"
      ]
     },
     "metadata": {},
     "output_type": "display_data"
    },
    {
     "data": {
      "image/png": "[encoded data removed]",
      "text/plain": [
       "<PIL.Image.Image image mode=L size=28x28 at 0x7FB634791E50>"
      ]
     },
     "metadata": {},
     "output_type": "display_data"
    },
    {
     "name": "stdout",
     "output_type": "stream",
     "text": [
      "'Q' with accuracy 0.5\n"
     ]
    },
    {
     "data": {
      "image/png": "[encoded data removed]",
      "text/plain": [
       "<PIL.Image.Image image mode=L size=29x26 at 0x7FB634791CD0>"
      ]
     },
     "metadata": {},
     "output_type": "display_data"
    },
    {
     "data": {
      "image/png": "[encoded data removed]",
      "text/plain": [
       "<PIL.Image.Image image mode=L size=28x28 at 0x7FB634791CD0>"
      ]
     },
     "metadata": {},
     "output_type": "display_data"
    },
    {
     "name": "stdout",
     "output_type": "stream",
     "text": [
      "'q' with accuracy 0.5\n"
     ]
    },
    {
     "data": {
      "image/png": "[encoded data removed]",
      "text/plain": [
       "<PIL.Image.Image image mode=L size=43x60 at 0x7FB634791E50>"
      ]
     },
     "metadata": {},
     "output_type": "display_data"
    },
    {
     "data": {
      "image/png": "[encoded data removed]",
      "text/plain": [
       "<PIL.Image.Image image mode=L size=28x28 at 0x7FB634791E50>"
      ]
     },
     "metadata": {},
     "output_type": "display_data"
    },
    {
     "name": "stdout",
     "output_type": "stream",
     "text": [
      "'7' with accuracy 0.5\n"
     ]
    },
    {
     "data": {
      "image/png": "[encoded data removed]",
      "text/plain": [
       "<PIL.Image.Image image mode=L size=33x65 at 0x7FB634791E10>"
      ]
     },
     "metadata": {},
     "output_type": "display_data"
    },
    {
     "data": {
      "image/png": "[encoded data removed]",
      "text/plain": [
       "<PIL.Image.Image image mode=L size=28x28 at 0x7FB634791E10>"
      ]
     },
     "metadata": {},
     "output_type": "display_data"
    },
    {
     "name": "stdout",
     "output_type": "stream",
     "text": [
      "'False' with accuracy 0.9\n"
     ]
    },
    {
     "data": {
      "image/png": "[encoded data removed]",
      "text/plain": [
       "<PIL.Image.Image image mode=L size=45x46 at 0x7FB634791C10>"
      ]
     },
     "metadata": {},
     "output_type": "display_data"
    },
    {
     "data": {
      "image/png": "[encoded data removed]",
      "text/plain": [
       "<PIL.Image.Image image mode=L size=45x46 at 0x7FB634791C10>"
      ]
     },
     "metadata": {},
     "output_type": "display_data"
    },
    {
     "name": "stdout",
     "output_type": "stream",
     "text": [
      "'True' with accuracy 0.9\n"
     ]
    },
    {
     "data": {
      "image/png": "[encoded data removed]",
      "text/plain": [
       "<PIL.Image.Image image mode=L size=45x45 at 0x7FB634791D10>"
      ]
     },
     "metadata": {},
     "output_type": "display_data"
    },
    {
     "data": {
      "image/png": "[encoded data removed]",
      "text/plain": [
       "<PIL.Image.Image image mode=L size=45x45 at 0x7FB634791D10>"
      ]
     },
     "metadata": {},
     "output_type": "display_data"
    }
   ],
   "source": [
    "l=[]\n",
    "\n",
    "for field in form_data[\"fields\"]:\n",
    "    for img, val, acc, new_img in list(zip(field[\"box_data\"],\n",
    "                                   field[\"recognized\"],\n",
    "                                   field[\"accuracy\"],\n",
    "                                   field[\"box_data_transf\"])):\n",
    "        print(f\"'{val}' with accuracy {acc}\")\n",
    "\n",
    "\n",
    "        if len(img)>0:\n",
    "            display(PIL.Image.fromarray(img))\n",
    "            display(PIL.Image.fromarray(new_img))\n",
    "        else:\n",
    "            print(\"nothing\")"
   ]
  },
  {
   "cell_type": "code",
   "execution_count": null,
   "metadata": {
    "ExecuteTime": {
     "end_time": "2020-05-03T11:39:02.211663Z",
     "start_time": "2020-05-03T11:39:02.185482Z"
    }
   },
   "outputs": [],
   "source": [
    "import pickle\n",
    "with open(\"./test/example_forms/julinka_dotaznik/example_letters.pickle\", \"wb\") as fp:   #Pickling\n",
    "    pickle.dump(l, fp)\n",
    "    with open(\"./test/example_forms/julinka_dotaznik/example_letters.pickle\", \"rb\") as fp:   # Unpickling\n",
    "        b = pickle.load(fp)"
   ]
  },
  {
   "cell_type": "code",
   "execution_count": null,
   "metadata": {
    "ExecuteTime": {
     "end_time": "2020-05-03T12:13:53.254872Z",
     "start_time": "2020-05-03T12:13:52.571844Z"
    }
   },
   "outputs": [],
   "source": [
    "from overall_processing.process_one_document import process_document \n",
    "image_path = \"test/example_forms/julinka_dotaznik/front_page.jpg\"\n",
    "with open(\"test/example_forms/julinka_dotaznik/front_page_config.json\", 'r') as f:\n",
    "    config = json.load(f)\n",
    "im = cv2.imread(image_path)\n",
    "\n",
    "form_data = process_document(im, config)"
   ]
  },
  {
   "cell_type": "code",
   "execution_count": null,
   "metadata": {
    "ExecuteTime": {
     "end_time": "2020-05-03T12:13:59.166152Z",
     "start_time": "2020-05-03T12:13:59.044239Z"
    }
   },
   "outputs": [],
   "source": [
    "form_data"
   ]
  },
  {
   "cell_type": "code",
   "execution_count": null,
   "metadata": {},
   "outputs": [],
   "source": []
  }
 ],
 "metadata": {
  "hide_input": false,
  "kernelspec": {
   "display_name": "Python 3",
   "language": "python",
   "name": "python3"
  },
  "language_info": {
   "codemirror_mode": {
    "name": "ipython",
    "version": 3
   },
   "file_extension": ".py",
   "mimetype": "text/x-python",
   "name": "python",
   "nbconvert_exporter": "python",
   "pygments_lexer": "ipython3",
   "version": "3.7.7"
  },
  "toc": {
   "base_numbering": 1,
   "nav_menu": {},
   "number_sections": true,
   "sideBar": true,
   "skip_h1_title": false,
   "title_cell": "Table of Contents",
   "title_sidebar": "Contents",
   "toc_cell": false,
   "toc_position": {},
   "toc_section_display": true,
   "toc_window_display": false
  },
  "varInspector": {
   "cols": {
    "lenName": 16,
    "lenType": 16,
    "lenVar": 40
   },
   "kernels_config": {
    "python": {
     "delete_cmd_postfix": "",
     "delete_cmd_prefix": "del ",
     "library": "var_list.py",
     "varRefreshCmd": "print(var_dic_list())"
    },
    "r": {
     "delete_cmd_postfix": ") ",
     "delete_cmd_prefix": "rm(",
     "library": "var_list.r",
     "varRefreshCmd": "cat(var_dic_list()) "
    }
   },
   "types_to_exclude": [
    "module",
    "function",
    "builtin_function_or_method",
    "instance",
    "_Feature"
   ],
   "window_display": false
  }
 },
 "nbformat": 4,
 "nbformat_minor": 4
}
