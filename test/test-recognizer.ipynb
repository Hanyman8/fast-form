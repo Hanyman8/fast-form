{
 "cells": [
  {
   "cell_type": "code",
   "execution_count": 1,
   "metadata": {
    "ExecuteTime": {
     "end_time": "2020-05-03T11:10:32.831507Z",
     "start_time": "2020-05-03T11:10:32.797682Z"
    }
   },
   "outputs": [],
   "source": [
    "import os\n",
    "os.chdir(\"../\")"
   ]
  },
  {
   "cell_type": "code",
   "execution_count": 2,
   "metadata": {
    "ExecuteTime": {
     "end_time": "2020-05-03T11:10:33.098362Z",
     "start_time": "2020-05-03T11:10:33.069409Z"
    }
   },
   "outputs": [],
   "source": [
    "%load_ext autoreload\n",
    "\n",
    "%autoreload 2"
   ]
  },
  {
   "cell_type": "code",
   "execution_count": 3,
   "metadata": {
    "ExecuteTime": {
     "end_time": "2020-05-03T11:10:33.450257Z",
     "start_time": "2020-05-03T11:10:33.403676Z"
    }
   },
   "outputs": [],
   "source": [
    "import json\n",
    "import cv2\n",
    "from preprocessing.preprocess import preprocess\n",
    "from IPython.display import Image\n",
    "\n",
    "import PIL.Image\n",
    "\n",
    "from structure_parser.formstructureparser import FormStructureParser\n",
    "from field_recognizer.recognize_all import recognize"
   ]
  },
  {
   "cell_type": "code",
   "execution_count": 4,
   "metadata": {
    "ExecuteTime": {
     "end_time": "2020-05-03T11:10:33.718606Z",
     "start_time": "2020-05-03T11:10:33.706513Z"
    }
   },
   "outputs": [],
   "source": [
    "image_path = \"test/example_forms/julinka_dotaznik/front_page.jpg\"\n",
    "with open(\"test/example_forms/julinka_dotaznik/front_page_config.json\", 'r') as f:\n",
    "    config = json.load(f) "
   ]
  },
  {
   "cell_type": "code",
   "execution_count": 7,
   "metadata": {
    "ExecuteTime": {
     "end_time": "2020-05-03T11:10:54.222862Z",
     "start_time": "2020-05-03T11:10:53.986957Z"
    }
   },
   "outputs": [],
   "source": [
    "fsp = FormStructureParser(config)\n",
    "\n",
    "img = preprocess(image_path, config)\n",
    "form_data = fsp.process_form(img)\n",
    "form_data = recognize(form_data)"
   ]
  },
  {
   "cell_type": "code",
   "execution_count": 9,
   "metadata": {
    "ExecuteTime": {
     "end_time": "2020-05-03T11:10:58.793650Z",
     "start_time": "2020-05-03T11:10:58.632867Z"
    },
    "scrolled": false
   },
   "outputs": [
    {
     "name": "stdout",
     "output_type": "stream",
     "text": [
      "True with accuracy 0.9\n"
     ]
    },
    {
     "data": {
      "image/png": "[encoded data removed]",
      "text/plain": [
       "<PIL.Image.Image image mode=L size=44x43 at 0x7FACE5B13250>"
      ]
     },
     "metadata": {},
     "output_type": "display_data"
    },
    {
     "data": {
      "image/png": "[encoded data removed]",
      "text/plain": [
       "<PIL.Image.Image image mode=L size=44x43 at 0x7FACE5B13B90>"
      ]
     },
     "metadata": {},
     "output_type": "display_data"
    },
    {
     "name": "stdout",
     "output_type": "stream",
     "text": [
      "(43, 44)\n",
      "False with accuracy 0.9\n"
     ]
    },
    {
     "data": {
      "image/png": "[encoded data removed]",
      "text/plain": [
       "<PIL.Image.Image image mode=L size=44x43 at 0x7FACE5B0E890>"
      ]
     },
     "metadata": {},
     "output_type": "display_data"
    },
    {
     "data": {
      "image/png": "[encoded data removed]",
      "text/plain": [
       "<PIL.Image.Image image mode=L size=44x43 at 0x7FACE5B17690>"
      ]
     },
     "metadata": {},
     "output_type": "display_data"
    },
    {
     "name": "stdout",
     "output_type": "stream",
     "text": [
      "(43, 44)\n",
      "False with accuracy 0.9\n"
     ]
    },
    {
     "data": {
      "image/png": "[encoded data removed]",
      "text/plain": [
       "<PIL.Image.Image image mode=L size=43x43 at 0x7FACE5B0E890>"
      ]
     },
     "metadata": {},
     "output_type": "display_data"
    },
    {
     "data": {
      "image/png": "[encoded data removed]",
      "text/plain": [
       "<PIL.Image.Image image mode=L size=43x43 at 0x7FACE5B13650>"
      ]
     },
     "metadata": {},
     "output_type": "display_data"
    },
    {
     "name": "stdout",
     "output_type": "stream",
     "text": [
      "(43, 43)\n",
      "False with accuracy 0.9\n"
     ]
    },
    {
     "data": {
      "image/png": "[encoded data removed]",
      "text/plain": [
       "<PIL.Image.Image image mode=L size=43x44 at 0x7FACE5B0E890>"
      ]
     },
     "metadata": {},
     "output_type": "display_data"
    },
    {
     "data": {
      "image/png": "[encoded data removed]",
      "text/plain": [
       "<PIL.Image.Image image mode=L size=43x44 at 0x7FACE5B13D90>"
      ]
     },
     "metadata": {},
     "output_type": "display_data"
    },
    {
     "name": "stdout",
     "output_type": "stream",
     "text": [
      "(44, 43)\n",
      "c with accuracy 0.5\n"
     ]
    },
    {
     "data": {
      "image/png": "[encoded data removed]",
      "text/plain": [
       "<PIL.Image.Image image mode=L size=52x70 at 0x7FACE5B0EC90>"
      ]
     },
     "metadata": {},
     "output_type": "display_data"
    },
    {
     "data": {
      "image/png": "[encoded data removed]",
      "text/plain": [
       "<PIL.Image.Image image mode=L size=20x36 at 0x7FACE5B13B10>"
      ]
     },
     "metadata": {},
     "output_type": "display_data"
    },
    {
     "name": "stdout",
     "output_type": "stream",
     "text": [
      "(36, 20)\n",
      "c with accuracy 0.5\n"
     ]
    },
    {
     "data": {
      "image/png": "[encoded data removed]",
      "text/plain": [
       "<PIL.Image.Image image mode=L size=45x79 at 0x7FACE5B0EC90>"
      ]
     },
     "metadata": {},
     "output_type": "display_data"
    },
    {
     "data": {
      "image/png": "[encoded data removed]",
      "text/plain": [
       "<PIL.Image.Image image mode=L size=15x41 at 0x7FACE5B13C10>"
      ]
     },
     "metadata": {},
     "output_type": "display_data"
    },
    {
     "name": "stdout",
     "output_type": "stream",
     "text": [
      "(41, 15)\n",
      "c with accuracy 0.5\n"
     ]
    },
    {
     "data": {
      "image/png": "[encoded data removed]",
      "text/plain": [
       "<PIL.Image.Image image mode=L size=36x73 at 0x7FACE5B13B10>"
      ]
     },
     "metadata": {},
     "output_type": "display_data"
    },
    {
     "data": {
      "image/png": "[encoded data removed]",
      "text/plain": [
       "<PIL.Image.Image image mode=L size=13x43 at 0x7FACE5B17690>"
      ]
     },
     "metadata": {},
     "output_type": "display_data"
    },
    {
     "name": "stdout",
     "output_type": "stream",
     "text": [
      "(43, 13)\n",
      "c with accuracy 0.5\n"
     ]
    },
    {
     "data": {
      "image/png": "[encoded data removed]",
      "text/plain": [
       "<PIL.Image.Image image mode=L size=46x69 at 0x7FACE5B0ED50>"
      ]
     },
     "metadata": {},
     "output_type": "display_data"
    },
    {
     "data": {
      "image/png": "[encoded data removed]",
      "text/plain": [
       "<PIL.Image.Image image mode=L size=18x38 at 0x7FACE5B13450>"
      ]
     },
     "metadata": {},
     "output_type": "display_data"
    },
    {
     "name": "stdout",
     "output_type": "stream",
     "text": [
      "(38, 18)\n",
      " with accuracy 1.0\n"
     ]
    },
    {
     "data": {
      "image/png": "[encoded data removed]",
      "text/plain": [
       "<PIL.Image.Image image mode=L size=1x1 at 0x7FACE5B0ED50>"
      ]
     },
     "metadata": {},
     "output_type": "display_data"
    },
    {
     "data": {
      "image/png": "[encoded data removed]",
      "text/plain": [
       "<PIL.Image.Image image mode=L size=1x1 at 0x7FACE5B13D90>"
      ]
     },
     "metadata": {},
     "output_type": "display_data"
    },
    {
     "name": "stdout",
     "output_type": "stream",
     "text": [
      "(1, 1)\n",
      "c with accuracy 0.5\n"
     ]
    },
    {
     "data": {
      "image/png": "[encoded data removed]",
      "text/plain": [
       "<PIL.Image.Image image mode=L size=49x76 at 0x7FACE5B0ED50>"
      ]
     },
     "metadata": {},
     "output_type": "display_data"
    },
    {
     "data": {
      "image/png": "[encoded data removed]",
      "text/plain": [
       "<PIL.Image.Image image mode=L size=18x38 at 0x7FACE5B133D0>"
      ]
     },
     "metadata": {},
     "output_type": "display_data"
    },
    {
     "name": "stdout",
     "output_type": "stream",
     "text": [
      "(38, 18)\n",
      "c with accuracy 0.5\n"
     ]
    },
    {
     "data": {
      "image/png": "[encoded data removed]",
      "text/plain": [
       "<PIL.Image.Image image mode=L size=46x67 at 0x7FACE5B0E890>"
      ]
     },
     "metadata": {},
     "output_type": "display_data"
    },
    {
     "data": {
      "image/png": "[encoded data removed]",
      "text/plain": [
       "<PIL.Image.Image image mode=L size=19x37 at 0x7FACE5B13B10>"
      ]
     },
     "metadata": {},
     "output_type": "display_data"
    },
    {
     "name": "stdout",
     "output_type": "stream",
     "text": [
      "(37, 19)\n",
      "c with accuracy 0.5\n"
     ]
    },
    {
     "data": {
      "image/png": "[encoded data removed]",
      "text/plain": [
       "<PIL.Image.Image image mode=L size=30x38 at 0x7FACE5B0E890>"
      ]
     },
     "metadata": {},
     "output_type": "display_data"
    },
    {
     "data": {
      "image/png": "[encoded data removed]",
      "text/plain": [
       "<PIL.Image.Image image mode=L size=22x34 at 0x7FACE5B132D0>"
      ]
     },
     "metadata": {},
     "output_type": "display_data"
    },
    {
     "name": "stdout",
     "output_type": "stream",
     "text": [
      "(34, 22)\n",
      "c with accuracy 0.5\n"
     ]
    },
    {
     "data": {
      "image/png": "[encoded data removed]",
      "text/plain": [
       "<PIL.Image.Image image mode=L size=11x40 at 0x7FACE5B0E890>"
      ]
     },
     "metadata": {},
     "output_type": "display_data"
    },
    {
     "data": {
      "image/png": "[encoded data removed]",
      "text/plain": [
       "<PIL.Image.Image image mode=L size=7x49 at 0x7FACE5B13290>"
      ]
     },
     "metadata": {},
     "output_type": "display_data"
    },
    {
     "name": "stdout",
     "output_type": "stream",
     "text": [
      "(49, 7)\n",
      "c with accuracy 0.5\n"
     ]
    },
    {
     "data": {
      "image/png": "[encoded data removed]",
      "text/plain": [
       "<PIL.Image.Image image mode=L size=47x13 at 0x7FACE5B0E510>"
      ]
     },
     "metadata": {},
     "output_type": "display_data"
    },
    {
     "data": {
      "image/png": "[encoded data removed]",
      "text/plain": [
       "<PIL.Image.Image image mode=L size=49x7 at 0x7FACE5B13C10>"
      ]
     },
     "metadata": {},
     "output_type": "display_data"
    },
    {
     "name": "stdout",
     "output_type": "stream",
     "text": [
      "(7, 49)\n",
      "c with accuracy 0.5\n"
     ]
    },
    {
     "data": {
      "image/png": "[encoded data removed]",
      "text/plain": [
       "<PIL.Image.Image image mode=L size=48x58 at 0x7FACE5B0EC90>"
      ]
     },
     "metadata": {},
     "output_type": "display_data"
    },
    {
     "data": {
      "image/png": "[encoded data removed]",
      "text/plain": [
       "<PIL.Image.Image image mode=L size=23x33 at 0x7FACE5B13790>"
      ]
     },
     "metadata": {},
     "output_type": "display_data"
    },
    {
     "name": "stdout",
     "output_type": "stream",
     "text": [
      "(33, 23)\n",
      "c with accuracy 0.5\n"
     ]
    },
    {
     "data": {
      "image/png": "[encoded data removed]",
      "text/plain": [
       "<PIL.Image.Image image mode=L size=33x37 at 0x7FACE5B0ED50>"
      ]
     },
     "metadata": {},
     "output_type": "display_data"
    },
    {
     "data": {
      "image/png": "[encoded data removed]",
      "text/plain": [
       "<PIL.Image.Image image mode=L size=24x32 at 0x7FACE5B13890>"
      ]
     },
     "metadata": {},
     "output_type": "display_data"
    },
    {
     "name": "stdout",
     "output_type": "stream",
     "text": [
      "(32, 24)\n",
      "c with accuracy 0.5\n"
     ]
    },
    {
     "data": {
      "image/png": "[encoded data removed]",
      "text/plain": [
       "<PIL.Image.Image image mode=L size=38x63 at 0x7FACE5B0E890>"
      ]
     },
     "metadata": {},
     "output_type": "display_data"
    },
    {
     "data": {
      "image/png": "[encoded data removed]",
      "text/plain": [
       "<PIL.Image.Image image mode=L size=16x40 at 0x7FACE5B13450>"
      ]
     },
     "metadata": {},
     "output_type": "display_data"
    },
    {
     "name": "stdout",
     "output_type": "stream",
     "text": [
      "(40, 16)\n",
      "c with accuracy 0.5\n"
     ]
    },
    {
     "data": {
      "image/png": "[encoded data removed]",
      "text/plain": [
       "<PIL.Image.Image image mode=L size=34x43 at 0x7FACE5B0E510>"
      ]
     },
     "metadata": {},
     "output_type": "display_data"
    },
    {
     "data": {
      "image/png": "[encoded data removed]",
      "text/plain": [
       "<PIL.Image.Image image mode=L size=22x34 at 0x7FACE5B13C10>"
      ]
     },
     "metadata": {},
     "output_type": "display_data"
    },
    {
     "name": "stdout",
     "output_type": "stream",
     "text": [
      "(34, 22)\n",
      "c with accuracy 0.5\n"
     ]
    },
    {
     "data": {
      "image/png": "[encoded data removed]",
      "text/plain": [
       "<PIL.Image.Image image mode=L size=21x43 at 0x7FACE5B0EC90>"
      ]
     },
     "metadata": {},
     "output_type": "display_data"
    },
    {
     "data": {
      "image/png": "[encoded data removed]",
      "text/plain": [
       "<PIL.Image.Image image mode=L size=13x43 at 0x7FACE5B13B10>"
      ]
     },
     "metadata": {},
     "output_type": "display_data"
    },
    {
     "name": "stdout",
     "output_type": "stream",
     "text": [
      "(43, 13)\n",
      " with accuracy 1.0\n"
     ]
    },
    {
     "data": {
      "image/png": "[encoded data removed]",
      "text/plain": [
       "<PIL.Image.Image image mode=L size=1x1 at 0x7FACE5B0ED50>"
      ]
     },
     "metadata": {},
     "output_type": "display_data"
    },
    {
     "data": {
      "image/png": "[encoded data removed]",
      "text/plain": [
       "<PIL.Image.Image image mode=L size=1x1 at 0x7FACE5B132D0>"
      ]
     },
     "metadata": {},
     "output_type": "display_data"
    },
    {
     "name": "stdout",
     "output_type": "stream",
     "text": [
      "(1, 1)\n",
      "c with accuracy 0.5\n"
     ]
    },
    {
     "data": {
      "image/png": "[encoded data removed]",
      "text/plain": [
       "<PIL.Image.Image image mode=L size=63x64 at 0x7FACE5B0E890>"
      ]
     },
     "metadata": {},
     "output_type": "display_data"
    },
    {
     "data": {
      "image/png": "[encoded data removed]",
      "text/plain": [
       "<PIL.Image.Image image mode=L size=27x29 at 0x7FACE5B13250>"
      ]
     },
     "metadata": {},
     "output_type": "display_data"
    },
    {
     "name": "stdout",
     "output_type": "stream",
     "text": [
      "(29, 27)\n",
      "c with accuracy 0.5\n"
     ]
    },
    {
     "data": {
      "image/png": "[encoded data removed]",
      "text/plain": [
       "<PIL.Image.Image image mode=L size=29x57 at 0x7FACE5B0E510>"
      ]
     },
     "metadata": {},
     "output_type": "display_data"
    },
    {
     "data": {
      "image/png": "[encoded data removed]",
      "text/plain": [
       "<PIL.Image.Image image mode=L size=14x42 at 0x7FACE5B13C10>"
      ]
     },
     "metadata": {},
     "output_type": "display_data"
    },
    {
     "name": "stdout",
     "output_type": "stream",
     "text": [
      "(42, 14)\n",
      "c with accuracy 0.5\n"
     ]
    },
    {
     "data": {
      "image/png": "[encoded data removed]",
      "text/plain": [
       "<PIL.Image.Image image mode=L size=30x61 at 0x7FACE5B0EC90>"
      ]
     },
     "metadata": {},
     "output_type": "display_data"
    },
    {
     "data": {
      "image/png": "[encoded data removed]",
      "text/plain": [
       "<PIL.Image.Image image mode=L size=13x43 at 0x7FACE5B13D90>"
      ]
     },
     "metadata": {},
     "output_type": "display_data"
    },
    {
     "name": "stdout",
     "output_type": "stream",
     "text": [
      "(43, 13)\n",
      " with accuracy 1.0\n"
     ]
    },
    {
     "data": {
      "image/png": "[encoded data removed]",
      "text/plain": [
       "<PIL.Image.Image image mode=L size=47x1 at 0x7FACE5B0ED50>"
      ]
     },
     "metadata": {},
     "output_type": "display_data"
    },
    {
     "data": {
      "image/png": "[encoded data removed]",
      "text/plain": [
       "<PIL.Image.Image image mode=L size=47x1 at 0x7FACE5B133D0>"
      ]
     },
     "metadata": {},
     "output_type": "display_data"
    },
    {
     "name": "stdout",
     "output_type": "stream",
     "text": [
      "(1, 47)\n",
      "c with accuracy 0.5\n"
     ]
    },
    {
     "data": {
      "image/png": "[encoded data removed]",
      "text/plain": [
       "<PIL.Image.Image image mode=L size=34x59 at 0x7FACE5B0E890>"
      ]
     },
     "metadata": {},
     "output_type": "display_data"
    },
    {
     "data": {
      "image/png": "[encoded data removed]",
      "text/plain": [
       "<PIL.Image.Image image mode=L size=16x40 at 0x7FACE5B132D0>"
      ]
     },
     "metadata": {},
     "output_type": "display_data"
    },
    {
     "name": "stdout",
     "output_type": "stream",
     "text": [
      "(40, 16)\n",
      "c with accuracy 0.5\n"
     ]
    },
    {
     "data": {
      "image/png": "[encoded data removed]",
      "text/plain": [
       "<PIL.Image.Image image mode=L size=55x61 at 0x7FACE5B0E510>"
      ]
     },
     "metadata": {},
     "output_type": "display_data"
    },
    {
     "data": {
      "image/png": "[encoded data removed]",
      "text/plain": [
       "<PIL.Image.Image image mode=L size=25x31 at 0x7FACE5B13650>"
      ]
     },
     "metadata": {},
     "output_type": "display_data"
    },
    {
     "name": "stdout",
     "output_type": "stream",
     "text": [
      "(31, 25)\n",
      "c with accuracy 0.5\n"
     ]
    },
    {
     "data": {
      "image/png": "[encoded data removed]",
      "text/plain": [
       "<PIL.Image.Image image mode=L size=57x64 at 0x7FACE5B0EC90>"
      ]
     },
     "metadata": {},
     "output_type": "display_data"
    },
    {
     "data": {
      "image/png": "[encoded data removed]",
      "text/plain": [
       "<PIL.Image.Image image mode=L size=24x32 at 0x7FACE5B133D0>"
      ]
     },
     "metadata": {},
     "output_type": "display_data"
    },
    {
     "name": "stdout",
     "output_type": "stream",
     "text": [
      "(32, 24)\n",
      "c with accuracy 0.5\n"
     ]
    },
    {
     "data": {
      "image/png": "[encoded data removed]",
      "text/plain": [
       "<PIL.Image.Image image mode=L size=30x40 at 0x7FACE5B0ED50>"
      ]
     },
     "metadata": {},
     "output_type": "display_data"
    },
    {
     "data": {
      "image/png": "[encoded data removed]",
      "text/plain": [
       "<PIL.Image.Image image mode=L size=21x35 at 0x7FACE5B13B90>"
      ]
     },
     "metadata": {},
     "output_type": "display_data"
    },
    {
     "name": "stdout",
     "output_type": "stream",
     "text": [
      "(35, 21)\n",
      "c with accuracy 0.5\n"
     ]
    },
    {
     "data": {
      "image/png": "[encoded data removed]",
      "text/plain": [
       "<PIL.Image.Image image mode=L size=25x67 at 0x7FACE5B0E890>"
      ]
     },
     "metadata": {},
     "output_type": "display_data"
    },
    {
     "data": {
      "image/png": "[encoded data removed]",
      "text/plain": [
       "<PIL.Image.Image image mode=L size=10x46 at 0x7FACE5B13450>"
      ]
     },
     "metadata": {},
     "output_type": "display_data"
    },
    {
     "name": "stdout",
     "output_type": "stream",
     "text": [
      "(46, 10)\n"
     ]
    }
   ],
   "source": [
    "l=[]\n",
    "\n",
    "for field in form_data[\"fields\"]:\n",
    "    for img, val, acc, new_img in list(zip(field[\"box_data\"],\n",
    "                                   field[\"recognized\"],\n",
    "                                   field[\"accuracy\"],\n",
    "                                   field[\"box_data_transf\"])):\n",
    "        print(f\"{val} with accuracy {acc}\")\n",
    "        display(PIL.Image.fromarray(img))\n",
    "        display(PIL.Image.fromarray(new_img))\n",
    "        print(new_img.shape)\n",
    "        if field[\"type\"]==\"letters\":\n",
    "            l.append(new_img)"
   ]
  },
  {
   "cell_type": "code",
   "execution_count": 10,
   "metadata": {
    "ExecuteTime": {
     "end_time": "2020-05-03T11:12:02.982874Z",
     "start_time": "2020-05-03T11:12:02.868643Z"
    },
    "scrolled": false
   },
   "outputs": [
    {
     "data": {
      "text/plain": [
       "[array([[255, 255, 255, 255, 255, 255, 255, 255, 255, 255, 255, 255, 255,\n",
       "         255, 255, 255, 255, 255, 255, 255],\n",
       "        [255, 255, 255, 255, 255, 255, 255, 255, 255, 255, 255, 255, 255,\n",
       "         255, 255, 255, 255, 255, 255, 255],\n",
       "        [255, 255, 255, 255, 255, 255, 255, 255, 255, 255, 255, 255, 255,\n",
       "         255, 255, 255, 255, 255, 255, 255],\n",
       "        [255, 255, 255, 255, 255, 255, 255, 255, 255, 255, 255, 255, 255,\n",
       "         255, 255, 255, 255, 255, 255, 255],\n",
       "        [255, 247,  58,  58,  58,  58,  58,  58,  58,  60,   8,   0,   0,\n",
       "           0,   0,   0, 255, 255, 255, 255],\n",
       "        [255,   0,   0,   0,   0,   0,   0,   0,   0,   0,   0,   3,   2,\n",
       "           0,   5,  47, 255, 255, 255, 255],\n",
       "        [ 36,  50,  49,  37,  59, 185,  16,  14, 231, 214, 214, 255, 255,\n",
       "         255, 255, 255, 255, 255, 255, 255],\n",
       "        [ 36, 255, 255, 255, 255, 252,   0,   7, 255, 255, 255, 255, 255,\n",
       "         255, 255, 255, 255, 255, 255, 255],\n",
       "        [255, 255, 255, 255, 255, 255,  22,   0, 215, 255, 255, 255, 255,\n",
       "         255, 255, 255, 255, 255, 255, 255],\n",
       "        [255, 255, 255, 255, 255, 251,   1,  98, 255, 255, 255, 255, 255,\n",
       "         255, 255, 255, 255, 255, 255, 255],\n",
       "        [255, 255, 255, 255, 255, 255,   0,   0, 237, 255, 255, 255, 255,\n",
       "         255, 255, 255, 255, 255, 255, 255],\n",
       "        [255, 255, 255, 255, 255, 255,   4,  14, 235, 255, 255, 255, 255,\n",
       "         255, 255, 255, 255, 255, 255, 255],\n",
       "        [255, 255, 255, 255, 255, 255,   0,   0, 242, 255, 255, 255, 255,\n",
       "         255, 255, 255, 255, 255, 255, 255],\n",
       "        [255, 255, 255, 255, 255, 255,   0,   0, 253, 255, 255, 255, 255,\n",
       "         255, 255, 255, 255, 255, 255, 255],\n",
       "        [255, 255, 255, 255, 255, 255, 132,  40, 123, 255, 255, 255, 255,\n",
       "         255, 255, 255, 255, 255, 255, 255],\n",
       "        [255, 255, 255, 255, 255, 255, 104,   0, 131, 255, 255, 255, 255,\n",
       "         255, 255, 255, 255, 255, 255, 255],\n",
       "        [255, 255, 255, 255, 255, 255, 118,  31, 239, 255, 255, 255, 255,\n",
       "         255, 255, 255, 255, 255, 255, 255],\n",
       "        [255, 255, 255, 255, 255, 255, 106,   0, 214, 255, 255, 255, 255,\n",
       "         255, 255, 255, 255, 255, 255, 255],\n",
       "        [255, 255, 255, 255, 255, 255, 120,  57, 247, 255, 255, 255, 255,\n",
       "         255, 255, 255, 255, 255, 255, 255],\n",
       "        [255, 255, 255, 255, 255, 255, 225, 105, 255, 255, 255, 255, 255,\n",
       "         255, 255, 255, 255, 255, 255, 255],\n",
       "        [255, 255, 255, 255, 255, 255, 232,   0, 132, 255, 255, 255, 255,\n",
       "         255, 255, 255, 255, 255, 255, 255],\n",
       "        [255, 255, 255, 255, 255, 255, 251,  77,  96, 255, 255, 255, 255,\n",
       "         255, 255, 255, 255, 255, 255, 255],\n",
       "        [255, 255, 255, 255, 255, 255, 255,   0,   0, 227, 255, 255, 255,\n",
       "         255, 255, 255, 255, 255, 255, 255],\n",
       "        [255, 255, 255, 255, 255, 255, 255, 125,   0, 220, 255, 255, 255,\n",
       "         255, 255, 255, 255, 255, 255, 255],\n",
       "        [255, 255, 255, 255, 255, 255, 255, 227,   0,  67, 255, 255, 255,\n",
       "         255, 255, 255, 255, 255, 255, 255],\n",
       "        [255, 255, 255, 255, 255, 255, 255, 255,   0,  37, 255, 255, 255,\n",
       "         255, 255, 255, 255, 255, 255, 255],\n",
       "        [255, 255, 255, 255, 255, 255, 255, 255,   3,   9, 255, 255, 255,\n",
       "         255, 255, 255, 255, 255, 255, 255],\n",
       "        [255, 255, 255, 255, 255, 255, 255, 255,  62,  67, 255, 255, 255,\n",
       "         255, 255, 255, 255, 255, 255, 255],\n",
       "        [255, 255, 255, 255, 255, 255, 255, 255, 255, 255, 255, 255, 255,\n",
       "         255, 255, 255, 255, 255, 255, 255],\n",
       "        [255, 255, 255, 255, 255, 255, 255, 255, 255, 255, 255, 255, 255,\n",
       "         255, 255, 255, 255, 255, 255, 255],\n",
       "        [255, 255, 255, 255, 255, 255, 255, 255, 255, 255, 255, 255, 255,\n",
       "         255, 255, 255, 255, 255, 255, 255],\n",
       "        [255, 255, 255, 255, 255, 255, 255, 255, 255, 255, 255, 255, 255,\n",
       "         255, 255, 255, 255, 255, 255,  45],\n",
       "        [255, 255, 255, 255, 255, 255, 255, 255, 255, 255, 255, 255, 255,\n",
       "         255, 255, 255, 255, 255, 255, 255],\n",
       "        [255, 255, 255, 255, 255, 255, 255, 255, 255, 255, 255, 255, 255,\n",
       "         255, 255, 255, 255, 255, 255, 255],\n",
       "        [255, 255, 255, 255, 255, 255, 255, 255, 255, 255, 255, 255, 255,\n",
       "         255, 255, 255, 255, 255, 255, 255],\n",
       "        [255, 255, 255, 255, 255, 255, 255, 255, 255, 255, 255, 255, 255,\n",
       "         255, 255, 255, 255, 255, 255, 255]], dtype=uint8),\n",
       " array([[255, 255, 255, 255, 255, 255, 255, 255, 255, 255, 255, 255, 255,\n",
       "         255, 255],\n",
       "        [255, 255, 255, 255, 255, 255, 255, 255, 255, 255, 255, 255, 255,\n",
       "         255, 255],\n",
       "        [255, 255, 255, 255, 255, 255, 255, 255, 255, 255, 255, 255, 255,\n",
       "         255, 255],\n",
       "        [255, 255, 255, 255, 255, 255, 255, 255, 255, 255, 255, 255, 255,\n",
       "         255, 255],\n",
       "        [255, 255, 255, 255, 255, 255, 255, 255, 255, 255, 255, 255, 255,\n",
       "         255, 255],\n",
       "        [255, 255, 255, 255, 255, 255, 255, 255, 255, 255, 255, 255, 255,\n",
       "         255, 255],\n",
       "        [255, 255, 255, 255, 255, 255, 255, 255, 255,   0,  52, 255, 255,\n",
       "         255, 255],\n",
       "        [255, 255, 255, 255, 255, 255, 255, 255,  46,   1,  21, 255, 255,\n",
       "         255, 255],\n",
       "        [255, 255, 255, 255, 255, 255, 255, 255,  28,   0,   0, 255, 255,\n",
       "         255, 255],\n",
       "        [255, 255, 255, 255, 255, 255, 255, 255,   0,   0,   4, 194, 255,\n",
       "         255, 255],\n",
       "        [255, 255, 255, 255, 255, 255, 255, 255,   0,  80,   0, 111, 255,\n",
       "         255, 255],\n",
       "        [255, 255, 255, 255, 255, 255, 255, 155,   0, 246,   0,  45, 255,\n",
       "         255, 255],\n",
       "        [255, 255, 255, 255, 255, 255, 255,  88,   0, 255,   0,   3, 255,\n",
       "         255, 255],\n",
       "        [255, 255, 255, 255, 255, 226,  18,   0,   0,   0,   0,   0,   0,\n",
       "          81, 255],\n",
       "        [255, 255, 255, 255, 255,  20,   0,   1,   2,   3,   0,   0,   0,\n",
       "           0, 255],\n",
       "        [255, 255, 255, 255, 255, 255, 255,  97, 193, 255, 177,   0, 255,\n",
       "         152, 255],\n",
       "        [255, 255, 255, 255, 255, 255, 120,  33, 255, 255, 164,   0, 255,\n",
       "         255, 255],\n",
       "        [255, 255, 255, 255, 255, 209,   0, 127, 255, 255, 238,   0, 171,\n",
       "         255, 255],\n",
       "        [255, 255, 255, 255, 255,  34,   0, 229, 255, 255, 255,   0,   0,\n",
       "         255, 255],\n",
       "        [255, 255, 255, 255, 255,   0,  49, 255, 255, 255, 255,   0,   0,\n",
       "         255, 255],\n",
       "        [255, 255, 255, 255, 255,   0, 212, 255, 255, 255, 255,   0,   0,\n",
       "         255, 255],\n",
       "        [255, 255, 255, 255,   0,   0, 255, 255, 255, 255, 255, 134,   0,\n",
       "         230, 255],\n",
       "        [255, 255, 255, 253,   0,   9, 255, 255, 255, 255, 255, 255,   1,\n",
       "         232, 255],\n",
       "        [255, 255, 255,  44,   0, 255, 255, 255, 255, 255, 255, 255, 255,\n",
       "         255, 255],\n",
       "        [255, 255, 255,   0,   0, 255, 255, 255, 255, 255, 255, 255, 255,\n",
       "         255, 255],\n",
       "        [255, 255, 255, 100, 208, 255, 255, 255, 255, 255, 255, 255, 255,\n",
       "         255, 255],\n",
       "        [255, 255, 255, 255, 255, 255, 255, 255, 255, 255, 255, 255, 255,\n",
       "         255, 255],\n",
       "        [255, 255, 255, 255, 255, 255, 255, 255, 255, 255, 255, 255, 255,\n",
       "         255, 255],\n",
       "        [255, 255, 255, 255, 255, 255, 255, 255, 255, 255, 255, 255, 255,\n",
       "         255, 255],\n",
       "        [255, 255, 255, 255, 255, 255, 255, 255, 255, 255, 255, 255, 255,\n",
       "         255, 255],\n",
       "        [255, 255, 255, 255, 255, 255, 255, 255, 255, 255, 255, 255, 255,\n",
       "         255, 255],\n",
       "        [255, 255, 255, 255, 255, 255, 255, 255, 255, 255, 255, 255, 255,\n",
       "         255, 255],\n",
       "        [255, 255, 255, 255, 255, 255, 255, 255, 255, 255, 255, 255, 255,\n",
       "         255, 255],\n",
       "        [ 94, 255, 255, 255, 255, 255, 255, 255, 255, 255, 255, 255, 255,\n",
       "         255,  99],\n",
       "        [255, 255, 255, 255, 255, 255, 255, 255, 255, 255, 255, 255, 255,\n",
       "         255, 255],\n",
       "        [255, 255, 255, 255, 255, 255, 255, 255, 255, 255, 255, 255, 255,\n",
       "         255, 255],\n",
       "        [255, 255, 255, 255, 255, 255, 255, 255, 255, 255, 255, 255, 255,\n",
       "         255, 255],\n",
       "        [255, 255, 255, 255, 255, 255, 255, 255, 255, 255, 255, 255, 255,\n",
       "         255, 255],\n",
       "        [255, 255, 255, 255, 255, 255, 255, 255, 255, 255, 255, 255, 255,\n",
       "         255, 255],\n",
       "        [255, 255, 255, 255, 255, 255, 255, 255, 255, 255, 255, 255, 255,\n",
       "         255, 255],\n",
       "        [255, 255, 255, 255, 255, 255, 255, 255, 255, 255, 255, 255, 255,\n",
       "         255, 255]], dtype=uint8),\n",
       " array([[255, 255, 255, 255, 255, 255, 255, 255, 255, 255, 255, 255, 255],\n",
       "        [255, 255, 255, 255, 255, 255, 255, 255, 255, 255, 255, 255, 255],\n",
       "        [255, 255, 255, 255, 255, 255, 255, 255, 255, 255, 255, 255, 255],\n",
       "        [255, 255, 255, 255, 255, 255, 255, 255, 255, 255, 255, 255, 255],\n",
       "        [255, 255, 255, 255, 255, 255, 255, 255, 255, 255, 255, 255, 255],\n",
       "        [255, 255, 255, 255, 255, 255, 255, 255, 255, 255, 255, 255, 255],\n",
       "        [255, 255, 255, 255, 255, 255, 255, 255, 255, 255, 255, 255, 255],\n",
       "        [243,   3,   0,   0,   0,   0,   7, 255, 255, 255, 255, 255, 255],\n",
       "        [  0,  26, 117,   0,   0,   0,   0,   1, 109, 255, 255, 255, 255],\n",
       "        [255, 255, 255,   8,   0, 200, 148,   0,   0,   0, 172, 255, 255],\n",
       "        [255, 255, 255, 225,   1, 216, 255, 253,  52,   0,   2, 185, 255],\n",
       "        [255, 255, 255, 215,   1, 210, 255, 255, 255,  64,   0,  37, 255],\n",
       "        [255, 255, 255,  38,   0, 199, 255, 255, 255, 255,  40,   3, 187],\n",
       "        [255, 255, 255,  82,   0, 199, 255, 255, 255, 255,  55,   0, 188],\n",
       "        [255, 255, 255,  79,   0, 199, 255, 255, 255, 255, 239,   0, 188],\n",
       "        [255, 255, 255, 222,   0, 199, 255, 255, 255, 255, 201,   0, 188],\n",
       "        [255, 255, 255, 215,   0, 199, 255, 255, 255, 255,  68,   0, 188],\n",
       "        [255, 255, 255, 215,   0, 199, 255, 255, 255, 255,  63,   0, 250],\n",
       "        [255, 255, 255, 255,   0, 170, 255, 255, 255, 255,   0,   1, 255],\n",
       "        [255, 255, 255, 255,   0,  88, 255, 255, 255, 225,   0,  97, 255],\n",
       "        [255, 255, 255, 255,   0,  11, 255, 255, 251,   0,   0, 255, 255],\n",
       "        [255, 255, 254, 255,   7,  11, 255, 255,   0,   0,  51, 255, 255],\n",
       "        [255, 255, 255,   0,   5,  23, 255,  44,   0,   0, 255, 255, 255],\n",
       "        [255, 255, 255,   0,   0, 135, 107,  82,  20, 235, 255, 255, 255],\n",
       "        [255, 255, 255, 145,   0,   0,  31, 187, 255, 255, 255, 255, 255],\n",
       "        [255, 255, 255, 255, 123,   0,  22, 255, 255, 255, 255, 255, 255],\n",
       "        [255, 255, 255, 255, 255, 255, 255, 255, 255, 255, 255, 255, 255],\n",
       "        [255, 255, 255, 255, 255, 255, 255, 255, 255, 255, 255, 255, 255],\n",
       "        [255, 255, 255, 255, 255, 255, 255, 255, 255, 255, 255, 255, 255],\n",
       "        [255, 255, 255, 255, 255, 255, 255, 255, 255, 255, 255, 255, 255],\n",
       "        [255, 255, 255, 255, 255, 255, 255, 255, 255, 255, 255, 255, 255],\n",
       "        [255, 255, 255, 255, 255, 255, 255, 255, 255, 255, 255, 255, 255],\n",
       "        [255, 255, 255, 255, 255, 255, 255, 255, 255, 255, 255, 255, 255],\n",
       "        [255, 255, 255, 255, 255, 255, 255, 255, 255, 255, 255, 255, 255],\n",
       "        [255, 255, 255, 255, 255, 255, 255, 255, 255, 255, 255, 255,  56],\n",
       "        [255, 255, 255, 255, 255, 255, 255, 255, 255, 255, 255, 255, 255],\n",
       "        [255, 255, 255, 255, 255, 255, 255, 255, 255, 255, 255, 255, 255],\n",
       "        [255, 255, 255, 255, 255, 255, 255, 255, 255, 255, 255, 255, 255],\n",
       "        [255, 255, 255, 255, 255, 255, 255, 255, 255, 255, 255, 255, 255],\n",
       "        [255, 255, 255, 255, 255, 255, 255, 255, 255, 255, 255, 255, 255],\n",
       "        [255, 255, 255, 255, 255, 255, 255, 255, 255, 255, 255, 255, 255],\n",
       "        [255, 255, 255, 255, 255, 255, 255, 255, 255, 255, 255, 255, 255],\n",
       "        [255, 255, 255, 255, 255, 255, 255, 255, 255, 255, 255, 255, 255]],\n",
       "       dtype=uint8),\n",
       " array([[255, 255, 255, 255, 255, 255, 255, 255, 255, 255, 255, 255, 255,\n",
       "         255, 255, 255, 255, 255],\n",
       "        [255, 255, 255, 255, 255, 255, 255, 255, 255, 255, 255, 255, 255,\n",
       "         255, 255, 255, 255, 255],\n",
       "        [255, 255, 255, 255, 255, 255, 255, 255, 255, 255, 255, 255, 255,\n",
       "         255, 255, 255, 255, 255],\n",
       "        [255, 255, 255, 255, 255, 255, 255, 255, 255, 255, 255, 255, 255,\n",
       "         255, 255, 255, 255, 255],\n",
       "        [255, 255, 255, 255, 255, 255, 255, 255, 255, 255, 255, 255, 255,\n",
       "         255, 255, 255, 255, 255],\n",
       "        [255,   0, 112, 201, 255, 255, 255, 255, 255, 255, 255, 255, 255,\n",
       "         255, 255, 255, 255, 255],\n",
       "        [255, 149,  10,  74, 255, 255, 255, 255,   2,   0,  76, 255, 255,\n",
       "         255, 255, 255, 255, 255],\n",
       "        [255, 255,  38,  60, 147, 255, 255, 255,  61,   0,  88, 255, 255,\n",
       "         255, 255, 255, 255, 255],\n",
       "        [255, 255, 255,   0,   0, 255, 255, 255,  50,   0,  87, 255, 255,\n",
       "         255, 255, 255, 255, 255],\n",
       "        [255, 255, 255,   0,   0, 143, 255, 255,  19,   0, 255, 255, 255,\n",
       "         255, 255, 255, 255, 255],\n",
       "        [255, 255, 255, 161,   0, 113, 255, 255,  19,   0, 255, 255, 255,\n",
       "         255, 255, 255, 255, 112],\n",
       "        [255, 255, 255, 255,   0,   0, 125, 255,  26,   0, 255, 255, 255,\n",
       "         255, 255, 255, 255, 189],\n",
       "        [255, 255, 255, 255,   0,   0,   2, 255,   0,   0, 255, 255, 255,\n",
       "         255, 255, 255, 255, 255],\n",
       "        [255, 255, 255, 255, 255,  10,   0,  96,   0,   0, 255, 255, 255,\n",
       "         255, 255, 255, 255, 255],\n",
       "        [255, 255, 255, 255, 255, 205,   0,   0,   0, 134, 255, 255, 255,\n",
       "         255, 255, 255, 255, 255],\n",
       "        [255, 255, 255, 255, 255, 244,  47,   0,   0, 176, 255, 255, 255,\n",
       "         255, 255, 255, 255, 255],\n",
       "        [255, 255, 255, 255, 255, 255, 232,   0,   1, 253, 255, 255, 255,\n",
       "         255, 255, 255, 255, 255],\n",
       "        [255, 255, 255, 255, 255, 255, 246,   0,  35, 255, 255, 255, 255,\n",
       "         255, 255, 255, 255, 255],\n",
       "        [255, 255, 255, 255, 255, 255, 166,   0,  35, 255, 255, 255, 255,\n",
       "         255, 255, 255, 255, 255],\n",
       "        [255, 255, 255, 255, 255, 255, 130,   0,  67, 255, 255, 255, 255,\n",
       "         255, 255, 255, 255, 255],\n",
       "        [255, 255, 255, 255, 255, 255, 129,   0, 199, 255, 255, 255, 255,\n",
       "         255, 255, 255, 255, 255],\n",
       "        [255, 255, 255, 255, 255, 255,  49,   0, 255, 255, 255, 255, 255,\n",
       "         255, 255, 255, 255, 255],\n",
       "        [255, 255, 255, 255, 255, 255,   0,   0, 255, 255, 255, 255, 255,\n",
       "         255, 255, 255, 255, 255],\n",
       "        [255, 255, 255, 255, 255, 255,   0,   0, 255, 255, 255, 255, 255,\n",
       "         255, 255, 255, 255, 255],\n",
       "        [255, 255, 255, 255, 255, 236,   0,   0, 255, 255, 255, 255, 255,\n",
       "         255, 255, 255, 255, 255],\n",
       "        [255, 255, 255, 255, 255, 255,   0,   0, 255, 255, 255, 255, 255,\n",
       "         255, 255, 255, 255, 255],\n",
       "        [255, 255, 255, 255, 255, 255, 166, 200, 254, 255, 255, 255, 255,\n",
       "         255, 255, 255, 255, 255],\n",
       "        [255, 255, 255, 255, 255, 255, 255, 255, 255, 255, 255, 255, 255,\n",
       "         255, 255, 255, 255, 255],\n",
       "        [255, 255, 255, 255, 255, 255, 255, 255, 255, 255, 255, 255, 255,\n",
       "         255, 255, 255, 255, 255],\n",
       "        [255, 255, 255, 255, 255, 255, 255, 255, 255, 255, 255, 255, 255,\n",
       "         255, 255, 255, 255, 125],\n",
       "        [255, 255, 255, 255, 255, 255, 255, 255, 255, 255, 255, 255, 255,\n",
       "         255, 255, 255, 255, 157],\n",
       "        [255, 255, 255, 255, 255, 255, 255, 255, 255, 255, 255, 255, 255,\n",
       "         255, 255, 255, 255, 255],\n",
       "        [ 48, 255, 255, 255, 255, 255, 255, 255, 255, 255, 255, 255, 255,\n",
       "         255, 255, 255, 255, 255],\n",
       "        [255, 255, 255, 255, 255, 255, 255, 255, 255, 255, 255, 255, 255,\n",
       "         255, 255, 255, 255, 255],\n",
       "        [255, 255, 255, 255, 255, 255, 255, 255, 255, 255, 255, 255, 255,\n",
       "         255, 255, 255, 255, 255],\n",
       "        [255, 255, 255, 255, 255, 255, 255, 255, 255, 255, 255, 255, 255,\n",
       "         255, 255, 255, 255, 255],\n",
       "        [255, 255, 255, 255, 255, 255, 255, 255, 255, 255, 255, 255, 255,\n",
       "         255, 255, 255, 255, 255],\n",
       "        [255, 255, 255, 255, 255, 255, 255, 255, 255, 255, 255, 255, 255,\n",
       "         255, 255, 255, 255, 255]], dtype=uint8),\n",
       " array([[66]], dtype=uint8),\n",
       " array([[255, 255, 255, 255, 255, 255, 255, 255, 255, 255, 255, 255, 255,\n",
       "         255, 255, 255, 255, 255],\n",
       "        [255, 255, 255, 255, 255, 255, 255, 255, 255, 255, 255, 255, 255,\n",
       "         255, 255, 255, 255, 255],\n",
       "        [255, 255, 255, 255, 255, 255, 255, 255, 255, 255, 255, 255, 255,\n",
       "         255, 255, 255, 255, 255],\n",
       "        [255, 255, 255, 255, 255, 255, 255, 255, 255, 255, 255, 255, 255,\n",
       "         255, 255, 255, 255, 255],\n",
       "        [255, 255, 255, 255, 255, 255, 255, 255, 255, 255, 255, 255, 255,\n",
       "         255, 255, 255, 255, 255],\n",
       "        [255, 255, 255, 255, 255, 255, 255, 255, 255,   0,  11, 255, 255,\n",
       "         255, 255, 255, 255, 255],\n",
       "        [255, 255, 255, 255, 255, 255, 255, 255,  87,   0,   6, 255, 255,\n",
       "         255, 255, 255, 255, 255],\n",
       "        [255, 161,   0, 255, 255, 255, 255, 255,  85,   0,   2, 255, 255,\n",
       "         255, 255, 255, 255, 255],\n",
       "        [255,  37,   0, 255, 255, 255, 255, 255,  86,   5, 100, 255, 255,\n",
       "         255, 255, 255, 255, 255],\n",
       "        [254,  29,   0, 241, 255, 255, 255, 255,  86,   0, 255, 255, 255,\n",
       "         255, 255, 255, 255, 255],\n",
       "        [195,  10,  45,  29, 255, 255, 255, 255,   0,   0, 255, 255, 255,\n",
       "         255, 255, 255, 255, 255],\n",
       "        [255,   0, 121,   0, 255, 255, 255, 255,  80, 107, 255, 255, 255,\n",
       "         255, 255, 255, 255, 255],\n",
       "        [193,   0,  23,   0, 255, 255, 255, 255,   0, 255, 255, 255, 255,\n",
       "         255, 255, 255, 255, 255],\n",
       "        [214,  55, 154,   1, 207, 255, 255, 255,  25, 255, 255, 255, 255,\n",
       "         255, 255, 255, 255,  98],\n",
       "        [ 45,   0, 216,   0,   0, 255, 255, 255,  32, 255, 255, 255, 255,\n",
       "         255, 255, 255, 255, 255],\n",
       "        [ 21,   0, 206,   0,   0, 165, 255, 255,   0, 118, 255, 255, 255,\n",
       "         255, 255, 255, 255, 255],\n",
       "        [226,  91, 253, 249,   0, 152, 255, 255,   0,  41, 255, 255, 255,\n",
       "         255, 255, 255, 255, 255],\n",
       "        [255, 255, 255, 251,  26,  18, 255, 255,   0,  57, 255, 255, 255,\n",
       "         255, 255, 255, 255, 255],\n",
       "        [196, 148, 255, 255,  45,   0, 255, 255,  30, 105, 255, 255, 255,\n",
       "         255, 255, 255, 255, 255],\n",
       "        [166,  94, 255, 255, 220,   0,  54, 255,   0,   4, 255, 255, 255,\n",
       "         255, 255, 255, 255, 255],\n",
       "        [ 97, 189, 255, 255, 255,   0,   6, 255,   0,   0, 255, 255, 255,\n",
       "         255, 255, 255, 255, 255],\n",
       "        [107, 191, 255, 255, 255,  73,   0,   0,   0,   0, 255, 255, 255,\n",
       "         255, 255, 255, 255, 255],\n",
       "        [107, 191, 255, 255, 255, 255,   0,   0,   0,   0, 255, 255, 255,\n",
       "         255, 255, 255, 255, 255],\n",
       "        [107, 191, 255, 255, 255, 255, 226,   0,   0,  33, 255, 255, 255,\n",
       "         255, 255, 255, 255, 255],\n",
       "        [ 89, 233, 255, 255, 255, 255, 255, 249, 246, 255, 255, 255, 255,\n",
       "         255, 255, 255, 255, 255],\n",
       "        [  0, 198, 255, 255, 255, 255, 255, 255, 255, 255, 255, 255, 255,\n",
       "         255, 255, 255, 255, 255],\n",
       "        [232, 250, 255, 255, 255, 255, 255, 255, 255, 255, 255, 255, 255,\n",
       "         255, 255, 255, 255, 255],\n",
       "        [255, 255, 255, 255, 255, 255, 255, 255, 255, 255, 255, 255, 255,\n",
       "         255, 255, 255, 255, 255],\n",
       "        [255, 255, 255, 255, 255, 255, 255, 255, 255, 255, 255, 255, 255,\n",
       "         255, 255, 255, 255,  31],\n",
       "        [255, 255, 255, 255, 255, 255, 255, 255, 255, 255, 255, 255, 255,\n",
       "         255, 255, 255, 255, 255],\n",
       "        [255, 255, 255, 255, 255, 255, 255, 255, 255, 255, 255, 255, 255,\n",
       "         255, 255, 255, 255, 255],\n",
       "        [255, 255, 255, 255, 255, 255, 255, 255, 255, 255, 255, 255, 255,\n",
       "         255, 255, 255, 255, 255],\n",
       "        [255, 255, 255, 255, 255, 255, 255, 255, 255, 255, 255, 143, 168,\n",
       "         255, 255, 255, 255,  54],\n",
       "        [255, 255, 255, 255, 255, 255, 255, 255, 255, 255, 255, 255, 255,\n",
       "         255, 255, 255, 255, 255],\n",
       "        [255, 255, 255, 255, 255, 255, 255, 255, 255, 255, 255, 255, 255,\n",
       "         255, 255, 255, 255, 255],\n",
       "        [255, 255, 255, 255, 255, 255, 255, 255, 255, 255, 255, 255, 255,\n",
       "         255, 255, 255, 255, 255],\n",
       "        [255, 255, 255, 255, 255, 255, 255, 255, 255, 255, 255, 255, 255,\n",
       "         255, 255, 255, 255, 255],\n",
       "        [255, 255, 255, 255, 255, 255, 255, 255, 255, 255, 255, 255, 255,\n",
       "         255, 255, 255, 255, 255]], dtype=uint8),\n",
       " array([[255, 255, 255, 255, 255, 255, 255, 255, 255, 255, 255, 255, 255,\n",
       "         255, 255, 255, 255, 255, 255],\n",
       "        [255, 255, 255, 255, 255, 255, 255, 255, 255, 255, 255, 255, 255,\n",
       "         255, 255, 255, 255, 255, 255],\n",
       "        [255, 255, 255, 255, 255, 255, 255, 255, 255, 255, 255, 255, 255,\n",
       "         255, 255, 255, 255, 255, 255],\n",
       "        [255, 255, 255, 255, 255, 255, 255, 255, 255, 255, 255, 255, 255,\n",
       "         255, 255, 255, 255, 255, 255],\n",
       "        [180,  48,  43,   0,   0,   0,   0,   0,   1,  40, 250, 255, 255,\n",
       "         255, 255, 255, 255, 255, 255],\n",
       "        [139,   0,   0,   2,   4, 118,   0,   9,   9,   0, 249, 255, 255,\n",
       "         255, 255, 255, 255, 255, 255],\n",
       "        [ 63, 129, 213, 231, 255, 255, 255, 255, 255, 255, 255, 255, 255,\n",
       "         255, 255, 255, 255, 255, 255],\n",
       "        [ 23,   1, 165, 255, 255, 255, 255, 255, 255, 255, 255, 255, 255,\n",
       "         255, 255, 255, 255, 255, 255],\n",
       "        [ 83,   0, 153, 255, 255, 255, 255, 255, 255, 255, 255, 255, 255,\n",
       "         255, 255, 255, 255, 255, 255],\n",
       "        [  8,   0, 153, 255, 255, 255, 255, 255, 255, 255, 255, 255, 255,\n",
       "         255, 255, 255, 255, 255, 255],\n",
       "        [ 47,   0, 208, 248, 248, 248, 248, 248, 255, 255, 255, 255, 255,\n",
       "         255, 255, 255, 255, 255, 255],\n",
       "        [  2,  25,  44,   0,   0,   0,   0,   0, 255, 255, 255, 255, 255,\n",
       "         255, 255, 255, 255, 255, 255],\n",
       "        [ 14,   5,   0,   0,   0,   0,   0,   0, 255, 255, 255, 255, 255,\n",
       "         255, 255, 255, 255, 255,  87],\n",
       "        [ 21,  73, 255, 255, 255, 255, 255, 255, 255, 255, 255, 255, 255,\n",
       "         255, 255, 255, 255, 255, 100],\n",
       "        [  9,  18, 255, 255, 255, 255, 255, 255, 255, 255, 255, 255, 255,\n",
       "         255, 255, 255, 255, 255, 255],\n",
       "        [ 11,  28, 255, 255, 255, 255, 255, 255, 255, 255, 255, 255, 255,\n",
       "         255, 255, 255, 255, 255, 255],\n",
       "        [  1,  29, 253, 255, 255, 255, 255, 255, 255, 255, 255, 255, 255,\n",
       "         255, 255, 255, 255, 255, 255],\n",
       "        [ 28,   7, 255, 255, 255, 255, 255, 255,  15,   0,   0, 255, 255,\n",
       "         255, 255, 255, 255, 255, 255],\n",
       "        [ 31,  12, 255, 255, 255, 255, 227,  26,   1,   0,  22, 255, 255,\n",
       "         255, 255, 255, 255, 255, 255],\n",
       "        [ 10,  20, 255, 255, 161,  56,   0,   0,   0,  51, 255, 255, 255,\n",
       "         255, 255, 255, 255, 255, 255],\n",
       "        [ 11,   0,   2,   2,   0,   0,   0,   0, 156, 255, 255, 255, 255,\n",
       "         255, 255, 255, 255, 255, 255],\n",
       "        [ 11,   0,   0,   0,   0,  57, 208, 251, 255, 255, 255, 255, 255,\n",
       "         255, 255, 255, 255, 255, 255],\n",
       "        [ 45,   0, 191, 196, 250, 255, 255, 255, 255, 255, 255, 255, 255,\n",
       "         255, 255, 255, 255, 255, 255],\n",
       "        [255, 255, 255, 255, 255, 255, 255, 255, 255, 255, 255, 255, 255,\n",
       "         255, 255, 255, 255, 255, 255],\n",
       "        [255, 255, 255, 255, 255, 255, 255, 255, 255, 255, 255, 255, 255,\n",
       "         255, 255, 255, 255, 255, 255],\n",
       "        [255, 255, 255, 255, 255, 255, 255, 255, 255, 255, 255, 255, 255,\n",
       "         255, 255, 255, 255, 255, 255],\n",
       "        [255, 255, 255, 255, 255, 255, 255, 255, 255, 255, 255, 255, 255,\n",
       "         255, 255, 255, 255, 255, 255],\n",
       "        [255, 255, 255, 255, 255, 255, 255, 255, 255, 255, 255, 255, 255,\n",
       "         255, 255, 255, 255, 255, 255],\n",
       "        [255, 255, 255, 255, 255, 255, 255, 255, 255, 255, 255, 255, 255,\n",
       "         255, 255, 255, 255, 255, 255],\n",
       "        [255, 255, 255, 255, 255, 255, 255, 255, 255, 255, 255, 255, 255,\n",
       "         255, 255, 255, 255, 255, 255],\n",
       "        [255, 255, 255, 255, 255, 254, 255, 255, 255, 255, 255, 255, 255,\n",
       "         255, 255, 255, 255, 255, 255],\n",
       "        [255, 255, 255, 255, 255, 255,  76, 133,  92, 255, 255, 255, 255,\n",
       "         255, 255, 255, 255, 255, 255],\n",
       "        [255, 255, 255, 255, 255, 255, 255, 255, 255, 255, 255, 255, 255,\n",
       "         255, 255, 255, 255, 255, 255],\n",
       "        [255, 255, 255, 255, 255, 255, 255, 255, 255, 255, 255, 255, 255,\n",
       "         255, 255, 255, 255, 255, 255],\n",
       "        [255, 255, 255, 255, 255, 255, 255, 255, 255, 255, 255, 255, 255,\n",
       "         255, 255, 255, 255, 255, 255],\n",
       "        [255, 255, 255, 255, 255, 255, 255, 255, 255, 255, 255, 255, 255,\n",
       "         255, 255, 255, 255, 255, 255],\n",
       "        [255, 255, 255, 255, 255, 255, 255, 255, 255, 255, 255, 255, 255,\n",
       "         255, 255, 255, 255, 255, 255]], dtype=uint8),\n",
       " array([[255, 255, 255, 255, 255, 255, 255, 255, 255, 255, 255, 255, 255,\n",
       "         255, 255, 255, 255, 255, 255, 255, 255, 255],\n",
       "        [255, 255, 255, 255, 255, 255, 255, 255, 255, 255, 255, 255, 255,\n",
       "         255, 255, 255, 255, 255, 255, 255, 255, 255],\n",
       "        [255, 255, 255, 255, 255, 255, 255, 255, 255, 255, 255, 255, 255,\n",
       "         255, 255, 255, 255, 255, 255, 255, 255, 255],\n",
       "        [  0,   0,   0, 140, 255, 255, 255, 255, 255, 255, 255, 255, 255,\n",
       "         255, 255, 255, 174,   0,   0,   9, 203, 255],\n",
       "        [  0,   0,   0, 129, 255, 255, 255, 255, 255, 255, 255, 255, 255,\n",
       "         255, 255, 255, 174,   0,   0,  29, 123, 244],\n",
       "        [  0,   0,   0,  56, 254, 255, 255, 255, 255, 255, 255, 255, 255,\n",
       "         255, 255, 255, 174,   0,   0,   5,  87, 242],\n",
       "        [ 14,   0,   0,  54, 255, 255, 255, 255, 255, 255, 255, 255, 255,\n",
       "         255, 255, 255, 174,   0,   0,   3, 106, 245],\n",
       "        [ 82,   0,   0,  14, 189, 255, 255, 255, 255, 255, 255, 255, 255,\n",
       "         255, 255, 255, 166,   0,   1,   9, 199, 255],\n",
       "        [ 86,   0,   0,   0, 149, 255, 255, 255, 255, 255, 255, 255, 255,\n",
       "         255, 255, 255, 247,  79,   0,  10, 206, 255],\n",
       "        [ 89,   0,   0,   0, 149, 255, 255, 255, 255, 255, 255, 255, 255,\n",
       "         255, 255, 255, 255,  90,   0,  10, 206, 254],\n",
       "        [117,   0,   0,   0, 157, 255, 255, 255, 255, 255, 255, 255, 255,\n",
       "         255, 255, 255, 255,  89,   0,   7, 104, 183],\n",
       "        [126,   0,   0,   0,  68, 254, 255, 255, 255, 255, 255, 255, 255,\n",
       "         255, 255, 255, 255,  89,   0,   0,   0, 151],\n",
       "        [241,  25,   0,   1,   0, 202, 255, 255, 255, 255, 255, 255, 255,\n",
       "         255, 255, 255, 255,  89,   0,   0,   0, 152],\n",
       "        [229,  22,   0,   0,   0,  18, 140, 229, 255, 255, 255, 255, 255,\n",
       "         255, 255, 255, 255,  81,   0,   0,   0, 146],\n",
       "        [229,  22,   0,   0,   0,   0,   0, 187, 255, 255, 255, 255, 255,\n",
       "         255, 255, 255, 255, 179,  17,   0,  32, 208],\n",
       "        [229,  22,   0,   0,   0,   0,   0,  23, 255, 253, 255, 255, 255,\n",
       "         255, 255, 255, 255, 227,  30,   0,   0,  90],\n",
       "        [229,  22,   0,   1,   0,   0,   0,   0, 122, 255, 255, 255, 255,\n",
       "         255, 255, 255, 255, 222,  29,   0,   0,   0],\n",
       "        [229,  22,   0,   0, 181,   0,   0,   0,  70, 214, 251, 255, 255,\n",
       "         255, 255, 255, 255, 222,  29,   0,   0,   0],\n",
       "        [228,  18,   0,   0,  64,   0,   0,   1,   0,  19, 228, 255, 255,\n",
       "         255, 255, 255, 255, 222,  29,   0,   0,   0],\n",
       "        [255, 145,   3,   0,   0,  32,   0,   0,   0,   0,  79, 242, 255,\n",
       "         255, 255, 255, 255, 221,  29,   0,   0,   0],\n",
       "        [255, 155,   3,   0,   0, 119,  56,   0,   0,   1,   0, 162, 250,\n",
       "         255, 255, 255, 255, 221,  29,   0,   0,   0],\n",
       "        [255, 155,   3,   0,   1,   0, 184,   0,   1,   0,   0,  24,  81,\n",
       "         250, 255, 255, 255, 222,  29,   0,   0,   0],\n",
       "        [255, 153,   3,   0,   0,   0, 255, 119,   0,   0,   0,   0,   0,\n",
       "          56, 255, 255, 255, 221,  27,   0,   0,   0],\n",
       "        [255, 252,  49,   0,   0,   0, 255, 255, 121,  26,   0,   0,   1,\n",
       "           0,  61, 198, 255, 254, 135,   0,   0,   0],\n",
       "        [255, 255,  61,   0,   0,   0, 255, 255, 251, 223,  49,   0,   0,\n",
       "           0,   0,   0, 118, 255, 170,   0,   0,   0],\n",
       "        [255, 255,  60,   0,   0,   0, 255, 255, 255, 255, 255,  32,   0,\n",
       "           0,   0,   0,   0,  17, 119,   0,   0,   0],\n",
       "        [255, 255,  60,   0,   0,   0, 199, 255, 255, 255, 255, 250,  40,\n",
       "           0,   0,   0,   0,   0,  42,   0,   0,   0],\n",
       "        [255, 255,  60,   0,   0,   0,  96, 255, 255, 255, 255, 255, 252,\n",
       "          15,   0,   0,   0,   0,   0,   0,   0,   0],\n",
       "        [255, 255,  64,   0,   0,   0, 102, 255, 255, 255, 255, 255, 254,\n",
       "         255,  30,   1,   0,   0,   0,   0,   0,   0],\n",
       "        [255, 255, 194,   0,   0,   0, 102, 255, 255, 255, 255, 255, 255,\n",
       "         254, 243, 148,  30,   4,   0,   0,   0,   0],\n",
       "        [255, 255, 255,   0,   0,   0, 102, 255, 255, 255, 255, 255, 255,\n",
       "         255, 255, 255, 232, 145,  95,  98,  98,  98],\n",
       "        [255, 255, 255, 255, 255, 255, 255, 255, 255, 255, 255, 255, 255,\n",
       "         255, 255, 255, 255, 255, 255, 255, 255, 255],\n",
       "        [255, 255, 255, 255, 255, 255, 255, 255, 255, 255, 255, 255, 255,\n",
       "         255, 255, 255, 255, 255, 255, 255, 255, 255],\n",
       "        [255, 255, 255, 255, 255, 255, 255, 255, 255, 255, 255, 255, 255,\n",
       "         255, 255, 255, 255, 255, 255, 255, 255, 255]], dtype=uint8),\n",
       " array([[255, 255, 255, 255, 255, 255, 255],\n",
       "        [255, 255, 255, 255, 255, 255, 255],\n",
       "        [255, 255, 255, 255, 255, 255, 255],\n",
       "        [255, 255, 255, 255, 255, 255, 255],\n",
       "        [255, 255, 255, 255, 255, 255, 255],\n",
       "        [255, 255, 255, 255, 255, 255, 255],\n",
       "        [255, 255, 255, 255, 255, 255, 255],\n",
       "        [255, 255, 255, 255, 255, 255, 255],\n",
       "        [255, 255, 255, 255, 255, 255, 255],\n",
       "        [255, 255, 255, 255, 255, 255, 255],\n",
       "        [  0,   0,   0, 255, 255, 255, 255],\n",
       "        [  0,   0,   0, 255, 254, 255, 255],\n",
       "        [ 85,   1,   0, 139, 255, 255, 255],\n",
       "        [196,   0,   0, 132, 255, 255, 255],\n",
       "        [224, 144,  22,  39, 255, 255, 255],\n",
       "        [255, 255,   1,  24, 127, 255, 255],\n",
       "        [254, 255,  95,   3,  24, 255, 255],\n",
       "        [255,  23,   1,  17,  31, 255, 255],\n",
       "        [255,  44,   9,  97,  48, 255, 255],\n",
       "        [255,  47,  15,  32, 255, 254, 255],\n",
       "        [255, 184,  24,  35, 255, 255, 255],\n",
       "        [255, 255,  13,  35, 255, 255, 255],\n",
       "        [255, 255,  13,  35, 229, 218, 255],\n",
       "        [255, 255,  13,  35, 118, 144, 255],\n",
       "        [255, 255,  35,  39,  80, 121, 253],\n",
       "        [255, 255, 146,  58,   0,   4, 221],\n",
       "        [255, 255, 143,   0,   0,  12, 223],\n",
       "        [255, 255, 136,   0,   0,  12, 223],\n",
       "        [255, 255, 239,  31,   0,  12, 226],\n",
       "        [255, 255, 245,  32,   2,   2, 130],\n",
       "        [255, 255, 245,  29,  13,   0,  97],\n",
       "        [255, 255, 247,  55,  17,   0, 101],\n",
       "        [255, 255, 255, 238,  55,   0,  38],\n",
       "        [255, 255, 255, 255,  67,   0,   0],\n",
       "        [255, 255, 255, 255, 212,   0,   0],\n",
       "        [255, 255, 255, 255, 202,   0,   0],\n",
       "        [255, 255, 255, 255, 236,  44,  17],\n",
       "        [255, 255, 255, 255, 255,  98,   0],\n",
       "        [255, 255, 255, 255, 255, 255, 255],\n",
       "        [255, 255, 255, 255, 255, 255, 255],\n",
       "        [255, 255, 255, 255, 255, 255, 255],\n",
       "        [255, 255, 255, 255, 255, 255, 255],\n",
       "        [255, 255, 255, 255, 255, 255, 255],\n",
       "        [255, 255, 255, 255, 255, 255, 255],\n",
       "        [255, 255, 255, 255, 255, 255, 255],\n",
       "        [255, 255, 255, 255, 255, 255, 255],\n",
       "        [255, 255, 255, 255, 255, 255, 255],\n",
       "        [255, 255, 255, 255, 255, 255, 255],\n",
       "        [255, 255, 255, 255, 255, 255, 255]], dtype=uint8),\n",
       " array([[255, 255, 255, 255, 255, 255, 255, 255, 255, 255, 255, 255, 255,\n",
       "         255, 255, 255, 255, 255, 255, 255, 255, 255, 255, 255, 255, 255,\n",
       "         255, 255, 255, 255, 255, 255, 255, 255, 255, 255, 255,  92, 255,\n",
       "         255, 255, 255, 255, 255, 255, 255, 255, 255, 255],\n",
       "        [255, 255, 255, 255, 255, 255, 255, 255, 255, 255, 255, 255, 255,\n",
       "         255, 255, 255, 255, 255, 255, 255, 255, 255, 255, 255, 255, 255,\n",
       "         255, 255, 255, 255, 255, 255, 255, 255, 255, 255, 255, 237, 255,\n",
       "         255, 255, 255, 255, 255, 255, 255, 255, 255, 255],\n",
       "        [255, 255, 255, 255, 255, 255, 255, 255, 255, 255, 255, 255, 255,\n",
       "         255, 255, 255, 255, 255, 255, 255, 255, 255, 255, 255, 255, 255,\n",
       "         255, 255, 255, 255, 255, 255, 255, 255, 255, 255, 255, 255, 255,\n",
       "         255, 255, 255, 255, 255, 255, 255, 255, 255, 255],\n",
       "        [255, 255, 255, 255, 255, 255, 255, 255, 255, 255, 255, 255, 255,\n",
       "         255, 255, 255, 255, 255, 255, 255, 255, 255, 255, 255, 255, 255,\n",
       "         255, 255, 255, 255, 255, 255, 255, 255, 255, 255, 255, 255, 255,\n",
       "         255, 255, 255, 255, 255, 255, 255, 255, 255, 255],\n",
       "        [255, 255, 255, 255, 255, 255, 255, 255, 255, 255, 255, 255, 255,\n",
       "         255, 255, 255, 255, 255, 255, 255, 255, 255, 255, 255, 255, 255,\n",
       "         255, 255, 255, 255, 255, 255, 255, 255, 255, 255, 255, 255, 255,\n",
       "         255, 255, 255, 255, 255, 255, 255, 255, 255, 255],\n",
       "        [255, 255, 255, 255, 255, 255, 255, 255, 255, 255, 137, 169, 255,\n",
       "         255, 255, 255, 255, 255, 255, 255, 255, 255, 255, 255, 255, 255,\n",
       "         255, 255, 255, 255, 255, 255, 255, 255, 255, 255, 255, 254, 255,\n",
       "         255, 255, 255, 255, 255, 255, 255, 255, 255, 255],\n",
       "        [255, 255, 255, 255, 255, 255, 255, 255, 255, 255,  29, 139, 255,\n",
       "         255, 255, 255, 255, 255, 255, 255, 255, 255, 255, 255, 255, 255,\n",
       "         255, 255, 255, 255, 255, 255, 255, 255, 193, 158, 165, 255, 255,\n",
       "         255, 255, 255, 255, 255, 255, 255, 255, 255, 255]], dtype=uint8),\n",
       " array([[255, 255, 255, 255, 255, 255, 255, 255, 255, 255, 255, 255, 255,\n",
       "         255, 255, 255, 255, 255, 255, 255, 255, 255, 255],\n",
       "        [255, 255, 255, 255, 255, 255, 255, 255, 255, 255, 255, 255, 255,\n",
       "         255, 255, 255, 255, 255, 255, 255, 255, 255, 255],\n",
       "        [  1,  36,  82, 116, 113, 191, 196, 255, 255, 255, 255, 255, 255,\n",
       "         255, 255, 255, 255, 255, 255, 255, 255, 255, 255],\n",
       "        [ 49, 116,   0,   0,   0,   0,   0,   0,   1,  77,  76,  70, 212,\n",
       "         255, 255, 255, 255, 255, 255, 255, 255, 255, 255],\n",
       "        [255, 255,  19,  27,   0,   0,   0,   0,   0,   0,   0,   0,   6,\n",
       "          34, 240, 255, 255, 255, 255, 255, 255, 255, 255],\n",
       "        [255, 254, 255, 255, 223, 221, 215,  67,  70,  71,  20,   1,   0,\n",
       "           0,   0, 255, 255, 255, 255, 255, 255, 255, 255],\n",
       "        [255, 255, 255, 255, 255, 255, 255, 255, 255, 255, 234,  84,   0,\n",
       "           0,   0, 220, 255, 255, 255, 255, 255, 255, 255],\n",
       "        [255, 255, 255, 255, 255, 255, 255, 255, 255, 255, 255, 254, 157,\n",
       "           0,   0, 219, 255, 255, 255, 255, 255, 255, 255],\n",
       "        [255, 255, 255, 255, 255, 255, 234, 234, 255, 255, 239, 255,  30,\n",
       "           0,   0, 206, 234, 234, 234, 240, 253, 255, 255],\n",
       "        [255, 255, 255, 255, 255, 255,  10,   0,   0,   0,   0,   0,   0,\n",
       "           0,   0,   0,   0,  34,  25, 118, 231, 255, 255],\n",
       "        [255, 255, 255, 255, 255, 255,  82,   7,   7,   4,   0,   1,   0,\n",
       "           0,   4,  80,  91,  89,  97, 255, 255, 255, 255],\n",
       "        [255, 255, 255, 255, 255, 255, 255, 255, 255, 218, 146, 156,   6,\n",
       "           0, 221, 255, 255, 255, 255, 255, 255, 255, 255],\n",
       "        [255, 255, 255, 255, 255, 255, 255, 255, 255, 255, 255,  58,   0,\n",
       "           0, 248, 255, 255, 255, 255, 255, 255, 255, 255],\n",
       "        [255, 255, 255, 255, 255, 255, 255, 255, 255, 255, 233,   0,   1,\n",
       "          96, 255, 255, 255, 255, 255, 255, 255, 255, 255],\n",
       "        [255, 255, 255, 255, 255, 255, 255, 255, 255, 255,  30,   2,   0,\n",
       "         239, 255, 255, 255, 255, 255, 255, 255, 255, 255],\n",
       "        [255, 255, 255, 255, 255, 255, 255, 255, 255, 192,   0,   0, 149,\n",
       "         255, 255, 255, 255, 255, 255, 255, 255, 255, 255],\n",
       "        [255, 255, 255, 255, 255, 255, 255, 255, 255,  17,   0,   0, 215,\n",
       "         255, 255, 255, 255, 255, 255, 255, 255, 255, 255],\n",
       "        [255, 255, 255, 255, 255, 255, 255, 255,   0,   1,   0, 149, 255,\n",
       "         255, 255, 255, 255, 255, 255, 255, 165, 255, 255],\n",
       "        [255, 255, 255, 255, 255, 255, 255, 104,   0,   0,   0, 220, 255,\n",
       "         255, 255, 255, 255, 255, 255,  10,   0,  94, 255],\n",
       "        [255, 255, 255, 255, 255, 255, 248,   0,   0,   0, 111, 255, 255,\n",
       "         255, 255, 255, 255, 170,  16,   0,   0,  90, 255],\n",
       "        [255, 255, 255, 255, 255, 255, 228,   0,   0, 249, 255, 255, 254,\n",
       "         255,  77,  34,  24,   0,   0,   0,   0, 242, 255],\n",
       "        [255, 255, 255, 255, 255, 178,   1,   5,  61, 182, 175, 176, 189,\n",
       "          22,   0,   0,   0,   0,  48, 244, 255, 255, 255],\n",
       "        [255, 255, 255, 255, 255,   2,   0,   0,   3,   0,   0,   0,   0,\n",
       "           0,   0,   0,  87, 142, 255, 255, 255, 255, 255],\n",
       "        [255, 255, 255, 255, 255,   4,   0,   0,   0,   0,   0,   0,   0,\n",
       "         135, 137, 255, 255, 255, 255, 255, 255, 255, 255],\n",
       "        [255, 255, 255, 255, 255, 232, 202, 202, 202, 202, 202, 200, 250,\n",
       "         255, 255, 255, 255, 255, 255, 255, 255, 255, 255],\n",
       "        [255, 255, 255, 255, 255, 255, 255, 255, 255, 255, 255, 255, 255,\n",
       "         255, 255, 255, 255, 255, 255, 255, 255, 255, 255],\n",
       "        [255, 255, 255, 255, 255, 255, 255, 255, 255, 255, 255, 255, 255,\n",
       "         255, 255, 255, 255, 255, 255, 255, 255, 255, 255],\n",
       "        [255, 255, 255, 255, 255, 255, 255, 255, 255, 255, 255, 255, 255,\n",
       "         255, 255, 255, 255, 255, 255, 255, 255, 255, 255],\n",
       "        [255, 255, 255, 255, 255, 255, 255, 255, 255, 255, 255, 238, 221,\n",
       "         255, 255, 255, 255, 255, 255, 255, 255, 255, 255],\n",
       "        [255, 255, 255, 255, 255, 255, 255, 255, 255, 255, 255, 212, 166,\n",
       "         117,  67, 255, 255, 255, 255, 255, 255, 251,  86],\n",
       "        [255, 255, 255, 255, 255, 255, 255, 255, 255, 255, 255, 255, 255,\n",
       "         255, 255, 255, 255, 255, 255, 255, 255, 255, 255],\n",
       "        [255, 255, 255, 255, 255, 255, 255, 255, 255, 255, 255, 255, 255,\n",
       "         255, 255, 255, 255, 255, 255, 255, 255, 255, 255],\n",
       "        [255, 255, 255, 255, 255, 255, 255, 255, 255, 255, 255, 255, 255,\n",
       "         255, 255, 255, 255, 255, 255, 255, 255, 255, 255]], dtype=uint8),\n",
       " array([[255, 255, 255, 255, 255, 255, 255, 255, 255, 255, 255, 255, 255,\n",
       "         255, 255, 255, 255, 255, 255, 255, 255, 255, 255, 255],\n",
       "        [255, 255, 255, 255, 255, 255, 255, 255, 255, 255, 255, 255, 255,\n",
       "         255, 255, 255, 255, 255, 255, 255, 255, 255, 255, 255],\n",
       "        [255, 255, 255, 255, 255, 255, 255, 102,   0,   0,   0, 140, 255,\n",
       "         255, 255, 255, 255, 255, 255, 255, 255, 255, 255, 255],\n",
       "        [255, 255, 255, 255, 255, 252, 188,  64,   0,   0,   0,   0, 131,\n",
       "         255, 255, 255, 255, 255, 255, 255, 255, 255, 255, 255],\n",
       "        [255, 255, 255, 255, 254, 255, 104,  21,  13,   5,   0,   0,   5,\n",
       "         255, 253, 255, 255, 255, 255, 255, 255, 255, 255, 255],\n",
       "        [255, 255, 255, 255, 255, 114,   0,  14,  16,  11,   0,   0,   0,\n",
       "          67, 255, 255, 255, 255, 255, 255, 255, 255, 255, 255],\n",
       "        [255, 255, 255, 255, 238,  59,   0,   0,  21,  61,   0,   0,   0,\n",
       "          67, 255, 255, 255, 255, 255, 255, 255, 255, 255, 255],\n",
       "        [255, 255, 255, 245,  90,   0,   1,   0,  20,  84,   0,   0,   0,\n",
       "          63, 255, 255, 255, 255, 255, 255, 255, 255, 255, 255],\n",
       "        [255, 255, 255, 241,  68,   0,   0,   5, 220, 255,  13,   0,   0,\n",
       "           0, 155, 255, 255, 255, 255, 255, 255, 255, 255, 255],\n",
       "        [255, 255, 255, 227,  33,   0,   0, 126, 255, 255,   7,   1,   0,\n",
       "           3, 143, 255, 255, 255, 255, 255, 255, 255, 255, 255],\n",
       "        [255, 255, 243,  87,   0,   0,   0, 162, 186, 200,  70,   0,   0,\n",
       "           0,  46, 249, 255, 255, 255, 158, 167, 193, 186, 255],\n",
       "        [255, 255, 213,   0,   0,   0,  43, 105,   5,   5,  88,   0,   0,\n",
       "           0,  11,  88,  92,  92,  96,   0,   0,  19,  11,  80],\n",
       "        [255, 255, 214,   0,   0,   0,   0,   0,   0,   0,   0,   1,   0,\n",
       "           0,  11,  96,   0,   0,   0,   1,   0,  16,   0,   0],\n",
       "        [255, 255, 214,   0,   0,   0,   0,   0,   0,   0,   0,   0,   0,\n",
       "           0,  20, 100,   0,   0,   0,   1,   0,   3,   0,   0],\n",
       "        [255, 255, 214,   0,   0,   1,   3,   3,   3,   3,   3,   2,   0,\n",
       "           0,  41, 101,  95,  46,  52,   0,   3,  10,  72, 183],\n",
       "        [255, 255, 145,   0,   0, 103, 255, 254, 254, 254, 255, 151,   0,\n",
       "           0,  24,  97, 255, 255, 251, 254, 254, 253, 247, 255],\n",
       "        [255, 255,   0,   1,   0, 104, 255, 255, 255, 255, 255, 143,   0,\n",
       "           0,   0,  84, 255, 255, 255, 255, 255, 255, 255, 255],\n",
       "        [255, 235,   9,   0,   0, 102, 255, 255, 255, 255, 255, 248,  55,\n",
       "           0,   0,  58, 242, 255, 255, 255, 255, 255, 255, 255],\n",
       "        [255,  89,   0,   0,   8, 174, 255, 255, 255, 255, 255, 249,  53,\n",
       "           0,   1,   0, 158, 255, 255, 255, 255, 255, 255, 255],\n",
       "        [255, 104,   0,   0,  24, 255, 254, 255, 255, 255, 255, 251,  82,\n",
       "           0,   0,   0, 176, 255, 255, 255, 255, 255, 255, 255],\n",
       "        [255, 104,   0,   0,  98, 255, 255, 255, 255, 255, 255, 255, 217,\n",
       "           0,   0,   0,  84, 241, 255, 255, 255, 255, 255, 255],\n",
       "        [255,  80,   0,   5, 208, 255, 255, 255, 255, 255, 255, 255, 221,\n",
       "           0,   0,   1,  18, 227, 255, 255, 255, 255, 255, 255],\n",
       "        [107,   0,   0,   5, 198, 255, 255, 255, 255, 255, 255, 255, 239,\n",
       "          53,   0,   0,  10, 157, 253, 255, 255, 255, 255, 255],\n",
       "        [ 33,   0,   0,   0, 195, 255, 255, 255, 255, 255, 255, 255, 255,\n",
       "         145,   0,   0,   0,  92, 252, 255, 255, 255, 255, 255],\n",
       "        [ 70,   0,   0,  99, 255, 255, 255, 255, 255, 255, 255, 255, 255,\n",
       "         168,   0,   0,   0,  64, 235, 255, 255, 255, 255, 255],\n",
       "        [216,   0,   0, 102, 255, 255, 255, 255, 255, 255, 255, 255, 254,\n",
       "         255,  71,   0,   0,   0, 182, 255, 255, 255, 255, 255],\n",
       "        [ 22,   0,   0, 101, 255, 255, 255, 255, 255, 255, 255, 255, 255,\n",
       "         250,  74,   0,   0,   0, 142, 255, 255, 255, 255, 255],\n",
       "        [  0,   0,   0, 101, 255, 255, 255, 255, 255, 255, 255, 255, 255,\n",
       "         255, 218,  18,   0,   1,   0, 249, 255, 255, 255, 255],\n",
       "        [  0,   0,   0,  93, 255, 255, 255, 255, 255, 255, 255, 255, 255,\n",
       "         255, 204,  11,   0,   0,   0, 250, 255, 255, 255, 255],\n",
       "        [  0,   0,   0, 172, 255, 255, 255, 255, 255, 255, 255, 255, 255,\n",
       "         255, 231,  63,   0,   0,   0, 250, 255, 255, 255, 255],\n",
       "        [255, 255, 255, 255, 255, 255, 255, 255, 255, 255, 255, 255, 255,\n",
       "         255, 255, 255, 255, 255, 255, 255, 255, 255, 255, 255],\n",
       "        [255, 255, 255, 255, 255, 255, 255, 255, 255, 255, 255, 255, 255,\n",
       "         255, 255, 255, 255, 255, 255, 255, 255, 255, 255, 255]],\n",
       "       dtype=uint8),\n",
       " array([[255, 255, 255, 255, 255, 255, 255, 255, 255, 255, 255, 255, 255,\n",
       "         255, 255, 255],\n",
       "        [255, 255, 255, 255, 255, 255, 255, 255, 255, 255, 255, 255, 255,\n",
       "         255, 255, 255],\n",
       "        [255, 255, 255, 255, 255, 255, 255, 255, 255, 255, 255, 255, 255,\n",
       "         255, 255, 255],\n",
       "        [255, 255, 255, 255, 255, 255, 255, 255, 255, 255, 255, 255, 255,\n",
       "         255, 255, 255],\n",
       "        [255, 255, 255, 255, 255, 255, 255, 255, 255, 255, 255, 255, 255,\n",
       "         255, 255, 255],\n",
       "        [255, 255, 255, 255, 255, 255, 255, 255, 255, 255, 255, 255, 255,\n",
       "         255, 255, 255],\n",
       "        [255, 243,   0,   0,  77, 138, 225, 254, 255, 255, 255, 255, 255,\n",
       "         255, 255, 255],\n",
       "        [255, 242,   0,   0,   0,   0,   0,  35, 255, 255, 255, 255, 255,\n",
       "         255, 255, 255],\n",
       "        [255, 255, 255, 214,   0,   0,   0,   0,   0,   0, 253, 254, 255,\n",
       "         255, 255, 255],\n",
       "        [255, 255, 255, 215,   0,   0,  28,   3,   0,   0,   0,  32, 255,\n",
       "         255, 255, 255],\n",
       "        [255, 255, 255, 212,   1,   0, 230, 255,  75,   0,   0,   1,  33,\n",
       "         255, 255, 255],\n",
       "        [255, 255, 255, 255,   0,   0, 201, 255, 255, 241,  44,   0,   0,\n",
       "         107, 248, 255],\n",
       "        [255, 255, 255, 255,  13,   0, 253, 255, 255, 255, 255, 214,   0,\n",
       "           0,  38, 255],\n",
       "        [255, 255, 255, 255,  63,   0, 219, 255, 255, 255, 255, 255,  70,\n",
       "           0,   0, 226],\n",
       "        [255, 255, 255, 255,   0,   0, 160, 255, 255, 255, 255, 255, 245,\n",
       "           0,   0,  60],\n",
       "        [255, 255, 255, 255,   9,   0, 156, 255, 255, 255, 255, 255, 255,\n",
       "         234,   0,   2],\n",
       "        [255, 255, 255, 255, 111,   0, 157, 255, 255, 255, 255, 255, 255,\n",
       "         255,   0,   0],\n",
       "        [255, 255, 255, 255, 214,   0,   1, 255, 255, 255, 255, 255, 255,\n",
       "         255,   0,   0],\n",
       "        [255, 255, 255, 255, 237,   0,   0, 255, 255, 255, 255, 255, 255,\n",
       "         255,   0,   0],\n",
       "        [255, 255, 255, 255, 236,   0,   0, 255, 255, 255, 255, 255, 255,\n",
       "         123,   0,  28],\n",
       "        [255, 255, 255, 255, 255,  36,   0, 254, 255, 255, 255, 255, 250,\n",
       "           0,   0,  30],\n",
       "        [255, 255, 255, 255, 255,  51,   0, 245, 255, 255, 255, 231,   0,\n",
       "           1,   2, 233],\n",
       "        [255, 255, 255, 255, 255, 172,   0, 158, 255, 255, 255, 161,   0,\n",
       "           0, 109, 254],\n",
       "        [ 36, 218, 255, 255, 255, 168,   0,  64, 255,  28,   0,   0,   2,\n",
       "         222, 255, 255],\n",
       "        [  0,   0,   0, 201, 196, 203,  48,  23,   0,   0,   0,  12, 230,\n",
       "         255, 255, 255],\n",
       "        [  0,   0,   0,   0,   0,   0,   0,   0,   0,   0, 104, 255, 255,\n",
       "         255, 255, 255],\n",
       "        [216,  44,  45,  45,  45,  45,  83, 185, 196, 214, 255, 255, 255,\n",
       "         255, 255, 255],\n",
       "        [255, 255, 255, 255, 255, 255, 255, 255, 255, 255, 255, 255, 255,\n",
       "         255, 255, 255],\n",
       "        [255, 255, 255, 255, 255, 255, 255, 255, 255, 255, 255, 255, 255,\n",
       "         255, 255, 255],\n",
       "        [255, 255, 255, 255, 255, 255, 255, 255, 255, 255, 255, 255, 255,\n",
       "         255, 255, 255],\n",
       "        [255, 255, 255, 255, 255, 255, 255, 255, 255, 255, 255, 255, 255,\n",
       "         255, 255, 255],\n",
       "        [255, 255, 255, 255, 255, 255, 255, 255, 255, 255, 255, 255, 255,\n",
       "         255, 255, 255],\n",
       "        [255, 255, 255, 255, 255, 255, 255, 255, 255, 255, 250, 243, 255,\n",
       "         255, 255, 255],\n",
       "        [255, 255, 255, 255, 255, 255, 255, 191,  11, 255, 207, 138, 255,\n",
       "         255, 255, 255],\n",
       "        [255, 255, 255, 255, 255, 255, 255, 255, 255, 255, 255, 255, 255,\n",
       "         255, 255, 255],\n",
       "        [255, 255, 255, 255, 255, 255, 255, 255, 255, 255, 255, 255, 255,\n",
       "         255, 255, 255],\n",
       "        [255, 255, 255, 255, 255, 255, 255, 255, 255, 255, 255, 255, 255,\n",
       "         255, 255, 255],\n",
       "        [255, 255, 255, 255, 255, 255, 255, 255, 255, 255, 255, 255, 255,\n",
       "         255, 255, 255],\n",
       "        [255, 255, 255, 255, 255, 255, 255, 255, 255, 255, 255, 255, 255,\n",
       "         255, 255, 255],\n",
       "        [255, 255, 255, 255, 255, 255, 255, 255, 255, 255, 255, 255, 255,\n",
       "         255, 255, 255]], dtype=uint8),\n",
       " array([[255, 255, 255, 255, 255, 255, 255, 255, 255, 255, 255, 255, 255,\n",
       "         255, 255, 255, 255, 255, 255, 255, 255, 255],\n",
       "        [255, 255, 255, 255, 255, 255, 255, 255, 255, 255, 255, 255, 255,\n",
       "         255, 255, 255, 255, 255, 255, 255, 255, 255],\n",
       "        [255, 255, 255, 255, 255, 255, 255, 255, 255, 255, 255, 255, 255,\n",
       "         255, 255, 255, 255, 255, 255, 255, 255, 255],\n",
       "        [  0,   0,   0,   0, 235, 255, 255, 255, 255, 255, 255, 255, 255,\n",
       "         255, 255, 207,   0,   0,  12, 210, 255, 255],\n",
       "        [  0,   0,   0,   0,   3, 255, 255, 255, 255, 255, 255, 255, 255,\n",
       "         255, 255, 217,   0,   0,   1,   0, 255, 255],\n",
       "        [ 54,   0,   0,   0,   0, 255, 255, 255, 255, 255, 255, 255, 255,\n",
       "         255, 255,  80,   0,   0,   0,   0,  64, 255],\n",
       "        [ 69,   0,   0,   0,  79, 255, 255, 255, 255, 255, 255, 255, 255,\n",
       "         255, 255,  68,   0,   0,  13,  20,  58, 255],\n",
       "        [ 69,   0,   0,   0,   0, 163, 255, 255, 255, 255, 255, 255, 255,\n",
       "         255, 255,  69,   0,   0,   7, 105, 130, 255],\n",
       "        [ 69,   0,   0,   0,   0,  23, 237, 255, 255, 255, 255, 255, 255,\n",
       "         255, 255,  68,   0,   0, 179, 255, 255, 255],\n",
       "        [ 69,   0,   0,   0,   0,   0,   0, 249, 255, 255, 255, 255, 255,\n",
       "         255, 255, 143,   0,   0, 185, 255, 255, 255],\n",
       "        [ 69,   0,   0,   1,   0,   0,   0, 101, 255, 255, 255, 255, 255,\n",
       "         255, 255, 207,   0,   0, 185, 255, 255, 255],\n",
       "        [ 69,   0,   0, 166,   0,   0,   0,  21, 177, 255, 255, 255, 255,\n",
       "         255, 255, 207,   0,   0, 198, 255, 255, 255],\n",
       "        [ 65,   0,   0, 218,   0,   0,   0,   0,  60, 255, 255, 255, 255,\n",
       "         255, 255, 210,   4,   0,  57, 248, 255, 255],\n",
       "        [ 12,   0,   0, 206, 163,   0,   0,   0,   0, 195, 255, 255, 255,\n",
       "         255, 255, 255,  94,   0,  10, 244, 255, 255],\n",
       "        [ 14,   0,   0, 204, 255,  21,   0,   0,   0,  21, 240, 255, 255,\n",
       "         255, 255, 255, 103,   0,  12, 244, 255, 255],\n",
       "        [  0,   0,   0, 204, 255, 233,  40,   0,   0,   3, 164, 255, 255,\n",
       "         255, 255, 255, 216,  50,  72, 240, 255, 255],\n",
       "        [  0,   0,   5, 216, 255, 255, 101,   0,   0,   0,   0, 169, 255,\n",
       "         255, 255, 255,  91,   0,   6, 245, 255, 255],\n",
       "        [  0,   0, 183, 243, 255, 255, 255,  86,   0,   0,   1,  36, 254,\n",
       "         254, 255, 255, 105,   0,  14, 249, 255, 255],\n",
       "        [ 71,  71, 138, 228, 255, 255, 255, 179,   8,   0,   0,   0,  57,\n",
       "         253, 255, 255, 102,   0,   4, 171, 255, 255],\n",
       "        [ 80,  16,  57, 231, 255, 255, 255, 250,  67,   0,   0,   0,   0,\n",
       "          58, 255, 255, 156,   2,   0, 130, 255, 255],\n",
       "        [  8,   0,   0, 212, 255, 255, 255, 255, 250,  62,   0,   0,   0,\n",
       "           0,  60, 255, 192,  20,   0,  90, 255, 255],\n",
       "        [  0,   0,   0, 204, 255, 255, 255, 255, 255, 242,  49,   0,   0,\n",
       "           0,   4, 153,  55,   0,   0,   0, 254, 255],\n",
       "        [  0,   0,  16, 222, 255, 255, 255, 255, 255, 255, 255,  53,   0,\n",
       "           0,   0,   0,  79,   0,   0,   0, 254, 255],\n",
       "        [  0,   0,  67, 252, 255, 255, 255, 255, 255, 255, 255, 255,  33,\n",
       "           0,   0,   0,   1,   0,   0,   0, 255, 255],\n",
       "        [  0,   0,  64, 252, 255, 255, 255, 255, 255, 255, 255, 255, 255,\n",
       "          53,   0,   0,   0,   0,   0,   0, 118, 255],\n",
       "        [  0,   0, 103, 253, 255, 255, 255, 255, 255, 255, 255, 255, 255,\n",
       "         161,  44,   0,   0,   0,   0,   0,  38, 255],\n",
       "        [  0,   0, 106, 253, 255, 255, 255, 255, 255, 255, 255, 255, 255,\n",
       "         255, 250,  64,   0,   0,   0,   0,   3, 217],\n",
       "        [  0,   0,  66, 252, 255, 255, 255, 255, 255, 255, 255, 255, 255,\n",
       "         255, 255, 245,  65,   0,   0,   0,   0,  63],\n",
       "        [ 23,  19, 122, 254, 255, 255, 255, 255, 255, 255, 255, 255, 255,\n",
       "         255, 255, 255, 241,   0,   0,   0,   0,   1],\n",
       "        [230, 229, 254, 255, 255, 255, 255, 255, 255, 255, 255, 255, 255,\n",
       "         255, 255, 255, 255, 230,  52,   0,   0,   2],\n",
       "        [255, 255, 255, 255, 255, 255, 255, 255, 255, 255, 255, 255, 255,\n",
       "         255, 255, 255, 255, 255, 235,   0,   0,   7],\n",
       "        [255, 255, 255, 255, 255, 255, 255, 255, 255, 255, 255, 255, 255,\n",
       "         255, 255, 255, 255, 255, 255, 255, 255, 255],\n",
       "        [255, 255, 255, 255, 255, 255, 255, 255, 255, 255, 255, 255, 255,\n",
       "         255, 255, 255, 255, 255, 255, 255, 255, 255],\n",
       "        [255, 255, 255, 255, 255, 255, 255, 255, 255, 255, 255, 255, 255,\n",
       "         255, 255, 255, 255, 255, 255, 255, 255, 255]], dtype=uint8),\n",
       " array([[255, 255, 255, 255, 255, 255, 255, 255, 255, 255, 255, 255, 255],\n",
       "        [255, 255, 255, 255, 255, 255, 255, 255, 255, 255, 255, 255, 255],\n",
       "        [255, 255, 255, 255, 255, 255, 255, 255, 255, 255, 255, 255, 255],\n",
       "        [255, 255, 255, 255, 255, 255, 255, 255, 255, 255, 255, 255, 255],\n",
       "        [255, 255, 255, 255, 255, 255, 255, 255, 255, 255, 255, 255, 255],\n",
       "        [255, 255, 255, 255, 255, 255, 255, 255, 255, 255, 255, 255, 255],\n",
       "        [255, 255, 255, 255, 255, 255, 255, 255, 255, 255, 255, 255, 255],\n",
       "        [255, 255, 255, 255, 255, 255, 255, 255, 255, 254, 142,  83,  35],\n",
       "        [175, 204, 255, 254, 255, 255, 255, 255, 255, 167,   0,  16, 152],\n",
       "        [ 17,  10, 115, 255, 255, 255, 255, 255, 255, 128,   0,  10, 244],\n",
       "        [  0,   0,  56, 255, 255, 255, 255, 255, 246,  74,   0,  10, 238],\n",
       "        [ 30,   0,   3,  36, 242, 255, 255, 255, 242,  49,   0,  10, 238],\n",
       "        [120,   0,   0,  21, 245, 255, 255, 255, 243,  52,   0,  10, 238],\n",
       "        [167,   0,   1,   0, 134, 255, 255, 255, 240,  15,   0,  10, 238],\n",
       "        [255, 147,   0,   0,   0, 194, 253, 255, 122,   0,   0,  10, 238],\n",
       "        [255, 217,  15,   0,   1,   0, 211, 255, 120,   0,   0,  10, 238],\n",
       "        [255, 255,  84,   0,   0,   1,   0, 226, 161,   4,   0,  10, 238],\n",
       "        [255, 255, 203,   4,   0,   0,   0, 105, 215,  11,   0,  10, 238],\n",
       "        [255, 255, 255,  65,   2,   0,   0,   0, 100,   7,   0,  10, 238],\n",
       "        [255, 255, 255, 239, 167,   0,   0,   0,  23,   5,   0,  10, 238],\n",
       "        [255, 255, 255, 255, 255, 138,   0,   0,   0,   1,   0,  12, 238],\n",
       "        [255, 255, 255, 255, 255, 241,   0,   0,   0,   0,   0,  18, 239],\n",
       "        [255, 255, 255, 255, 255, 255,  77,  20,   0,   0,   0,  41, 242],\n",
       "        [255, 255, 255, 255, 255, 255, 255, 214,   0,   0,   0,  34, 246],\n",
       "        [255, 255, 255, 255, 255, 255, 255, 251,  62,   0,   0,  63, 174],\n",
       "        [255, 255, 255, 255, 255, 255, 255, 255, 121,   0,   0,   0, 133],\n",
       "        [255, 255, 255, 255, 255, 255, 255, 255, 213,  13,   1,   0, 157],\n",
       "        [255, 255, 255, 255, 255, 255, 255, 255, 237,  18,   0, 114, 253],\n",
       "        [255, 255, 255, 255, 255, 255, 255, 255, 237,  18,   0, 177, 255],\n",
       "        [255, 255, 255, 255, 255, 255, 255, 255, 237,  18,   0,   5, 237],\n",
       "        [255, 255, 255, 255, 255, 255, 255, 255, 237,  18,   0,  10, 238],\n",
       "        [255, 255, 255, 255, 255, 255, 255, 255, 237,  18,   0,  10, 238],\n",
       "        [255, 255, 255, 255, 255, 255, 255, 255, 237,  18,   0,  10, 238],\n",
       "        [255, 255, 255, 255, 255, 255, 255, 255, 239,  29,   0,  10, 238],\n",
       "        [255, 255, 255, 255, 255, 255, 255, 255, 255, 142,   0,  10, 238],\n",
       "        [255, 255, 255, 255, 255, 255, 255, 255, 255, 255, 255, 255, 255],\n",
       "        [255, 255, 255, 255, 255, 255, 255, 255, 255, 255, 255, 255, 255],\n",
       "        [255, 255, 255, 255, 255, 255, 255, 255, 255, 255, 255, 255, 255],\n",
       "        [255, 255, 255, 255, 255, 255, 255, 255, 255, 255, 255, 255, 255],\n",
       "        [255, 255, 255, 255, 255, 255, 255, 255, 255, 255, 255, 255, 255],\n",
       "        [255, 255, 255, 255, 255, 255, 255, 255, 255, 255, 255, 255, 255],\n",
       "        [255, 255, 255, 255, 255, 255, 255, 255, 255, 255, 255, 255, 255],\n",
       "        [255, 255, 255, 255, 255, 255, 255, 255, 255, 255, 255, 255, 255]],\n",
       "       dtype=uint8),\n",
       " array([[85]], dtype=uint8),\n",
       " array([[255, 255, 255, 255, 255, 103,  36,  22,   0,   0,  28,  67, 255,\n",
       "         255, 255, 255, 255, 255, 255, 255, 255, 255, 255, 255, 255, 255,\n",
       "         255],\n",
       "        [255, 255, 255, 255, 255,   0,   0,   0,   0,   0,   0,   0,  51,\n",
       "         255, 255, 255, 255, 255, 255, 255, 255, 255, 255, 255, 255, 255,\n",
       "         255],\n",
       "        [255, 255, 255, 255,  42, 197,  41,  27,   0, 195,  57,   0,   0,\n",
       "          65, 255, 255, 255, 255, 255, 255, 255, 255, 255, 255, 255, 255,\n",
       "         255],\n",
       "        [255, 255, 255, 255, 158, 251, 255, 156,   0,  98, 255,  88,   0,\n",
       "           0, 227, 255, 255, 255, 255, 255, 255, 255, 255, 255, 255, 255,\n",
       "         255],\n",
       "        [255, 255, 255, 255, 255, 255, 255, 155,   0,  63, 255, 238,   0,\n",
       "           0, 183, 255, 255, 255, 255, 255, 255, 255, 255, 255, 255, 255,\n",
       "         255],\n",
       "        [255, 255, 255, 255, 255, 255, 255, 157,   0,   0, 255, 255,  59,\n",
       "           0, 179, 255, 255, 255, 255, 255, 255, 255, 255, 255, 255, 255,\n",
       "         255],\n",
       "        [255, 255, 255, 255, 255, 255, 255, 203,   0,   0, 255, 255,  57,\n",
       "           0,  48, 255, 255, 255, 255, 255, 255, 255, 255, 255, 255, 255,\n",
       "         255],\n",
       "        [255, 255, 255, 255, 255, 255, 255, 255,   0,   0, 255, 255,  57,\n",
       "           0,  39, 255, 255, 255, 255, 255, 255, 255, 255, 255, 255, 255,\n",
       "         255],\n",
       "        [255, 255, 255, 255, 255, 255, 255, 255,   0,   0, 212, 239,   0,\n",
       "           0,  35, 255, 255, 255, 255, 255, 255, 255, 255, 255, 255, 255,\n",
       "         255],\n",
       "        [255, 255, 255, 255, 255, 255, 255, 255,   0,   0, 222,  63,   0,\n",
       "           1, 255, 255, 255, 255, 255, 255, 255, 255, 255, 255, 255, 255,\n",
       "         255],\n",
       "        [255, 255, 255, 255, 255, 255, 255, 255,  21,   0,  56,   2,   0,\n",
       "         211, 254, 255, 255, 255, 255, 255, 255, 255, 255, 255, 255, 255,\n",
       "         255],\n",
       "        [255, 255, 255, 255, 255, 255, 133,  10,   4,   0,   1,  40, 255,\n",
       "         255, 255, 255, 255, 255, 255, 255, 255, 255, 255, 255, 255, 255,\n",
       "         255],\n",
       "        [255, 255, 255, 255, 255, 255,  65,   0,   0,   0,   0,   0,   0,\n",
       "          79, 243, 255, 255, 255, 255, 255, 255, 255, 255, 255, 255, 255,\n",
       "         255],\n",
       "        [255, 255, 255, 255, 255, 255, 255, 255,  10,   0,  14,   0,   0,\n",
       "           0,   0, 131, 145, 255, 255, 255, 255, 255, 255, 255, 255, 255,\n",
       "         255],\n",
       "        [255, 255, 255, 255, 255, 255, 255, 255,  70,   0,  44, 255, 151,\n",
       "           2,   0,   0,   0,  61, 216, 255, 255, 255, 255, 255, 255, 255,\n",
       "         255],\n",
       "        [255, 255, 255, 255, 255, 255, 255, 255, 211,   0,   0, 255, 255,\n",
       "         250, 210,  28,   0,   0,   0,  59, 232, 255, 255, 255, 255, 255,\n",
       "         255],\n",
       "        [255, 255, 255, 255, 255, 255, 255, 255, 216,   0,   0, 255, 255,\n",
       "         255, 255, 255, 170,  13,   0,   0,   0, 243, 255, 255, 255, 255,\n",
       "         255],\n",
       "        [255, 255, 255, 255, 255, 255, 255, 255, 241,   5,   0, 255, 255,\n",
       "         255, 255, 255, 255, 253, 122,  96,  90, 248, 255, 255, 255, 255,\n",
       "         255],\n",
       "        [255, 255, 255, 255, 255, 255, 255, 255, 212,   0,   0, 255, 255,\n",
       "         255, 255, 255, 255, 255, 255, 255, 255, 255, 255, 255, 255, 255,\n",
       "         255],\n",
       "        [255, 255, 255, 255, 255, 255, 255, 255, 255,  59,  47, 255, 255,\n",
       "         255, 255, 255, 255, 255, 255, 255, 255, 255, 255, 255, 255, 255,\n",
       "         255],\n",
       "        [202, 255, 255, 255, 255, 255, 255, 255, 255, 255, 255, 255, 255,\n",
       "         255, 255, 255, 255, 255, 255, 255, 255, 255, 255, 255, 255, 255,\n",
       "         255],\n",
       "        [ 95, 255, 255, 255, 255, 255, 255, 255, 255, 255, 255, 255, 255,\n",
       "         255, 255, 255, 255, 255, 255, 255, 255, 255, 255, 255, 255, 255,\n",
       "         255],\n",
       "        [249, 255, 255, 255, 255, 255, 255, 255, 255, 255, 255, 255, 255,\n",
       "         255, 255, 255, 255, 255, 255, 255, 255, 255, 255, 255, 255, 255,\n",
       "         255],\n",
       "        [255, 255, 255, 255, 255, 255, 255, 255, 255, 255, 255, 255, 255,\n",
       "         255, 255, 255, 255, 255, 255, 255, 255, 255, 255, 255, 255, 255,\n",
       "         255],\n",
       "        [255, 255, 255, 255, 255, 255, 255, 255, 255, 255, 255, 255, 255,\n",
       "         255, 255, 255, 255, 255, 255, 255, 255, 255, 255, 255, 255, 255,\n",
       "         255],\n",
       "        [255, 255, 255, 255, 255, 255, 255, 255, 255, 255, 255, 255, 255,\n",
       "         255, 255, 255, 255, 255, 255, 255, 255, 255, 255, 255, 255, 255,\n",
       "         255],\n",
       "        [255, 255, 255, 255, 255, 255, 255, 255, 255, 255, 255, 255, 255,\n",
       "         255, 255, 255, 255, 245, 253, 255, 255, 255, 255, 255, 255, 255,\n",
       "         245],\n",
       "        [255, 255, 255, 255, 255, 255, 255, 255, 255, 255, 255, 255, 255,\n",
       "         255, 255, 255, 255,  87,  83, 138, 255, 255, 255, 255, 255, 255,\n",
       "          84],\n",
       "        [255, 255, 255, 255, 255, 255, 255, 255, 255, 255, 255, 255, 255,\n",
       "         255, 255, 255, 255, 255, 255, 255, 255, 255, 255, 255, 255, 255,\n",
       "         255]], dtype=uint8),\n",
       " array([[255, 255, 255, 255, 255, 255, 255, 255, 255, 255, 255, 255, 255,\n",
       "         255],\n",
       "        [255, 255, 255, 255, 255, 255, 255, 255, 255, 255, 255, 255, 255,\n",
       "         255],\n",
       "        [255, 255, 255, 255, 255, 255, 255, 255, 255, 255, 255, 255, 255,\n",
       "         255],\n",
       "        [255, 255, 255, 255, 255, 255, 255, 255, 255, 255, 255, 255, 255,\n",
       "         255],\n",
       "        [255, 255, 255, 255, 255, 255, 255, 255, 255, 255, 255, 255, 255,\n",
       "         255],\n",
       "        [255, 255, 255, 255, 255, 255, 255, 255, 255, 255, 255, 255, 255,\n",
       "         255],\n",
       "        [255, 255, 255, 255, 255, 255, 255, 255, 255, 255, 255, 255, 255,\n",
       "         255],\n",
       "        [174,  21, 120, 106, 100, 100,  99, 250, 255, 255, 255, 255, 255,\n",
       "         255],\n",
       "        [ 17,   0,  44,   0,   0,   0,   0,  15, 216, 255, 255, 255, 255,\n",
       "         255],\n",
       "        [  0,   0,  12,   0,   0,  44,   0,   0,   0,  90, 196, 255, 255,\n",
       "         255],\n",
       "        [  0,   0,  32, 115, 217, 255, 221,  85,  30,  56, 173, 255, 255,\n",
       "         255],\n",
       "        [  0,   1,  31, 242, 255, 255, 255, 255, 158,   4,  59, 255, 255,\n",
       "         255],\n",
       "        [  0,   0, 222, 255, 255, 255, 255, 255, 239,   0,   0, 134, 255,\n",
       "         255],\n",
       "        [  0,  34, 253, 255, 255, 255, 255, 255, 255, 175,   0,   0, 135,\n",
       "         255],\n",
       "        [  6, 109, 255, 255, 255, 255, 255, 255, 255, 255,  11,   1,   0,\n",
       "         255],\n",
       "        [  0,  45, 255, 255, 255, 255, 255, 255, 255, 255, 255,   0,   2,\n",
       "          59],\n",
       "        [  0,  46, 255, 255, 255, 255, 255, 255, 255, 255, 255, 147,   0,\n",
       "           1],\n",
       "        [  0,   0, 227, 255, 255, 255, 255, 255, 255, 255, 255, 168,   0,\n",
       "           0],\n",
       "        [  0,   0, 222, 255, 255, 255, 255, 255, 255, 255, 188,   0,   0,\n",
       "          34],\n",
       "        [  7,   0, 120, 217, 255, 255, 255, 255, 253, 166,   0,   0,   0,\n",
       "         170],\n",
       "        [117,   0,   0,  28, 139, 247, 255, 255,  39,   0,   0,   0, 161,\n",
       "         255],\n",
       "        [240,  16,   1,   0,   0,   0,   0,   0,   0,   0,   0, 123, 255,\n",
       "         255],\n",
       "        [255, 255, 230,   5,   0,   0,   0,   0,   0, 130, 186, 255, 255,\n",
       "         255],\n",
       "        [255, 255, 255, 231, 217, 217, 217, 217, 219, 255, 255, 255, 255,\n",
       "         255],\n",
       "        [255, 255, 255, 255, 255, 255, 255, 255, 255, 255, 255, 255, 255,\n",
       "         255],\n",
       "        [255, 255, 255, 255, 255, 255, 255, 255, 255, 255, 255, 255, 255,\n",
       "         255],\n",
       "        [255, 255, 255, 255, 255, 255, 255, 255, 255, 255, 255, 255, 255,\n",
       "         255],\n",
       "        [255, 255, 255, 255, 255, 255, 255, 255, 255, 255, 255, 255, 255,\n",
       "         255],\n",
       "        [255, 255, 255, 255, 255, 255, 255, 255, 255, 255, 255, 255, 255,\n",
       "         255],\n",
       "        [255, 255, 255, 255, 255, 255, 255, 255, 255, 255, 255, 255, 255,\n",
       "         255],\n",
       "        [255, 255, 255, 255, 255, 255, 255, 255, 255, 255, 255, 255, 255,\n",
       "         255],\n",
       "        [255, 255, 255, 255, 255, 255, 255, 255, 255, 255, 255, 255, 255,\n",
       "         255],\n",
       "        [255, 255, 255, 255, 255, 255, 255, 255, 255, 255, 255, 255, 255,\n",
       "         255],\n",
       "        [255, 255, 255, 255, 255, 255, 255, 255, 255, 255, 255, 255, 255,\n",
       "         255],\n",
       "        [ 74, 151, 109,  81, 250, 255, 255, 255, 255, 255, 255, 255, 255,\n",
       "         255],\n",
       "        [255, 255, 255, 255, 255, 255, 255, 255, 255, 255, 255, 255, 255,\n",
       "         255],\n",
       "        [255, 255, 255, 255, 255, 255, 255, 255, 255, 255, 255, 255, 255,\n",
       "         255],\n",
       "        [255, 255, 255, 255, 255, 255, 255, 255, 255, 255, 255, 255, 255,\n",
       "         255],\n",
       "        [255, 255, 255, 255, 255, 255, 255, 255, 255, 255, 255, 255, 255,\n",
       "         255],\n",
       "        [255, 255, 255, 255, 255, 255, 255, 255, 255, 255, 255, 255, 255,\n",
       "         255],\n",
       "        [255, 255, 255, 255, 255, 255, 255, 255, 255, 255, 255, 255, 255,\n",
       "         255],\n",
       "        [255, 255, 255, 255, 255, 255, 255, 255, 255, 255, 255, 255, 255,\n",
       "         255]], dtype=uint8),\n",
       " array([[255, 255, 255, 255, 255, 255, 255, 255, 255, 255, 255, 255, 255],\n",
       "        [255, 255, 255, 255, 255, 255, 255, 255, 255, 255, 255, 255, 255],\n",
       "        [255, 255, 255, 255, 255, 255, 255, 255, 255, 255, 255, 255, 255],\n",
       "        [255, 255, 255, 255, 255, 255, 255, 255, 255, 255, 255, 255, 255],\n",
       "        [255, 255, 255, 255, 255, 255, 255, 255, 255, 255, 255, 255, 255],\n",
       "        [255, 255, 255, 255, 255, 255, 255, 255, 255, 255, 255, 255, 255],\n",
       "        [255, 255, 255, 255, 255, 255, 255, 255, 255, 255, 255, 255, 255],\n",
       "        [255, 255, 255,  70, 111, 255, 255, 255, 236,  27, 211, 255, 255],\n",
       "        [255, 255, 255,   9,   0,  36, 255, 255, 237,   0,  14, 255, 255],\n",
       "        [255, 255, 255, 128,   0,  43, 255, 255, 237,   0,   0, 255, 255],\n",
       "        [255, 255, 255, 133,   0,  43, 255, 255, 236,   0,   0, 255, 255],\n",
       "        [255, 255, 255, 133,   0,  35, 255, 255, 250,   0,   0, 255, 255],\n",
       "        [255, 255, 255, 131,   2,   0, 255, 255, 255,   0,   0, 255, 255],\n",
       "        [255, 255, 254, 145,   0,   0, 255, 255, 255,  90,   0, 105, 255],\n",
       "        [255, 255, 255,   8,   0,   0,   0,  14,  17,  20,   0,   4, 242],\n",
       "        [255, 255, 255,  65,   0,   0,   1,   1,   0,   0,   0,   0,  77],\n",
       "        [255, 255, 255, 255,   1,   0, 170, 204, 202,  76,   0,  11, 255],\n",
       "        [255, 255, 255, 253,  27,   0,  27, 255, 255, 158,   0,   1, 255],\n",
       "        [255, 255, 255, 255, 128,   0,  13, 255, 255, 206,   0,   1, 255],\n",
       "        [255, 255, 255, 255, 255,   0,   0, 226, 255, 255,   0,   1, 255],\n",
       "        [255, 255, 255, 255, 255,   0,   0, 227, 255, 255,   0,   0, 132],\n",
       "        [255, 255, 255, 255, 255,   0,   0, 143, 255, 255,  20,   0, 132],\n",
       "        [255, 255, 255, 255, 255, 105,   0,  67, 255, 255, 255,   0, 132],\n",
       "        [255, 255, 255, 255, 255, 197,   0,  67, 255, 255, 255,   0, 132],\n",
       "        [255, 255, 255, 255, 255, 254, 131, 170, 255, 255, 255, 140, 199],\n",
       "        [255, 255, 255, 255, 255, 255, 255, 255, 255, 255, 255, 255, 255],\n",
       "        [255, 255, 255, 255, 255, 255, 255, 255, 255, 255, 255, 255, 255],\n",
       "        [255, 255, 255, 255, 255, 255, 255, 255, 255, 255, 255, 255, 255],\n",
       "        [255, 255, 255, 255, 255, 255, 255, 255, 255, 255, 255, 255, 255],\n",
       "        [255, 255, 255, 255, 255, 255, 255, 255, 255, 255, 255, 255, 255],\n",
       "        [255, 255, 255, 255, 255, 255, 255, 255, 255, 255, 255, 255, 255],\n",
       "        [255, 255, 255, 255, 255, 255, 255, 255, 255, 255, 255, 255, 255],\n",
       "        [255, 255, 255, 255, 255, 255, 255, 255, 255, 255, 255, 255, 255],\n",
       "        [218, 255, 255, 255, 255, 255, 255, 255, 255, 255, 255, 255, 255],\n",
       "        [ 76, 255, 255, 255, 255, 192,  73, 132, 255, 255, 255, 255, 255],\n",
       "        [255, 255, 255, 255, 255, 255, 255, 255, 255, 255, 255, 255, 255],\n",
       "        [255, 255, 255, 255, 255, 255, 255, 255, 255, 255, 255, 255, 255],\n",
       "        [255, 255, 255, 255, 255, 255, 255, 255, 255, 255, 255, 255, 255],\n",
       "        [255, 255, 255, 255, 255, 255, 255, 255, 255, 255, 255, 255, 255],\n",
       "        [255, 255, 255, 255, 255, 255, 255, 255, 255, 255, 255, 255, 255],\n",
       "        [255, 255, 255, 255, 255, 255, 255, 255, 255, 255, 255, 255, 255],\n",
       "        [255, 255, 255, 255, 255, 255, 255, 255, 255, 255, 255, 255, 255],\n",
       "        [255, 255, 255, 255, 255, 255, 255, 255, 255, 255, 255, 255, 255]],\n",
       "       dtype=uint8),\n",
       " array([[ 83, 192, 255,  65, 252, 255, 255, 255, 255, 255, 255, 255, 255,\n",
       "         255, 255, 255, 255, 255, 255, 255, 255, 255, 255, 255, 255, 255,\n",
       "         255, 255,  76, 242, 255, 255, 255, 255, 255, 255, 255, 255, 255,\n",
       "         255, 255, 255, 255, 255, 233,  47, 101]], dtype=uint8),\n",
       " array([[255, 255, 255, 255, 255, 255, 255, 255, 255, 255, 255, 255, 255,\n",
       "         255, 255, 255],\n",
       "        [255, 255, 255, 255, 255, 255, 255, 255, 255, 255, 255, 255, 255,\n",
       "         255, 255, 255],\n",
       "        [255, 255, 255, 255, 255, 255, 255, 255, 255, 255, 255, 255, 255,\n",
       "         255, 255, 255],\n",
       "        [255, 255, 255, 255, 255, 255, 255, 255, 255, 255, 255, 255, 255,\n",
       "         255, 255, 255],\n",
       "        [255, 255, 255, 255, 255, 255, 255, 255, 255, 255, 255, 255, 255,\n",
       "         255, 255, 255],\n",
       "        [255, 255, 255, 255, 255, 255, 255, 255, 255, 255, 255, 255, 255,\n",
       "         255, 255, 255],\n",
       "        [  0,   0, 255, 255, 255, 255, 255, 255, 255, 255, 255, 255, 255,\n",
       "         255, 255, 255],\n",
       "        [  4,   1, 209, 255, 255, 255, 255, 255, 255, 255, 180, 156, 255,\n",
       "         255, 255, 255],\n",
       "        [  0,   0, 211, 255, 255, 255, 255, 255, 255, 255, 120,   0,  27,\n",
       "         255, 255, 255],\n",
       "        [ 52,   0,  92, 255, 255, 255, 255, 255, 255, 240,  55,   0,   9,\n",
       "         255, 255, 255],\n",
       "        [ 71,   0,   0, 255, 255, 255, 255, 255, 255, 231,  32,   1,   7,\n",
       "         255, 255, 255],\n",
       "        [255,   0,   0, 243, 255, 255, 255, 255, 255,  48,   0, 111, 255,\n",
       "         255, 255, 255],\n",
       "        [255,   0,   0, 185, 255, 255, 255, 255, 212,   0,   0, 110, 255,\n",
       "         255, 255, 255],\n",
       "        [255,  25,   0,  27, 255, 255, 255, 255,  38,   0,  60, 255, 255,\n",
       "         255, 255, 255],\n",
       "        [255,  96,   0,  29, 255, 255, 255, 255,   0,   0, 240, 255, 255,\n",
       "         255, 255, 255],\n",
       "        [255, 255,   0,   2, 204, 255, 255, 162,   0,   0, 233, 255, 255,\n",
       "         255, 255, 255],\n",
       "        [255, 255,  13,   0,  85, 255, 255,  59,   0,   3, 255, 255, 255,\n",
       "         255, 255, 255],\n",
       "        [255, 255,  39,   0,  89, 255, 255,   0,   0,  15, 255, 255, 255,\n",
       "         255, 255, 255],\n",
       "        [255, 255, 215,   0,  81, 255, 207,   0,   0, 188, 255, 255, 255,\n",
       "         255, 255, 255],\n",
       "        [255, 255, 243,   0,   0, 159,  25,   0, 139, 252, 255, 255, 255,\n",
       "         255, 255, 255],\n",
       "        [255, 255, 243,   0,   0, 123,   0,   0, 105, 255, 255, 255, 255,\n",
       "         255, 255, 255],\n",
       "        [255, 255, 255,   6,   0,  35,   0,   0,   0, 255, 255, 255, 255,\n",
       "         255, 255, 255],\n",
       "        [255, 255, 255,   3,   0,  14,   0,   0, 121, 255, 255, 255, 255,\n",
       "         255, 255, 255],\n",
       "        [255, 255, 255, 187,   0,   9,   0,   0, 187, 255, 255, 255, 255,\n",
       "         255, 255, 255],\n",
       "        [255, 255, 255, 255,   0,   0,   0,  36, 255, 255, 255, 255, 255,\n",
       "         255, 255, 255],\n",
       "        [255, 255, 255, 255,   7,   0,   0, 105, 255, 255, 255, 255, 255,\n",
       "         255, 255, 255],\n",
       "        [255, 255, 255, 255, 165,   0,  26, 255, 255, 255, 255, 255, 255,\n",
       "         255, 255, 255],\n",
       "        [255, 255, 255, 255, 255, 238, 242, 255, 255, 255, 255, 255, 255,\n",
       "         255, 255, 255],\n",
       "        [255, 255, 255, 255, 255, 255, 255, 255, 255, 255, 255, 255, 255,\n",
       "         255, 255, 255],\n",
       "        [255, 255, 255, 255, 255, 255, 255, 255, 255, 255, 255, 255, 255,\n",
       "         255, 255, 255],\n",
       "        [255, 255, 255, 255, 255, 255, 255, 255, 255, 255, 255, 255, 255,\n",
       "         255, 255, 255],\n",
       "        [255, 255, 255, 255, 255, 255, 255, 255, 255, 255, 255, 255, 255,\n",
       "         255, 255, 255],\n",
       "        [255, 255, 255, 255, 255, 255, 255, 255, 255, 255, 255, 255, 255,\n",
       "         255, 255, 255],\n",
       "        [255, 255, 255, 255, 255, 255, 255, 255, 255, 255, 255, 255,  67,\n",
       "          98, 253,  69],\n",
       "        [255, 255, 255, 255, 255, 255, 255, 255, 255, 255, 255, 255, 255,\n",
       "         255, 255, 255],\n",
       "        [255, 255, 255, 255, 255, 255, 255, 255, 255, 255, 255, 255, 255,\n",
       "         255, 255, 255],\n",
       "        [255, 255, 255, 255, 255, 255, 255, 255, 255, 255, 255, 255, 255,\n",
       "         255, 255, 255],\n",
       "        [255, 255, 255, 255, 255, 255, 255, 255, 255, 255, 255, 255, 255,\n",
       "         255, 255, 255],\n",
       "        [255, 255, 255, 255, 255, 255, 255, 255, 255, 255, 255, 255, 255,\n",
       "         255, 255, 255],\n",
       "        [255, 255, 255, 255, 255, 255, 255, 255, 255, 255, 255, 255, 255,\n",
       "         255, 255, 255]], dtype=uint8),\n",
       " array([[255, 255, 255, 255, 255, 255, 255, 255, 255, 255, 255, 255, 255,\n",
       "         255, 255, 255, 255, 255, 255, 255, 255, 255, 255, 255, 255],\n",
       "        [255, 255, 255, 255, 255, 255, 255, 255, 255, 255, 255, 255, 255,\n",
       "         210,  45,   2,   0,   0,   2,  39, 119, 255, 255, 255, 255],\n",
       "        [255, 255, 255, 255, 255, 255, 255, 255, 255, 255, 255, 255,  52,\n",
       "           0,   0,   0,   0,   0,   0,   0,   0, 131, 255, 255, 255],\n",
       "        [255, 255, 255, 255, 255, 255, 255, 255, 255, 255, 224, 223,   0,\n",
       "           0,   0, 204, 250, 244, 172,   5,   0,   0, 211, 251, 255],\n",
       "        [255, 255, 255, 255, 255, 255, 255, 255, 255, 255, 140,   0,   0,\n",
       "          30, 255, 254, 255, 255, 255, 248,  15,   1,   0, 140, 255],\n",
       "        [255, 255, 255, 255, 255, 255, 255, 255, 255, 255, 129,   0,   0,\n",
       "         203, 255, 255, 255, 255, 255, 255, 255,  27,   0,   4, 255],\n",
       "        [255, 255, 255, 255, 255, 255, 255, 255, 255, 254, 135,   0, 214,\n",
       "         254, 255, 255, 255, 255, 255, 255, 254, 168,   0,   0, 255],\n",
       "        [255, 255, 255, 255, 255, 255, 255, 255, 255, 254, 142,   0, 251,\n",
       "         255, 255, 255, 255, 255, 255, 255, 255, 255, 144, 124,  15],\n",
       "        [255, 255, 255, 255, 255, 255, 255, 255, 255, 255,   9,   0, 251,\n",
       "         255, 255, 255, 255, 255, 255, 255, 255, 255, 255,  25,  10],\n",
       "        [255, 255, 255, 255, 255, 255, 255, 255, 255, 255,  11,   0, 251,\n",
       "         255, 255, 255, 255, 255, 255, 255, 255, 255, 255,   0,   9],\n",
       "        [255, 255, 255, 255, 255, 255, 255, 255, 255, 255,  11,   0, 251,\n",
       "         255, 255, 255, 255, 255, 255, 255, 255, 255, 255,   0,  14],\n",
       "        [255, 255, 255, 255, 255, 255, 255, 255, 255, 255,  11,   0, 255,\n",
       "         255, 255, 255, 255, 255, 255, 255, 255, 255, 255,   0,   0],\n",
       "        [255, 255, 255, 255, 255, 255, 255, 255, 255, 255,  61,   0,   0,\n",
       "         255, 253, 255, 255, 255, 255, 255, 255, 255, 255,   0,   0],\n",
       "        [255, 255, 255, 255, 255, 255, 255, 255, 255, 255, 238,   0,   0,\n",
       "           0, 255, 255, 255, 255, 255, 255, 255, 255, 255,   0,   0],\n",
       "        [255, 255, 255, 255, 255, 255, 255, 255, 255, 255, 255,  60,   0,\n",
       "           0,   2, 160, 255, 255, 255, 255, 255, 255, 197,   0,   1],\n",
       "        [255, 255, 255, 255, 255, 255, 255, 255, 255, 255, 255, 255,  79,\n",
       "           0,   0,   1,   0, 122, 255, 250, 153,   0,   0,   0,  41],\n",
       "        [255, 255, 255, 255, 255, 255, 255, 255, 255, 255, 255, 255, 255,\n",
       "         148,  14,   0,   0,   0,   0,   0,   0,   0,   0,   0, 214],\n",
       "        [255, 255, 255, 255, 255, 255, 255, 255, 255, 255, 255, 255, 255,\n",
       "         255, 255, 160,  80,   0,   0,   0,   0,  20, 174, 226, 254],\n",
       "        [255, 255, 255, 255, 255, 255, 255, 255, 255, 255, 255, 255, 255,\n",
       "         255, 255, 255, 255, 249, 249, 249, 249, 254, 255, 255, 255],\n",
       "        [255, 255, 255, 255, 255, 255, 255, 255, 255, 255, 255, 255, 255,\n",
       "         255, 255, 255, 255, 255, 255, 255, 255, 255, 255, 255, 255],\n",
       "        [255, 255, 255, 255, 255, 255, 255, 255, 255, 255, 255, 255, 255,\n",
       "         255, 255, 255, 255, 255, 255, 255, 255, 255, 255, 255, 255],\n",
       "        [255, 255, 255, 255, 255, 255, 255, 255, 255, 255, 255, 255, 255,\n",
       "         255, 255, 255, 255, 255, 255, 255, 255, 255, 255, 255, 255],\n",
       "        [255, 255, 255, 255, 255, 255, 255, 255, 255, 255, 255, 255, 255,\n",
       "         255, 255, 255, 255, 255, 255, 255, 255, 255, 255, 255, 255],\n",
       "        [255, 255, 255, 255, 255, 255, 255, 255, 255, 255, 255, 255, 255,\n",
       "         255, 255, 255, 255, 255, 255, 255, 255, 255, 255, 255, 255],\n",
       "        [255, 255, 255, 255, 255, 255, 255, 255, 255, 255, 255, 255, 255,\n",
       "         255, 255, 255, 255, 255, 255, 255, 255, 255, 255, 255, 255],\n",
       "        [255, 255, 255, 255, 255, 255, 255, 255, 255, 255, 255, 255, 255,\n",
       "         255, 255, 255, 255, 255, 255, 255, 255, 255, 255, 255, 255],\n",
       "        [255, 255, 255, 255, 255, 255, 255, 255, 255, 255, 255, 255, 255,\n",
       "         255, 255, 255, 255, 255, 255, 255, 255, 255, 255, 255, 255],\n",
       "        [255, 255, 255, 253, 215, 235, 255, 255, 255, 255, 255, 255, 255,\n",
       "         255, 255, 255, 255, 255, 255, 255, 255, 255, 255, 255, 254],\n",
       "        [ 11, 255, 158, 140,  45, 141, 255, 255, 255, 255, 143,  24, 251,\n",
       "         255, 255, 255, 255, 255, 248,  84, 128, 139, 255,  35, 255],\n",
       "        [255, 255, 255, 255, 255, 255, 255, 255, 255, 255, 255, 255, 255,\n",
       "         255, 255, 255, 255, 255, 255, 255, 255, 255, 255, 255, 255],\n",
       "        [255, 255, 255, 255, 255, 255, 255, 255, 255, 255, 255, 255, 255,\n",
       "         255, 255, 255, 255, 255, 255, 255, 255, 255, 255, 255, 255]],\n",
       "       dtype=uint8),\n",
       " array([[255, 255, 255, 255, 255, 255, 255, 255, 255, 255, 255, 255, 255,\n",
       "         255, 255, 255, 255, 255, 255, 255, 255, 255, 255, 255],\n",
       "        [255, 255, 255, 255, 255, 255, 255, 255, 255, 255, 255, 255, 255,\n",
       "         255, 255, 255, 255, 255, 255, 255, 255, 255, 255, 255],\n",
       "        [255, 255, 255, 255, 255, 255, 255, 255, 255, 255, 255, 255,   0,\n",
       "           0, 255, 255, 255, 255, 255, 255, 255, 255, 255, 255],\n",
       "        [255, 255, 255, 255, 255, 255, 255, 255, 255, 255, 255, 255,   0,\n",
       "           0,  44, 255, 255, 255, 255, 255, 255, 255, 255, 255],\n",
       "        [255, 255, 255, 255, 255, 255, 255, 255, 255, 255, 255, 255,   0,\n",
       "           0,  42, 255, 255, 255, 255, 255, 255, 255, 255, 255],\n",
       "        [255, 255, 255, 255, 255, 255, 255, 255, 255, 255, 255, 255,   0,\n",
       "           0,  42, 255, 255, 255, 255, 255, 255, 255, 255, 255],\n",
       "        [255, 255, 255, 255, 255, 255, 255, 255, 255, 255, 255, 255,   0,\n",
       "           0,  81, 255, 255, 255, 255, 255, 255, 255, 255, 255],\n",
       "        [255, 255, 255, 255, 255, 255, 255, 255, 255, 255, 255, 255,   0,\n",
       "           0,  38, 255, 255, 255, 255, 255, 255, 255, 255, 255],\n",
       "        [255, 255, 255, 255, 255, 255, 255, 255, 255, 255, 255, 255,   0,\n",
       "           0,  42, 255, 255, 255, 255, 255, 255, 255, 255, 255],\n",
       "        [255, 255, 255, 255, 255, 255, 255, 255, 255, 255, 255, 255,   0,\n",
       "           0,  42, 255, 255, 255, 255, 255, 255, 255, 255, 255],\n",
       "        [255, 255, 255, 255, 255, 255, 255, 255, 255, 255, 255, 255,   0,\n",
       "           0,  42, 255, 255, 255, 255, 255, 255, 255, 255, 255],\n",
       "        [255, 255, 255, 255, 255, 255, 255, 255, 255, 255, 255, 255,   0,\n",
       "           0,  42, 255, 255, 255, 255, 255, 255, 255, 255, 255],\n",
       "        [255, 255, 255, 255, 255, 255, 255, 255, 255, 255, 255, 255,   0,\n",
       "           0,  42, 255, 255, 255, 255, 255, 255, 255, 255, 255],\n",
       "        [255, 255, 255, 255, 255, 255, 255, 255, 255, 255, 255, 255,   0,\n",
       "           0,  42, 255, 255, 255, 255, 255, 255, 255, 255, 255],\n",
       "        [255, 255, 255, 255, 255, 255, 255, 255, 255, 255, 255, 255,   0,\n",
       "           0, 210, 245, 240, 229,   3,   0,   0,   0,   0,   0],\n",
       "        [255, 255, 255, 255, 255, 255, 255, 255, 255, 255, 255, 255,   0,\n",
       "           0,   0,   0,   0,   0,   0,   0,   0,   0,   0,   0],\n",
       "        [255, 255, 255, 255, 255, 255, 255, 255, 255, 255, 255,  75,   0,\n",
       "           0,   0,   0,   9,  11, 188, 184, 255, 255, 255, 255],\n",
       "        [255, 255, 255, 255, 255, 255, 255, 255, 255, 255, 255,  80,   0,\n",
       "           0,  76, 255, 254, 255, 255, 255, 255, 255, 255, 255],\n",
       "        [255, 255, 255, 255, 255, 255, 255, 255, 255, 255, 255, 255, 173,\n",
       "         228, 255, 255, 255, 255, 255, 255, 255, 255, 255, 255],\n",
       "        [255, 255, 255, 255, 255, 255, 255, 255, 255, 255, 255, 255, 255,\n",
       "         255, 255, 255, 255, 255, 255, 255, 255, 255, 255, 255],\n",
       "        [255, 255, 255, 255, 255, 255, 255, 255, 255, 255, 255, 255, 255,\n",
       "         255, 255, 255, 255, 255, 255, 255, 255, 255, 255, 255],\n",
       "        [255, 255, 255, 255, 255, 255, 255, 255, 255, 255, 255, 255, 255,\n",
       "         255, 255, 255, 255, 255, 255, 255, 255, 255, 255, 255],\n",
       "        [255, 255, 255, 255, 255, 255, 255, 255, 255, 255, 255, 255, 255,\n",
       "         255, 255, 255, 255, 255, 255, 255, 255, 255, 255, 255],\n",
       "        [255, 255, 255, 255, 255, 255, 255, 255, 255, 255, 255, 255, 255,\n",
       "         255, 255, 255, 255, 255, 255, 255, 255, 255, 255, 255],\n",
       "        [255, 255, 255, 255, 255, 255, 255, 255, 255, 255, 255, 255, 255,\n",
       "         255, 255, 255, 255, 255, 255, 255, 255, 255, 255, 255],\n",
       "        [255, 255, 255, 255, 255, 255, 255, 255, 255, 255, 255, 255, 255,\n",
       "         255, 255, 255, 255, 255, 255, 255, 255, 255, 255, 255],\n",
       "        [255, 255, 255, 255, 255, 255, 255, 255, 255, 255, 255, 255, 255,\n",
       "         255, 255, 255, 255, 255, 255, 255, 255, 255, 255, 255],\n",
       "        [255, 255, 255, 255, 255, 255, 255, 255, 255, 255, 255, 255, 255,\n",
       "         255, 255, 255, 255, 255, 255, 255, 255, 255, 255, 255],\n",
       "        [249, 244, 249, 248, 249, 255, 255, 255, 255, 255, 252, 247, 244,\n",
       "         250, 255, 255, 255, 254, 244, 253, 248, 255, 247, 254],\n",
       "        [ 88,  67, 152, 142, 151, 255, 255, 255, 255, 255, 202, 124,  61,\n",
       "         177, 255, 255, 255, 242,   0, 219, 137, 255,  53, 245],\n",
       "        [255, 255, 255, 255, 255, 255, 255, 255, 255, 255, 255, 255, 255,\n",
       "         255, 255, 255, 255, 255, 255, 255, 255, 255, 255, 255],\n",
       "        [255, 255, 255, 255, 255, 255, 255, 255, 255, 255, 255, 255, 255,\n",
       "         255, 255, 255, 255, 255, 255, 255, 255, 255, 255, 255]],\n",
       "       dtype=uint8),\n",
       " array([[255, 255, 255, 255, 255, 255, 255, 255, 255, 255, 255, 255, 255,\n",
       "         255, 255, 255, 255, 255, 255, 255, 255],\n",
       "        [255, 255, 255, 255, 255, 255, 255, 255, 255, 255, 255, 255, 255,\n",
       "         255, 255, 255, 255, 255, 255, 255, 255],\n",
       "        [255, 255, 255, 255, 255, 255, 255, 255, 255, 255, 255, 255, 255,\n",
       "         255, 255, 255, 255, 255, 255, 255, 255],\n",
       "        [255, 234,   4,   0,   0, 168, 253, 255, 255, 255, 255, 255, 255,\n",
       "         255, 255, 255, 255, 255, 255, 255, 255],\n",
       "        [255, 249,  78,   0,   0,  57, 199, 223, 255, 255, 255, 255, 255,\n",
       "         255, 255, 255, 255, 255, 255, 255, 255],\n",
       "        [255, 231,   0,   0,   0,   0,   0,  13, 129, 131, 132, 131, 132,\n",
       "         132, 132, 132, 131, 132, 131, 132, 205],\n",
       "        [255, 232,   0,   0,   0,   0,   0,   0,   0,   0,   0,   0,   0,\n",
       "           0,   0,   0,   0,   0,   0,   0,  64],\n",
       "        [255, 232,   0,   0,   0,   0,   0,   0,   0,   0,   0,   0,   0,\n",
       "           0,   0,   0,   0,   0,   0,   0,  17],\n",
       "        [255, 232,   0,   0,   0,  17,  55,  55,  55,  55,  55,  55,  55,\n",
       "          55,  55,  55,  55,  55,  55,  54,  66],\n",
       "        [255, 229,   0,   1,   0,  46, 231, 245, 245, 245, 245, 245, 245,\n",
       "         245, 245, 245, 245, 245, 244, 245, 244],\n",
       "        [255, 255, 117,   0,   0,  44, 244, 202, 201, 201, 201, 201, 201,\n",
       "         201, 201, 197, 244, 255, 255, 255, 255],\n",
       "        [ 77, 184,   0,   1,   0,  13,  79,   0,   0,   0,   0,   0,   0,\n",
       "           0,   0,   0, 199, 255, 255, 255, 255],\n",
       "        [  0,  15,   0,   0,   0,   0,   0,   0,   0,   0,   0,   1,   1,\n",
       "           1,   0,   0, 202, 255, 255, 255, 255],\n",
       "        [  0,  11,  11,   0,   0,   0,   9,  18,  18,  19,  29, 104,  74,\n",
       "          79,  63,  49, 204, 255, 255, 255, 255],\n",
       "        [ 79,  84, 155,   0,   0,   0, 120, 253, 245, 245, 245, 251, 249,\n",
       "         250, 248, 248, 252, 255, 255, 255, 255],\n",
       "        [255, 255, 168,   0,   0,   0,  95, 254, 255, 255, 255, 255, 255,\n",
       "         255, 255, 255, 255, 255, 255, 255, 255],\n",
       "        [255, 255, 242,  58,   0,   0,   0, 220, 255, 255, 255, 255, 255,\n",
       "         255, 255, 255, 255, 255, 255, 255, 255],\n",
       "        [255, 255, 249,  61,   0,   0,   0, 185, 255, 255, 255, 255, 255,\n",
       "         255, 255, 255, 255, 255, 255, 255, 255],\n",
       "        [255, 255, 253, 142,   4,   0,   0,  36, 251, 255, 255, 255, 255,\n",
       "         255, 255, 255, 255, 255, 255, 255, 255],\n",
       "        [255, 255, 255, 208,  13,   6,   7,  57, 252, 255, 255, 255, 255,\n",
       "         255, 255, 255, 255, 255, 255, 255, 255],\n",
       "        [255, 255, 255, 255, 129,  57,  69, 170, 254, 255, 255, 255, 255,\n",
       "         255, 255, 255, 255, 255, 255, 255, 255],\n",
       "        [255, 255, 255, 255, 121,   0,   0,  90, 253, 255, 255, 255, 255,\n",
       "         255, 255, 254, 255, 255, 255, 255, 255],\n",
       "        [255, 255, 255, 255, 134,   0,   5,  99, 217, 255, 255, 255, 255,\n",
       "         255, 255, 255,  88,  87, 205, 231, 255],\n",
       "        [255, 255, 255, 255, 247,  48,  46,  26,   9, 255, 255, 255, 255,\n",
       "         255, 255, 255,  10,   0,  17, 116, 255],\n",
       "        [255, 255, 255, 255, 255,  71,   3,   0,   0, 223, 255, 255, 255,\n",
       "         255, 255, 255,   9,   0,   0,  14, 197],\n",
       "        [255, 255, 255, 255, 255, 174,   0,   0,   0,  12, 212, 255, 255,\n",
       "         255, 255, 255, 112,   0,   0,   0,  47],\n",
       "        [255, 255, 255, 255, 255, 255,  79,   0,   0,   0,   0, 230, 255,\n",
       "         255, 255, 255, 245,   0,   0,   0,  44],\n",
       "        [255, 255, 255, 255, 255, 255, 184,   0,   0,   0,   0,   0, 144,\n",
       "         244, 255, 186, 120,  67,   0,   0,  24],\n",
       "        [255, 255, 255, 255, 255, 255, 255, 203,   0,   0,   0,   0,   0,\n",
       "          11,  13,   6,   0,   0,   0,   0,   6],\n",
       "        [255, 255, 255, 255, 255, 255, 255, 228, 113,   0,   0,   0,   0,\n",
       "           0,   0,   0,   0,   0,   0,   0,  22],\n",
       "        [255, 255, 255, 255, 255, 255, 255, 255, 255, 188,  51,  43,   0,\n",
       "           0,   0,   0,   0,   0,  57,  60, 201],\n",
       "        [255, 255, 255, 255, 255, 255, 255, 255, 255, 255, 255, 255, 255,\n",
       "         255, 255, 255, 255, 255, 255, 255, 255],\n",
       "        [255, 255, 255, 255, 255, 255, 255, 255, 255, 255, 255, 255, 255,\n",
       "         255, 255, 255, 255, 255, 255, 255, 255],\n",
       "        [255, 255, 255, 255, 255, 255, 255, 255, 255, 255, 255, 255, 255,\n",
       "         255, 255, 255, 255, 255, 255, 255, 255],\n",
       "        [255, 255, 255, 255, 255, 255, 255, 255, 255, 255, 255, 255, 255,\n",
       "         255, 255, 255, 255, 255, 255, 255, 255]], dtype=uint8),\n",
       " array([[255, 255, 255, 255, 255, 255, 255, 255, 255, 255],\n",
       "        [255, 255, 255, 255, 255, 255, 255, 255, 255, 255],\n",
       "        [255, 255, 255, 255, 255, 255, 255, 255, 255, 255],\n",
       "        [255, 255, 255, 255, 255, 255, 255, 255, 255, 255],\n",
       "        [255, 255, 255, 255, 255, 255, 255, 255, 255, 255],\n",
       "        [255, 255, 255, 255, 255, 255, 255, 255, 255, 255],\n",
       "        [255, 255, 255, 255, 255, 255, 255, 255, 255, 255],\n",
       "        [255, 255, 255, 255, 255, 255, 255, 255, 255, 255],\n",
       "        [255, 255, 255, 255, 255, 255, 255, 255, 255, 255],\n",
       "        [255, 255, 255, 255,   9,   0, 206, 255, 255, 255],\n",
       "        [255, 255, 255, 255, 115,  97, 221, 255, 255, 255],\n",
       "        [255, 255, 255, 255,  28,   0, 239, 255, 255, 255],\n",
       "        [255, 255, 255, 255,  18,   0, 255, 255, 255, 255],\n",
       "        [255, 255, 255, 255,  17,   0, 176, 255, 255, 255],\n",
       "        [255, 255, 255, 255, 137,   0, 176, 255, 255, 255],\n",
       "        [255, 255, 255, 255, 131,   0, 176, 255, 255, 255],\n",
       "        [255, 255, 255, 255, 123,   0,   0, 255, 255, 255],\n",
       "        [255, 255, 255, 255, 255,   0,   0, 254, 255, 255],\n",
       "        [255, 255, 255, 255, 255,  41,   0, 255, 255, 255],\n",
       "        [255, 255, 255, 255, 255, 208,  24, 255, 255, 255],\n",
       "        [255, 255, 255, 255, 255, 255, 255, 255, 255, 255],\n",
       "        [255, 255, 255, 255, 255, 255, 255, 255, 255, 255],\n",
       "        [255, 255, 255, 255, 255, 255, 255, 255, 255, 255],\n",
       "        [255, 255, 255, 255, 255,   0,   0,   0,   0,   0],\n",
       "        [255, 255, 255, 255, 255,   0,   0,  20,  17,   0],\n",
       "        [255, 255, 255, 255, 255,  96,   0,   0,   0,   0],\n",
       "        [255, 255, 255, 255, 255, 246,  94,  60,  84, 246],\n",
       "        [255, 255, 255, 255, 255, 255, 255, 255, 255, 255],\n",
       "        [255, 255, 255, 255, 255, 255, 255, 255, 255, 255],\n",
       "        [255, 255, 255, 255, 255, 255, 255, 255, 255, 255],\n",
       "        [255, 255, 255, 255, 255, 255, 255, 255, 255, 255],\n",
       "        [255, 255, 255, 255, 255, 255, 255, 255, 255, 255],\n",
       "        [255, 255, 255, 255, 255, 255, 255, 255, 255, 255],\n",
       "        [255, 255, 255, 255, 255, 255, 255, 255, 255, 255],\n",
       "        [255, 255, 255, 255, 255, 255, 255, 255, 255, 255],\n",
       "        [255, 255, 255, 255, 255, 255, 255, 255, 255, 255],\n",
       "        [ 71, 255, 255, 255, 255, 255, 255, 255, 255, 255],\n",
       "        [255, 255, 255, 255, 255, 255, 255, 255, 255, 255],\n",
       "        [255, 255, 255, 255, 255, 255, 255, 255, 255, 255],\n",
       "        [255, 255, 255, 255, 255, 255, 255, 255, 255, 255],\n",
       "        [255, 255, 255, 255, 255, 255, 255, 255, 255, 255],\n",
       "        [255, 255, 255, 255, 255, 255, 255, 255, 255, 255],\n",
       "        [255, 255, 255, 255, 255, 255, 255, 255, 255, 255],\n",
       "        [255, 255, 255, 255, 255, 255, 255, 255, 255, 255],\n",
       "        [255, 255, 255, 255, 255, 255, 255, 255, 255, 255],\n",
       "        [255, 255, 255, 255, 255, 255, 255, 255, 255, 255]], dtype=uint8)]"
      ]
     },
     "execution_count": 10,
     "metadata": {},
     "output_type": "execute_result"
    }
   ],
   "source": [
    "import pickle\n",
    "with open(\"./test/example_forms/julinka_dotaznik/example_letters.pickle\", \"wb\") as fp:   #Pickling\n",
    "    pickle.dump(l, fp)\n",
    "    with open(\"./test/example_forms/julinka_dotaznik/example_letters.pickle\", \"rb\") as fp:   # Unpickling\n",
    "        b = pickle.load(fp)\n",
    "b"
   ]
  },
  {
   "cell_type": "code",
   "execution_count": null,
   "metadata": {},
   "outputs": [],
   "source": []
  }
 ],
 "metadata": {
  "hide_input": false,
  "kernelspec": {
   "display_name": "Python 3",
   "language": "python",
   "name": "python3"
  },
  "language_info": {
   "codemirror_mode": {
    "name": "ipython",
    "version": 3
   },
   "file_extension": ".py",
   "mimetype": "text/x-python",
   "name": "python",
   "nbconvert_exporter": "python",
   "pygments_lexer": "ipython3",
   "version": "3.7.5"
  },
  "toc": {
   "base_numbering": 1,
   "nav_menu": {},
   "number_sections": true,
   "sideBar": true,
   "skip_h1_title": false,
   "title_cell": "Table of Contents",
   "title_sidebar": "Contents",
   "toc_cell": false,
   "toc_position": {},
   "toc_section_display": true,
   "toc_window_display": false
  },
  "varInspector": {
   "cols": {
    "lenName": 16,
    "lenType": 16,
    "lenVar": 40
   },
   "kernels_config": {
    "python": {
     "delete_cmd_postfix": "",
     "delete_cmd_prefix": "del ",
     "library": "var_list.py",
     "varRefreshCmd": "print(var_dic_list())"
    },
    "r": {
     "delete_cmd_postfix": ") ",
     "delete_cmd_prefix": "rm(",
     "library": "var_list.r",
     "varRefreshCmd": "cat(var_dic_list()) "
    }
   },
   "types_to_exclude": [
    "module",
    "function",
    "builtin_function_or_method",
    "instance",
    "_Feature"
   ],
   "window_display": false
  }
 },
 "nbformat": 4,
 "nbformat_minor": 4
}
